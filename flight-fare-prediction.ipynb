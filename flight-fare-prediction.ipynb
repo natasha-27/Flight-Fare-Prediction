{
 "cells": [
  {
   "cell_type": "markdown",
   "id": "8a7e7a9e",
   "metadata": {},
   "source": [
    "# Setup"
   ]
  },
  {
   "cell_type": "code",
   "execution_count": 1,
   "id": "patient-commitment",
   "metadata": {
    "execution": {
     "iopub.execute_input": "2021-06-19T07:43:34.837392Z",
     "iopub.status.busy": "2021-06-19T07:43:34.832308Z",
     "iopub.status.idle": "2021-06-19T07:43:35.935305Z",
     "shell.execute_reply": "2021-06-19T07:43:35.934409Z",
     "shell.execute_reply.started": "2021-05-25T10:21:05.830499Z"
    },
    "papermill": {
     "duration": 1.210033,
     "end_time": "2021-06-19T07:43:35.935468",
     "exception": false,
     "start_time": "2021-06-19T07:43:34.725435",
     "status": "completed"
    },
    "tags": []
   },
   "outputs": [],
   "source": [
    "#importing libraries\n",
    "import pandas as pd \n",
    "import numpy as np \n",
    "import seaborn as sns \n",
    "\n",
    "import matplotlib.pyplot as plt\n",
    "\n",
    "from sklearn.model_selection import train_test_split\n",
    "\n",
    "import warnings\n",
    "warnings.filterwarnings('ignore')\n"
   ]
  },
  {
   "cell_type": "markdown",
   "id": "2c049d2f",
   "metadata": {},
   "source": [
    "# Get the Data"
   ]
  },
  {
   "cell_type": "markdown",
   "id": "c92b96ee",
   "metadata": {},
   "source": [
    "#### Download the Data"
   ]
  },
  {
   "cell_type": "code",
   "execution_count": 2,
   "id": "deadly-divorce",
   "metadata": {
    "execution": {
     "iopub.execute_input": "2021-06-19T07:43:46.858486Z",
     "iopub.status.busy": "2021-06-19T07:43:46.857415Z",
     "iopub.status.idle": "2021-06-19T07:43:50.300188Z",
     "shell.execute_reply": "2021-06-19T07:43:50.299511Z",
     "shell.execute_reply.started": "2021-05-25T10:21:10.3083Z"
    },
    "papermill": {
     "duration": 3.549892,
     "end_time": "2021-06-19T07:43:50.300325",
     "exception": false,
     "start_time": "2021-06-19T07:43:46.750433",
     "status": "completed"
    },
    "tags": []
   },
   "outputs": [
    {
     "data": {
      "text/html": [
       "<div>\n",
       "<style scoped>\n",
       "    .dataframe tbody tr th:only-of-type {\n",
       "        vertical-align: middle;\n",
       "    }\n",
       "\n",
       "    .dataframe tbody tr th {\n",
       "        vertical-align: top;\n",
       "    }\n",
       "\n",
       "    .dataframe thead th {\n",
       "        text-align: right;\n",
       "    }\n",
       "</style>\n",
       "<table border=\"1\" class=\"dataframe\">\n",
       "  <thead>\n",
       "    <tr style=\"text-align: right;\">\n",
       "      <th></th>\n",
       "      <th>Airline</th>\n",
       "      <th>Date_of_Journey</th>\n",
       "      <th>Source</th>\n",
       "      <th>Destination</th>\n",
       "      <th>Route</th>\n",
       "      <th>Dep_Time</th>\n",
       "      <th>Arrival_Time</th>\n",
       "      <th>Duration</th>\n",
       "      <th>Total_Stops</th>\n",
       "      <th>Additional_Info</th>\n",
       "      <th>Price</th>\n",
       "    </tr>\n",
       "  </thead>\n",
       "  <tbody>\n",
       "    <tr>\n",
       "      <th>0</th>\n",
       "      <td>IndiGo</td>\n",
       "      <td>24/03/2019</td>\n",
       "      <td>Banglore</td>\n",
       "      <td>New Delhi</td>\n",
       "      <td>BLR → DEL</td>\n",
       "      <td>22:20</td>\n",
       "      <td>01:10 22 Mar</td>\n",
       "      <td>2h 50m</td>\n",
       "      <td>non-stop</td>\n",
       "      <td>No info</td>\n",
       "      <td>3897</td>\n",
       "    </tr>\n",
       "    <tr>\n",
       "      <th>1</th>\n",
       "      <td>Air India</td>\n",
       "      <td>1/05/2019</td>\n",
       "      <td>Kolkata</td>\n",
       "      <td>Banglore</td>\n",
       "      <td>CCU → IXR → BBI → BLR</td>\n",
       "      <td>05:50</td>\n",
       "      <td>13:15</td>\n",
       "      <td>7h 25m</td>\n",
       "      <td>2 stops</td>\n",
       "      <td>No info</td>\n",
       "      <td>7662</td>\n",
       "    </tr>\n",
       "    <tr>\n",
       "      <th>2</th>\n",
       "      <td>Jet Airways</td>\n",
       "      <td>9/06/2019</td>\n",
       "      <td>Delhi</td>\n",
       "      <td>Cochin</td>\n",
       "      <td>DEL → LKO → BOM → COK</td>\n",
       "      <td>09:25</td>\n",
       "      <td>04:25 10 Jun</td>\n",
       "      <td>19h</td>\n",
       "      <td>2 stops</td>\n",
       "      <td>No info</td>\n",
       "      <td>13882</td>\n",
       "    </tr>\n",
       "    <tr>\n",
       "      <th>3</th>\n",
       "      <td>IndiGo</td>\n",
       "      <td>12/05/2019</td>\n",
       "      <td>Kolkata</td>\n",
       "      <td>Banglore</td>\n",
       "      <td>CCU → NAG → BLR</td>\n",
       "      <td>18:05</td>\n",
       "      <td>23:30</td>\n",
       "      <td>5h 25m</td>\n",
       "      <td>1 stop</td>\n",
       "      <td>No info</td>\n",
       "      <td>6218</td>\n",
       "    </tr>\n",
       "    <tr>\n",
       "      <th>4</th>\n",
       "      <td>IndiGo</td>\n",
       "      <td>01/03/2019</td>\n",
       "      <td>Banglore</td>\n",
       "      <td>New Delhi</td>\n",
       "      <td>BLR → NAG → DEL</td>\n",
       "      <td>16:50</td>\n",
       "      <td>21:35</td>\n",
       "      <td>4h 45m</td>\n",
       "      <td>1 stop</td>\n",
       "      <td>No info</td>\n",
       "      <td>13302</td>\n",
       "    </tr>\n",
       "  </tbody>\n",
       "</table>\n",
       "</div>"
      ],
      "text/plain": [
       "       Airline Date_of_Journey    Source Destination                  Route  \\\n",
       "0       IndiGo      24/03/2019  Banglore   New Delhi              BLR → DEL   \n",
       "1    Air India       1/05/2019   Kolkata    Banglore  CCU → IXR → BBI → BLR   \n",
       "2  Jet Airways       9/06/2019     Delhi      Cochin  DEL → LKO → BOM → COK   \n",
       "3       IndiGo      12/05/2019   Kolkata    Banglore        CCU → NAG → BLR   \n",
       "4       IndiGo      01/03/2019  Banglore   New Delhi        BLR → NAG → DEL   \n",
       "\n",
       "  Dep_Time  Arrival_Time Duration Total_Stops Additional_Info  Price  \n",
       "0    22:20  01:10 22 Mar   2h 50m    non-stop         No info   3897  \n",
       "1    05:50         13:15   7h 25m     2 stops         No info   7662  \n",
       "2    09:25  04:25 10 Jun      19h     2 stops         No info  13882  \n",
       "3    18:05         23:30   5h 25m      1 stop         No info   6218  \n",
       "4    16:50         21:35   4h 45m      1 stop         No info  13302  "
      ]
     },
     "execution_count": 2,
     "metadata": {},
     "output_type": "execute_result"
    }
   ],
   "source": [
    "#importing data\n",
    "df=pd.read_excel('data/FlightData.xlsx')\n",
    "df.head()"
   ]
  },
  {
   "cell_type": "markdown",
   "id": "91bf4c7b",
   "metadata": {},
   "source": [
    "#### Quick look at the data "
   ]
  },
  {
   "cell_type": "code",
   "execution_count": 3,
   "id": "chubby-moldova",
   "metadata": {
    "execution": {
     "iopub.execute_input": "2021-06-19T07:43:50.526415Z",
     "iopub.status.busy": "2021-06-19T07:43:50.525785Z",
     "iopub.status.idle": "2021-06-19T07:43:50.546949Z",
     "shell.execute_reply": "2021-06-19T07:43:50.547450Z"
    },
    "papermill": {
     "duration": 0.142103,
     "end_time": "2021-06-19T07:43:50.547626",
     "exception": false,
     "start_time": "2021-06-19T07:43:50.405523",
     "status": "completed"
    },
    "tags": []
   },
   "outputs": [
    {
     "name": "stdout",
     "output_type": "stream",
     "text": [
      "<class 'pandas.core.frame.DataFrame'>\n",
      "RangeIndex: 10683 entries, 0 to 10682\n",
      "Data columns (total 11 columns):\n",
      " #   Column           Non-Null Count  Dtype \n",
      "---  ------           --------------  ----- \n",
      " 0   Airline          10683 non-null  object\n",
      " 1   Date_of_Journey  10683 non-null  object\n",
      " 2   Source           10683 non-null  object\n",
      " 3   Destination      10683 non-null  object\n",
      " 4   Route            10682 non-null  object\n",
      " 5   Dep_Time         10683 non-null  object\n",
      " 6   Arrival_Time     10683 non-null  object\n",
      " 7   Duration         10683 non-null  object\n",
      " 8   Total_Stops      10682 non-null  object\n",
      " 9   Additional_Info  10683 non-null  object\n",
      " 10  Price            10683 non-null  int64 \n",
      "dtypes: int64(1), object(10)\n",
      "memory usage: 918.2+ KB\n"
     ]
    }
   ],
   "source": [
    "# information about the data\n",
    "df.info()   "
   ]
  },
  {
   "cell_type": "code",
   "execution_count": 4,
   "id": "third-reason",
   "metadata": {
    "execution": {
     "iopub.execute_input": "2021-06-19T07:43:50.765088Z",
     "iopub.status.busy": "2021-06-19T07:43:50.764189Z",
     "iopub.status.idle": "2021-06-19T07:43:50.777311Z",
     "shell.execute_reply": "2021-06-19T07:43:50.777811Z"
    },
    "papermill": {
     "duration": 0.126999,
     "end_time": "2021-06-19T07:43:50.777983",
     "exception": false,
     "start_time": "2021-06-19T07:43:50.650984",
     "status": "completed"
    },
    "tags": []
   },
   "outputs": [
    {
     "data": {
      "text/html": [
       "<div>\n",
       "<style scoped>\n",
       "    .dataframe tbody tr th:only-of-type {\n",
       "        vertical-align: middle;\n",
       "    }\n",
       "\n",
       "    .dataframe tbody tr th {\n",
       "        vertical-align: top;\n",
       "    }\n",
       "\n",
       "    .dataframe thead th {\n",
       "        text-align: right;\n",
       "    }\n",
       "</style>\n",
       "<table border=\"1\" class=\"dataframe\">\n",
       "  <thead>\n",
       "    <tr style=\"text-align: right;\">\n",
       "      <th></th>\n",
       "      <th>Price</th>\n",
       "    </tr>\n",
       "  </thead>\n",
       "  <tbody>\n",
       "    <tr>\n",
       "      <th>count</th>\n",
       "      <td>10683.000000</td>\n",
       "    </tr>\n",
       "    <tr>\n",
       "      <th>mean</th>\n",
       "      <td>9087.064121</td>\n",
       "    </tr>\n",
       "    <tr>\n",
       "      <th>std</th>\n",
       "      <td>4611.359167</td>\n",
       "    </tr>\n",
       "    <tr>\n",
       "      <th>min</th>\n",
       "      <td>1759.000000</td>\n",
       "    </tr>\n",
       "    <tr>\n",
       "      <th>25%</th>\n",
       "      <td>5277.000000</td>\n",
       "    </tr>\n",
       "    <tr>\n",
       "      <th>50%</th>\n",
       "      <td>8372.000000</td>\n",
       "    </tr>\n",
       "    <tr>\n",
       "      <th>75%</th>\n",
       "      <td>12373.000000</td>\n",
       "    </tr>\n",
       "    <tr>\n",
       "      <th>max</th>\n",
       "      <td>79512.000000</td>\n",
       "    </tr>\n",
       "  </tbody>\n",
       "</table>\n",
       "</div>"
      ],
      "text/plain": [
       "              Price\n",
       "count  10683.000000\n",
       "mean    9087.064121\n",
       "std     4611.359167\n",
       "min     1759.000000\n",
       "25%     5277.000000\n",
       "50%     8372.000000\n",
       "75%    12373.000000\n",
       "max    79512.000000"
      ]
     },
     "execution_count": 4,
     "metadata": {},
     "output_type": "execute_result"
    }
   ],
   "source": [
    "# describe about the data\n",
    "df.describe()"
   ]
  },
  {
   "cell_type": "code",
   "execution_count": 5,
   "id": "marked-courage",
   "metadata": {
    "execution": {
     "iopub.execute_input": "2021-06-19T07:43:50.994950Z",
     "iopub.status.busy": "2021-06-19T07:43:50.994149Z",
     "iopub.status.idle": "2021-06-19T07:43:50.999679Z",
     "shell.execute_reply": "2021-06-19T07:43:51.000223Z"
    },
    "papermill": {
     "duration": 0.11601,
     "end_time": "2021-06-19T07:43:51.000422",
     "exception": false,
     "start_time": "2021-06-19T07:43:50.884412",
     "status": "completed"
    },
    "tags": []
   },
   "outputs": [
    {
     "data": {
      "text/plain": [
       "(10683, 11)"
      ]
     },
     "execution_count": 5,
     "metadata": {},
     "output_type": "execute_result"
    }
   ],
   "source": [
    "df.shape"
   ]
  },
  {
   "cell_type": "code",
   "execution_count": 6,
   "id": "northern-pixel",
   "metadata": {
    "execution": {
     "iopub.execute_input": "2021-06-19T07:43:51.226625Z",
     "iopub.status.busy": "2021-06-19T07:43:51.226002Z",
     "iopub.status.idle": "2021-06-19T07:43:51.235277Z",
     "shell.execute_reply": "2021-06-19T07:43:51.234769Z"
    },
    "papermill": {
     "duration": 0.128638,
     "end_time": "2021-06-19T07:43:51.235418",
     "exception": false,
     "start_time": "2021-06-19T07:43:51.106780",
     "status": "completed"
    },
    "tags": []
   },
   "outputs": [
    {
     "data": {
      "text/plain": [
       "Airline            0\n",
       "Date_of_Journey    0\n",
       "Source             0\n",
       "Destination        0\n",
       "Route              1\n",
       "Dep_Time           0\n",
       "Arrival_Time       0\n",
       "Duration           0\n",
       "Total_Stops        1\n",
       "Additional_Info    0\n",
       "Price              0\n",
       "dtype: int64"
      ]
     },
     "execution_count": 6,
     "metadata": {},
     "output_type": "execute_result"
    }
   ],
   "source": [
    "# find the null values\n",
    "df.isnull().sum()"
   ]
  },
  {
   "cell_type": "markdown",
   "metadata": {},
   "source": [
    "## Handling Missing Values"
   ]
  },
  {
   "cell_type": "code",
   "execution_count": 7,
   "id": "public-brunswick",
   "metadata": {
    "execution": {
     "iopub.execute_input": "2021-06-19T07:43:51.451255Z",
     "iopub.status.busy": "2021-06-19T07:43:51.450586Z",
     "iopub.status.idle": "2021-06-19T07:43:52.273058Z",
     "shell.execute_reply": "2021-06-19T07:43:52.272413Z"
    },
    "papermill": {
     "duration": 0.931828,
     "end_time": "2021-06-19T07:43:52.273187",
     "exception": false,
     "start_time": "2021-06-19T07:43:51.341359",
     "status": "completed"
    },
    "tags": []
   },
   "outputs": [
    {
     "data": {
      "text/plain": [
       "<function matplotlib.pyplot.show(close=None, block=None)>"
      ]
     },
     "execution_count": 7,
     "metadata": {},
     "output_type": "execute_result"
    },
    {
     "data": {
      "image/png": "[encoded data removed]",
      "text/plain": [
       "<Figure size 1728x720 with 3 Axes>"
      ]
     },
     "metadata": {
      "needs_background": "light"
     },
     "output_type": "display_data"
    }
   ],
   "source": [
    "import missingno as msno\n",
    "msno.bar(df)\n",
    "plt.show"
   ]
  },
  {
   "cell_type": "markdown",
   "id": "hybrid-biology",
   "metadata": {
    "papermill": {
     "duration": 0.109402,
     "end_time": "2021-06-19T07:43:52.491975",
     "exception": false,
     "start_time": "2021-06-19T07:43:52.382573",
     "status": "completed"
    },
    "tags": []
   },
   "source": [
    "There are two missing values (Route & Total_Stops) which can be dropped directly as it's very less."
   ]
  },
  {
   "cell_type": "code",
   "execution_count": 8,
   "id": "reasonable-prospect",
   "metadata": {
    "execution": {
     "iopub.execute_input": "2021-06-19T07:43:52.727449Z",
     "iopub.status.busy": "2021-06-19T07:43:52.726753Z",
     "iopub.status.idle": "2021-06-19T07:43:52.736834Z",
     "shell.execute_reply": "2021-06-19T07:43:52.736155Z"
    },
    "papermill": {
     "duration": 0.135885,
     "end_time": "2021-06-19T07:43:52.736979",
     "exception": false,
     "start_time": "2021-06-19T07:43:52.601094",
     "status": "completed"
    },
    "tags": []
   },
   "outputs": [],
   "source": [
    "# drop the null values\n",
    "df.dropna(inplace=True)"
   ]
  },
  {
   "cell_type": "code",
   "execution_count": 9,
   "id": "under-psychology",
   "metadata": {
    "execution": {
     "iopub.execute_input": "2021-06-19T07:43:52.971537Z",
     "iopub.status.busy": "2021-06-19T07:43:52.968498Z",
     "iopub.status.idle": "2021-06-19T07:43:52.974943Z",
     "shell.execute_reply": "2021-06-19T07:43:52.975341Z"
    },
    "papermill": {
     "duration": 0.129645,
     "end_time": "2021-06-19T07:43:52.975515",
     "exception": false,
     "start_time": "2021-06-19T07:43:52.845870",
     "status": "completed"
    },
    "tags": []
   },
   "outputs": [
    {
     "data": {
      "text/plain": [
       "Airline            0\n",
       "Date_of_Journey    0\n",
       "Source             0\n",
       "Destination        0\n",
       "Route              0\n",
       "Dep_Time           0\n",
       "Arrival_Time       0\n",
       "Duration           0\n",
       "Total_Stops        0\n",
       "Additional_Info    0\n",
       "Price              0\n",
       "dtype: int64"
      ]
     },
     "execution_count": 9,
     "metadata": {},
     "output_type": "execute_result"
    }
   ],
   "source": [
    "df.isnull().sum()"
   ]
  },
  {
   "cell_type": "code",
   "execution_count": 10,
   "id": "b099917e",
   "metadata": {},
   "outputs": [
    {
     "name": "stdout",
     "output_type": "stream",
     "text": [
      "<class 'pandas.core.frame.DataFrame'>\n",
      "Int64Index: 10682 entries, 0 to 10682\n",
      "Data columns (total 11 columns):\n",
      " #   Column           Non-Null Count  Dtype \n",
      "---  ------           --------------  ----- \n",
      " 0   Airline          10682 non-null  object\n",
      " 1   Date_of_Journey  10682 non-null  object\n",
      " 2   Source           10682 non-null  object\n",
      " 3   Destination      10682 non-null  object\n",
      " 4   Route            10682 non-null  object\n",
      " 5   Dep_Time         10682 non-null  object\n",
      " 6   Arrival_Time     10682 non-null  object\n",
      " 7   Duration         10682 non-null  object\n",
      " 8   Total_Stops      10682 non-null  object\n",
      " 9   Additional_Info  10682 non-null  object\n",
      " 10  Price            10682 non-null  int64 \n",
      "dtypes: int64(1), object(10)\n",
      "memory usage: 1001.4+ KB\n"
     ]
    }
   ],
   "source": [
    "df.info()"
   ]
  },
  {
   "cell_type": "code",
   "execution_count": 11,
   "id": "def6aa8c",
   "metadata": {},
   "outputs": [],
   "source": [
    "df = df.replace(\"New Delhi\", \"Delhi\")"
   ]
  },
  {
   "cell_type": "markdown",
   "id": "77e88b5c",
   "metadata": {},
   "source": [
    "# Visualize the Data "
   ]
  },
  {
   "cell_type": "markdown",
   "id": "50610c64",
   "metadata": {},
   "source": [
    "#### Number of flights from each source"
   ]
  },
  {
   "cell_type": "code",
   "execution_count": 112,
   "id": "436e02be",
   "metadata": {},
   "outputs": [
    {
     "name": "stdout",
     "output_type": "stream",
     "text": [
      "Delhi       4536\n",
      "Kolkata     2871\n",
      "Banglore    2197\n",
      "Mumbai       697\n",
      "Chennai      381\n",
      "Name: Source, dtype: int64\n"
     ]
    },
    {
     "data": {
      "image/png": "[encoded data removed]",
      "text/plain": [
       "<Figure size 432x288 with 1 Axes>"
      ]
     },
     "metadata": {
      "needs_background": "light"
     },
     "output_type": "display_data"
    }
   ],
   "source": [
    "a = sns.countplot(x='Source',data=df, palette=\"Blues\")\n",
    "print(df['Source'].value_counts())"
   ]
  },
  {
   "cell_type": "markdown",
   "id": "fresh-leader",
   "metadata": {
    "papermill": {
     "duration": 0.07543,
     "end_time": "2021-06-19T07:44:01.168066",
     "exception": false,
     "start_time": "2021-06-19T07:44:01.092636",
     "status": "completed"
    },
    "tags": []
   },
   "source": [
    "#### Airline vs Price"
   ]
  },
  {
   "cell_type": "code",
   "execution_count": 108,
   "id": "changed-poker",
   "metadata": {
    "execution": {
     "iopub.execute_input": "2021-06-19T07:44:01.324741Z",
     "iopub.status.busy": "2021-06-19T07:44:01.324271Z",
     "iopub.status.idle": "2021-06-19T07:44:01.724045Z",
     "shell.execute_reply": "2021-06-19T07:44:01.724485Z"
    },
    "papermill": {
     "duration": 0.481511,
     "end_time": "2021-06-19T07:44:01.724612",
     "exception": false,
     "start_time": "2021-06-19T07:44:01.243101",
     "status": "completed"
    },
    "tags": []
   },
   "outputs": [
    {
     "data": {
      "image/png": "[encoded data removed]",
      "text/plain": [
       "<Figure size 2160x720 with 1 Axes>"
      ]
     },
     "metadata": {
      "needs_background": "light"
     },
     "output_type": "display_data"
    }
   ],
   "source": [
    "plt.figure(figsize=(30,10))\n",
    "\n",
    "sns.barplot(data=df, x=\"Airline\", y=\"Price\", ci=None, palette=\"Blues\")\n",
    "plt.xlabel(\"Airlines\")\n",
    "plt.ylabel(\"Price\")\n",
    "plt.title(\"Airlines vs Price\")\n",
    "\n",
    "sns.despine()\n",
    "\n",
    "plt.show()\n"
   ]
  },
  {
   "cell_type": "markdown",
   "id": "least-packet",
   "metadata": {
    "papermill": {
     "duration": 0.077717,
     "end_time": "2021-06-19T07:44:01.879461",
     "exception": false,
     "start_time": "2021-06-19T07:44:01.801744",
     "status": "completed"
    },
    "tags": []
   },
   "source": [
    "From graph, we can see that Jet Airways Business have the highest price. Apart from the first airline rest have similar median."
   ]
  },
  {
   "cell_type": "markdown",
   "id": "hybrid-bishop",
   "metadata": {
    "papermill": {
     "duration": 0.079116,
     "end_time": "2021-06-19T07:44:02.036498",
     "exception": false,
     "start_time": "2021-06-19T07:44:01.957382",
     "status": "completed"
    },
    "tags": []
   },
   "source": [
    "#### Total_Stops vs Price "
   ]
  },
  {
   "cell_type": "code",
   "execution_count": 14,
   "id": "public-nevada",
   "metadata": {
    "execution": {
     "iopub.execute_input": "2021-06-19T07:44:02.203219Z",
     "iopub.status.busy": "2021-06-19T07:44:02.202280Z",
     "iopub.status.idle": "2021-06-19T07:44:02.409941Z",
     "shell.execute_reply": "2021-06-19T07:44:02.410553Z"
    },
    "papermill": {
     "duration": 0.294116,
     "end_time": "2021-06-19T07:44:02.410776",
     "exception": false,
     "start_time": "2021-06-19T07:44:02.116660",
     "status": "completed"
    },
    "tags": []
   },
   "outputs": [
    {
     "data": {
      "text/plain": [
       "<AxesSubplot:xlabel='Total_Stops', ylabel='Price'>"
      ]
     },
     "execution_count": 14,
     "metadata": {},
     "output_type": "execute_result"
    },
    {
     "data": {
      "image/png": "[encoded data removed]",
      "text/plain": [
       "<Figure size 576x576 with 1 Axes>"
      ]
     },
     "metadata": {
      "needs_background": "light"
     },
     "output_type": "display_data"
    }
   ],
   "source": [
    "plt.figure(figsize=(8,8))\n",
    "sns.boxplot(x='Total_Stops',y='Price',data=df.sort_values('Price',ascending=False),palette=\"Blues\")"
   ]
  },
  {
   "cell_type": "markdown",
   "id": "c7592bf8",
   "metadata": {},
   "source": [
    "#### Source vs Price"
   ]
  },
  {
   "cell_type": "code",
   "execution_count": 15,
   "id": "1408da8b",
   "metadata": {},
   "outputs": [
    {
     "data": {
      "text/plain": [
       "<AxesSubplot:xlabel='Source', ylabel='Price'>"
      ]
     },
     "execution_count": 15,
     "metadata": {},
     "output_type": "execute_result"
    },
    {
     "data": {
      "image/png": "[encoded data removed]",
      "text/plain": [
       "<Figure size 576x576 with 1 Axes>"
      ]
     },
     "metadata": {
      "needs_background": "light"
     },
     "output_type": "display_data"
    }
   ],
   "source": [
    "plt.figure(figsize=(8,8))\n",
    "sns.boxplot(x='Source',y='Price',data=df.sort_values('Price',ascending=False),palette=\"Blues\")"
   ]
  },
  {
   "cell_type": "code",
   "execution_count": 16,
   "id": "88c784a0",
   "metadata": {},
   "outputs": [
    {
     "data": {
      "text/plain": [
       "<AxesSubplot:xlabel='Destination', ylabel='Price'>"
      ]
     },
     "execution_count": 16,
     "metadata": {},
     "output_type": "execute_result"
    },
    {
     "data": {
      "image/png": "[encoded data removed]",
      "text/plain": [
       "<Figure size 576x576 with 1 Axes>"
      ]
     },
     "metadata": {
      "needs_background": "light"
     },
     "output_type": "display_data"
    }
   ],
   "source": [
    "plt.figure(figsize=(8,8))\n",
    "sns.boxplot(x='Destination',y='Price',data=df.sort_values('Price',ascending=False), palette=\"Blues\")"
   ]
  },
  {
   "cell_type": "markdown",
   "id": "654ec1cb",
   "metadata": {},
   "source": [
    "# Prepare the Data for Machine Learning Models"
   ]
  },
  {
   "cell_type": "markdown",
   "id": "c2ebbc10",
   "metadata": {},
   "source": [
    "## Data Cleaning"
   ]
  },
  {
   "cell_type": "code",
   "execution_count": 17,
   "id": "medical-murder",
   "metadata": {
    "execution": {
     "iopub.execute_input": "2021-06-19T07:43:53.265254Z",
     "iopub.status.busy": "2021-06-19T07:43:53.264594Z",
     "iopub.status.idle": "2021-06-19T07:43:53.269502Z",
     "shell.execute_reply": "2021-06-19T07:43:53.269047Z"
    },
    "papermill": {
     "duration": 0.080957,
     "end_time": "2021-06-19T07:43:53.269603",
     "exception": false,
     "start_time": "2021-06-19T07:43:53.188646",
     "status": "completed"
    },
    "tags": []
   },
   "outputs": [
    {
     "data": {
      "text/plain": [
       "Airline            object\n",
       "Date_of_Journey    object\n",
       "Source             object\n",
       "Destination        object\n",
       "Route              object\n",
       "Dep_Time           object\n",
       "Arrival_Time       object\n",
       "Duration           object\n",
       "Total_Stops        object\n",
       "Additional_Info    object\n",
       "Price               int64\n",
       "dtype: object"
      ]
     },
     "execution_count": 17,
     "metadata": {},
     "output_type": "execute_result"
    }
   ],
   "source": [
    "# datatypes\n",
    "df.dtypes"
   ]
  },
  {
   "cell_type": "markdown",
   "id": "premier-chile",
   "metadata": {
    "papermill": {
     "duration": 0.071232,
     "end_time": "2021-06-19T07:43:53.413103",
     "exception": false,
     "start_time": "2021-06-19T07:43:53.341871",
     "status": "completed"
    },
    "tags": []
   },
   "source": [
    "The datatype of *Date_of_journey*, *Arrival_Time* and *Dep_Time* is object. So, it is converted into date and time for proper predicion."
   ]
  },
  {
   "cell_type": "code",
   "execution_count": 18,
   "id": "funny-earth",
   "metadata": {
    "execution": {
     "iopub.execute_input": "2021-06-19T07:43:53.560553Z",
     "iopub.status.busy": "2021-06-19T07:43:53.560079Z",
     "iopub.status.idle": "2021-06-19T07:43:53.563470Z",
     "shell.execute_reply": "2021-06-19T07:43:53.562851Z"
    },
    "papermill": {
     "duration": 0.077539,
     "end_time": "2021-06-19T07:43:53.563611",
     "exception": false,
     "start_time": "2021-06-19T07:43:53.486072",
     "status": "completed"
    },
    "tags": []
   },
   "outputs": [],
   "source": [
    "# function for changing date and time format\n",
    "def change_into_datetime(col):\n",
    "    df[col]=pd.to_datetime(df[col])"
   ]
  },
  {
   "cell_type": "code",
   "execution_count": 19,
   "id": "057b3966",
   "metadata": {},
   "outputs": [
    {
     "data": {
      "text/html": [
       "<div>\n",
       "<style scoped>\n",
       "    .dataframe tbody tr th:only-of-type {\n",
       "        vertical-align: middle;\n",
       "    }\n",
       "\n",
       "    .dataframe tbody tr th {\n",
       "        vertical-align: top;\n",
       "    }\n",
       "\n",
       "    .dataframe thead th {\n",
       "        text-align: right;\n",
       "    }\n",
       "</style>\n",
       "<table border=\"1\" class=\"dataframe\">\n",
       "  <thead>\n",
       "    <tr style=\"text-align: right;\">\n",
       "      <th></th>\n",
       "      <th>Airline</th>\n",
       "      <th>Date_of_Journey</th>\n",
       "      <th>Source</th>\n",
       "      <th>Destination</th>\n",
       "      <th>Route</th>\n",
       "      <th>Dep_Time</th>\n",
       "      <th>Arrival_Time</th>\n",
       "      <th>Duration</th>\n",
       "      <th>Total_Stops</th>\n",
       "      <th>Additional_Info</th>\n",
       "      <th>Price</th>\n",
       "    </tr>\n",
       "  </thead>\n",
       "  <tbody>\n",
       "    <tr>\n",
       "      <th>0</th>\n",
       "      <td>IndiGo</td>\n",
       "      <td>24/03/2019</td>\n",
       "      <td>Banglore</td>\n",
       "      <td>Delhi</td>\n",
       "      <td>BLR → DEL</td>\n",
       "      <td>22:20</td>\n",
       "      <td>01:10 22 Mar</td>\n",
       "      <td>2h 50m</td>\n",
       "      <td>non-stop</td>\n",
       "      <td>No info</td>\n",
       "      <td>3897</td>\n",
       "    </tr>\n",
       "    <tr>\n",
       "      <th>1</th>\n",
       "      <td>Air India</td>\n",
       "      <td>1/05/2019</td>\n",
       "      <td>Kolkata</td>\n",
       "      <td>Banglore</td>\n",
       "      <td>CCU → IXR → BBI → BLR</td>\n",
       "      <td>05:50</td>\n",
       "      <td>13:15</td>\n",
       "      <td>7h 25m</td>\n",
       "      <td>2 stops</td>\n",
       "      <td>No info</td>\n",
       "      <td>7662</td>\n",
       "    </tr>\n",
       "    <tr>\n",
       "      <th>2</th>\n",
       "      <td>Jet Airways</td>\n",
       "      <td>9/06/2019</td>\n",
       "      <td>Delhi</td>\n",
       "      <td>Cochin</td>\n",
       "      <td>DEL → LKO → BOM → COK</td>\n",
       "      <td>09:25</td>\n",
       "      <td>04:25 10 Jun</td>\n",
       "      <td>19h</td>\n",
       "      <td>2 stops</td>\n",
       "      <td>No info</td>\n",
       "      <td>13882</td>\n",
       "    </tr>\n",
       "    <tr>\n",
       "      <th>3</th>\n",
       "      <td>IndiGo</td>\n",
       "      <td>12/05/2019</td>\n",
       "      <td>Kolkata</td>\n",
       "      <td>Banglore</td>\n",
       "      <td>CCU → NAG → BLR</td>\n",
       "      <td>18:05</td>\n",
       "      <td>23:30</td>\n",
       "      <td>5h 25m</td>\n",
       "      <td>1 stop</td>\n",
       "      <td>No info</td>\n",
       "      <td>6218</td>\n",
       "    </tr>\n",
       "    <tr>\n",
       "      <th>4</th>\n",
       "      <td>IndiGo</td>\n",
       "      <td>01/03/2019</td>\n",
       "      <td>Banglore</td>\n",
       "      <td>Delhi</td>\n",
       "      <td>BLR → NAG → DEL</td>\n",
       "      <td>16:50</td>\n",
       "      <td>21:35</td>\n",
       "      <td>4h 45m</td>\n",
       "      <td>1 stop</td>\n",
       "      <td>No info</td>\n",
       "      <td>13302</td>\n",
       "    </tr>\n",
       "    <tr>\n",
       "      <th>...</th>\n",
       "      <td>...</td>\n",
       "      <td>...</td>\n",
       "      <td>...</td>\n",
       "      <td>...</td>\n",
       "      <td>...</td>\n",
       "      <td>...</td>\n",
       "      <td>...</td>\n",
       "      <td>...</td>\n",
       "      <td>...</td>\n",
       "      <td>...</td>\n",
       "      <td>...</td>\n",
       "    </tr>\n",
       "    <tr>\n",
       "      <th>10678</th>\n",
       "      <td>Air Asia</td>\n",
       "      <td>9/04/2019</td>\n",
       "      <td>Kolkata</td>\n",
       "      <td>Banglore</td>\n",
       "      <td>CCU → BLR</td>\n",
       "      <td>19:55</td>\n",
       "      <td>22:25</td>\n",
       "      <td>2h 30m</td>\n",
       "      <td>non-stop</td>\n",
       "      <td>No info</td>\n",
       "      <td>4107</td>\n",
       "    </tr>\n",
       "    <tr>\n",
       "      <th>10679</th>\n",
       "      <td>Air India</td>\n",
       "      <td>27/04/2019</td>\n",
       "      <td>Kolkata</td>\n",
       "      <td>Banglore</td>\n",
       "      <td>CCU → BLR</td>\n",
       "      <td>20:45</td>\n",
       "      <td>23:20</td>\n",
       "      <td>2h 35m</td>\n",
       "      <td>non-stop</td>\n",
       "      <td>No info</td>\n",
       "      <td>4145</td>\n",
       "    </tr>\n",
       "    <tr>\n",
       "      <th>10680</th>\n",
       "      <td>Jet Airways</td>\n",
       "      <td>27/04/2019</td>\n",
       "      <td>Banglore</td>\n",
       "      <td>Delhi</td>\n",
       "      <td>BLR → DEL</td>\n",
       "      <td>08:20</td>\n",
       "      <td>11:20</td>\n",
       "      <td>3h</td>\n",
       "      <td>non-stop</td>\n",
       "      <td>No info</td>\n",
       "      <td>7229</td>\n",
       "    </tr>\n",
       "    <tr>\n",
       "      <th>10681</th>\n",
       "      <td>Vistara</td>\n",
       "      <td>01/03/2019</td>\n",
       "      <td>Banglore</td>\n",
       "      <td>Delhi</td>\n",
       "      <td>BLR → DEL</td>\n",
       "      <td>11:30</td>\n",
       "      <td>14:10</td>\n",
       "      <td>2h 40m</td>\n",
       "      <td>non-stop</td>\n",
       "      <td>No info</td>\n",
       "      <td>12648</td>\n",
       "    </tr>\n",
       "    <tr>\n",
       "      <th>10682</th>\n",
       "      <td>Air India</td>\n",
       "      <td>9/05/2019</td>\n",
       "      <td>Delhi</td>\n",
       "      <td>Cochin</td>\n",
       "      <td>DEL → GOI → BOM → COK</td>\n",
       "      <td>10:55</td>\n",
       "      <td>19:15</td>\n",
       "      <td>8h 20m</td>\n",
       "      <td>2 stops</td>\n",
       "      <td>No info</td>\n",
       "      <td>11753</td>\n",
       "    </tr>\n",
       "  </tbody>\n",
       "</table>\n",
       "<p>10682 rows × 11 columns</p>\n",
       "</div>"
      ],
      "text/plain": [
       "           Airline Date_of_Journey    Source Destination  \\\n",
       "0           IndiGo      24/03/2019  Banglore       Delhi   \n",
       "1        Air India       1/05/2019   Kolkata    Banglore   \n",
       "2      Jet Airways       9/06/2019     Delhi      Cochin   \n",
       "3           IndiGo      12/05/2019   Kolkata    Banglore   \n",
       "4           IndiGo      01/03/2019  Banglore       Delhi   \n",
       "...            ...             ...       ...         ...   \n",
       "10678     Air Asia       9/04/2019   Kolkata    Banglore   \n",
       "10679    Air India      27/04/2019   Kolkata    Banglore   \n",
       "10680  Jet Airways      27/04/2019  Banglore       Delhi   \n",
       "10681      Vistara      01/03/2019  Banglore       Delhi   \n",
       "10682    Air India       9/05/2019     Delhi      Cochin   \n",
       "\n",
       "                       Route Dep_Time  Arrival_Time Duration Total_Stops  \\\n",
       "0                  BLR → DEL    22:20  01:10 22 Mar   2h 50m    non-stop   \n",
       "1      CCU → IXR → BBI → BLR    05:50         13:15   7h 25m     2 stops   \n",
       "2      DEL → LKO → BOM → COK    09:25  04:25 10 Jun      19h     2 stops   \n",
       "3            CCU → NAG → BLR    18:05         23:30   5h 25m      1 stop   \n",
       "4            BLR → NAG → DEL    16:50         21:35   4h 45m      1 stop   \n",
       "...                      ...      ...           ...      ...         ...   \n",
       "10678              CCU → BLR    19:55         22:25   2h 30m    non-stop   \n",
       "10679              CCU → BLR    20:45         23:20   2h 35m    non-stop   \n",
       "10680              BLR → DEL    08:20         11:20       3h    non-stop   \n",
       "10681              BLR → DEL    11:30         14:10   2h 40m    non-stop   \n",
       "10682  DEL → GOI → BOM → COK    10:55         19:15   8h 20m     2 stops   \n",
       "\n",
       "      Additional_Info  Price  \n",
       "0             No info   3897  \n",
       "1             No info   7662  \n",
       "2             No info  13882  \n",
       "3             No info   6218  \n",
       "4             No info  13302  \n",
       "...               ...    ...  \n",
       "10678         No info   4107  \n",
       "10679         No info   4145  \n",
       "10680         No info   7229  \n",
       "10681         No info  12648  \n",
       "10682         No info  11753  \n",
       "\n",
       "[10682 rows x 11 columns]"
      ]
     },
     "execution_count": 19,
     "metadata": {},
     "output_type": "execute_result"
    }
   ],
   "source": [
    "df"
   ]
  },
  {
   "cell_type": "code",
   "execution_count": 20,
   "id": "surprised-portugal",
   "metadata": {
    "execution": {
     "iopub.execute_input": "2021-06-19T07:43:53.782834Z",
     "iopub.status.busy": "2021-06-19T07:43:53.782193Z",
     "iopub.status.idle": "2021-06-19T07:43:53.787568Z",
     "shell.execute_reply": "2021-06-19T07:43:53.788090Z"
    },
    "papermill": {
     "duration": 0.11686,
     "end_time": "2021-06-19T07:43:53.788260",
     "exception": false,
     "start_time": "2021-06-19T07:43:53.671400",
     "status": "completed"
    },
    "tags": []
   },
   "outputs": [
    {
     "data": {
      "text/plain": [
       "Index(['Airline', 'Date_of_Journey', 'Source', 'Destination', 'Route',\n",
       "       'Dep_Time', 'Arrival_Time', 'Duration', 'Total_Stops',\n",
       "       'Additional_Info', 'Price'],\n",
       "      dtype='object')"
      ]
     },
     "execution_count": 20,
     "metadata": {},
     "output_type": "execute_result"
    }
   ],
   "source": [
    "df.columns"
   ]
  },
  {
   "cell_type": "code",
   "execution_count": 21,
   "id": "positive-adjustment",
   "metadata": {
    "execution": {
     "iopub.execute_input": "2021-06-19T07:43:53.934869Z",
     "iopub.status.busy": "2021-06-19T07:43:53.934367Z",
     "iopub.status.idle": "2021-06-19T07:43:54.095300Z",
     "shell.execute_reply": "2021-06-19T07:43:54.094837Z"
    },
    "papermill": {
     "duration": 0.235258,
     "end_time": "2021-06-19T07:43:54.095416",
     "exception": false,
     "start_time": "2021-06-19T07:43:53.860158",
     "status": "completed"
    },
    "tags": []
   },
   "outputs": [],
   "source": [
    "for i in ['Date_of_Journey','Dep_Time', 'Arrival_Time']:\n",
    "    change_into_datetime(i)"
   ]
  },
  {
   "cell_type": "code",
   "execution_count": 22,
   "id": "dff1bb83",
   "metadata": {},
   "outputs": [
    {
     "data": {
      "text/html": [
       "<div>\n",
       "<style scoped>\n",
       "    .dataframe tbody tr th:only-of-type {\n",
       "        vertical-align: middle;\n",
       "    }\n",
       "\n",
       "    .dataframe tbody tr th {\n",
       "        vertical-align: top;\n",
       "    }\n",
       "\n",
       "    .dataframe thead th {\n",
       "        text-align: right;\n",
       "    }\n",
       "</style>\n",
       "<table border=\"1\" class=\"dataframe\">\n",
       "  <thead>\n",
       "    <tr style=\"text-align: right;\">\n",
       "      <th></th>\n",
       "      <th>Airline</th>\n",
       "      <th>Date_of_Journey</th>\n",
       "      <th>Source</th>\n",
       "      <th>Destination</th>\n",
       "      <th>Route</th>\n",
       "      <th>Dep_Time</th>\n",
       "      <th>Arrival_Time</th>\n",
       "      <th>Duration</th>\n",
       "      <th>Total_Stops</th>\n",
       "      <th>Additional_Info</th>\n",
       "      <th>Price</th>\n",
       "    </tr>\n",
       "  </thead>\n",
       "  <tbody>\n",
       "    <tr>\n",
       "      <th>0</th>\n",
       "      <td>IndiGo</td>\n",
       "      <td>2019-03-24</td>\n",
       "      <td>Banglore</td>\n",
       "      <td>Delhi</td>\n",
       "      <td>BLR → DEL</td>\n",
       "      <td>2022-04-27 22:20:00</td>\n",
       "      <td>2022-03-22 01:10:00</td>\n",
       "      <td>2h 50m</td>\n",
       "      <td>non-stop</td>\n",
       "      <td>No info</td>\n",
       "      <td>3897</td>\n",
       "    </tr>\n",
       "    <tr>\n",
       "      <th>1</th>\n",
       "      <td>Air India</td>\n",
       "      <td>2019-01-05</td>\n",
       "      <td>Kolkata</td>\n",
       "      <td>Banglore</td>\n",
       "      <td>CCU → IXR → BBI → BLR</td>\n",
       "      <td>2022-04-27 05:50:00</td>\n",
       "      <td>2022-04-27 13:15:00</td>\n",
       "      <td>7h 25m</td>\n",
       "      <td>2 stops</td>\n",
       "      <td>No info</td>\n",
       "      <td>7662</td>\n",
       "    </tr>\n",
       "    <tr>\n",
       "      <th>2</th>\n",
       "      <td>Jet Airways</td>\n",
       "      <td>2019-09-06</td>\n",
       "      <td>Delhi</td>\n",
       "      <td>Cochin</td>\n",
       "      <td>DEL → LKO → BOM → COK</td>\n",
       "      <td>2022-04-27 09:25:00</td>\n",
       "      <td>2022-06-10 04:25:00</td>\n",
       "      <td>19h</td>\n",
       "      <td>2 stops</td>\n",
       "      <td>No info</td>\n",
       "      <td>13882</td>\n",
       "    </tr>\n",
       "    <tr>\n",
       "      <th>3</th>\n",
       "      <td>IndiGo</td>\n",
       "      <td>2019-12-05</td>\n",
       "      <td>Kolkata</td>\n",
       "      <td>Banglore</td>\n",
       "      <td>CCU → NAG → BLR</td>\n",
       "      <td>2022-04-27 18:05:00</td>\n",
       "      <td>2022-04-27 23:30:00</td>\n",
       "      <td>5h 25m</td>\n",
       "      <td>1 stop</td>\n",
       "      <td>No info</td>\n",
       "      <td>6218</td>\n",
       "    </tr>\n",
       "    <tr>\n",
       "      <th>4</th>\n",
       "      <td>IndiGo</td>\n",
       "      <td>2019-01-03</td>\n",
       "      <td>Banglore</td>\n",
       "      <td>Delhi</td>\n",
       "      <td>BLR → NAG → DEL</td>\n",
       "      <td>2022-04-27 16:50:00</td>\n",
       "      <td>2022-04-27 21:35:00</td>\n",
       "      <td>4h 45m</td>\n",
       "      <td>1 stop</td>\n",
       "      <td>No info</td>\n",
       "      <td>13302</td>\n",
       "    </tr>\n",
       "    <tr>\n",
       "      <th>...</th>\n",
       "      <td>...</td>\n",
       "      <td>...</td>\n",
       "      <td>...</td>\n",
       "      <td>...</td>\n",
       "      <td>...</td>\n",
       "      <td>...</td>\n",
       "      <td>...</td>\n",
       "      <td>...</td>\n",
       "      <td>...</td>\n",
       "      <td>...</td>\n",
       "      <td>...</td>\n",
       "    </tr>\n",
       "    <tr>\n",
       "      <th>10678</th>\n",
       "      <td>Air Asia</td>\n",
       "      <td>2019-09-04</td>\n",
       "      <td>Kolkata</td>\n",
       "      <td>Banglore</td>\n",
       "      <td>CCU → BLR</td>\n",
       "      <td>2022-04-27 19:55:00</td>\n",
       "      <td>2022-04-27 22:25:00</td>\n",
       "      <td>2h 30m</td>\n",
       "      <td>non-stop</td>\n",
       "      <td>No info</td>\n",
       "      <td>4107</td>\n",
       "    </tr>\n",
       "    <tr>\n",
       "      <th>10679</th>\n",
       "      <td>Air India</td>\n",
       "      <td>2019-04-27</td>\n",
       "      <td>Kolkata</td>\n",
       "      <td>Banglore</td>\n",
       "      <td>CCU → BLR</td>\n",
       "      <td>2022-04-27 20:45:00</td>\n",
       "      <td>2022-04-27 23:20:00</td>\n",
       "      <td>2h 35m</td>\n",
       "      <td>non-stop</td>\n",
       "      <td>No info</td>\n",
       "      <td>4145</td>\n",
       "    </tr>\n",
       "    <tr>\n",
       "      <th>10680</th>\n",
       "      <td>Jet Airways</td>\n",
       "      <td>2019-04-27</td>\n",
       "      <td>Banglore</td>\n",
       "      <td>Delhi</td>\n",
       "      <td>BLR → DEL</td>\n",
       "      <td>2022-04-27 08:20:00</td>\n",
       "      <td>2022-04-27 11:20:00</td>\n",
       "      <td>3h</td>\n",
       "      <td>non-stop</td>\n",
       "      <td>No info</td>\n",
       "      <td>7229</td>\n",
       "    </tr>\n",
       "    <tr>\n",
       "      <th>10681</th>\n",
       "      <td>Vistara</td>\n",
       "      <td>2019-01-03</td>\n",
       "      <td>Banglore</td>\n",
       "      <td>Delhi</td>\n",
       "      <td>BLR → DEL</td>\n",
       "      <td>2022-04-27 11:30:00</td>\n",
       "      <td>2022-04-27 14:10:00</td>\n",
       "      <td>2h 40m</td>\n",
       "      <td>non-stop</td>\n",
       "      <td>No info</td>\n",
       "      <td>12648</td>\n",
       "    </tr>\n",
       "    <tr>\n",
       "      <th>10682</th>\n",
       "      <td>Air India</td>\n",
       "      <td>2019-09-05</td>\n",
       "      <td>Delhi</td>\n",
       "      <td>Cochin</td>\n",
       "      <td>DEL → GOI → BOM → COK</td>\n",
       "      <td>2022-04-27 10:55:00</td>\n",
       "      <td>2022-04-27 19:15:00</td>\n",
       "      <td>8h 20m</td>\n",
       "      <td>2 stops</td>\n",
       "      <td>No info</td>\n",
       "      <td>11753</td>\n",
       "    </tr>\n",
       "  </tbody>\n",
       "</table>\n",
       "<p>10682 rows × 11 columns</p>\n",
       "</div>"
      ],
      "text/plain": [
       "           Airline Date_of_Journey    Source Destination  \\\n",
       "0           IndiGo      2019-03-24  Banglore       Delhi   \n",
       "1        Air India      2019-01-05   Kolkata    Banglore   \n",
       "2      Jet Airways      2019-09-06     Delhi      Cochin   \n",
       "3           IndiGo      2019-12-05   Kolkata    Banglore   \n",
       "4           IndiGo      2019-01-03  Banglore       Delhi   \n",
       "...            ...             ...       ...         ...   \n",
       "10678     Air Asia      2019-09-04   Kolkata    Banglore   \n",
       "10679    Air India      2019-04-27   Kolkata    Banglore   \n",
       "10680  Jet Airways      2019-04-27  Banglore       Delhi   \n",
       "10681      Vistara      2019-01-03  Banglore       Delhi   \n",
       "10682    Air India      2019-09-05     Delhi      Cochin   \n",
       "\n",
       "                       Route            Dep_Time        Arrival_Time Duration  \\\n",
       "0                  BLR → DEL 2022-04-27 22:20:00 2022-03-22 01:10:00   2h 50m   \n",
       "1      CCU → IXR → BBI → BLR 2022-04-27 05:50:00 2022-04-27 13:15:00   7h 25m   \n",
       "2      DEL → LKO → BOM → COK 2022-04-27 09:25:00 2022-06-10 04:25:00      19h   \n",
       "3            CCU → NAG → BLR 2022-04-27 18:05:00 2022-04-27 23:30:00   5h 25m   \n",
       "4            BLR → NAG → DEL 2022-04-27 16:50:00 2022-04-27 21:35:00   4h 45m   \n",
       "...                      ...                 ...                 ...      ...   \n",
       "10678              CCU → BLR 2022-04-27 19:55:00 2022-04-27 22:25:00   2h 30m   \n",
       "10679              CCU → BLR 2022-04-27 20:45:00 2022-04-27 23:20:00   2h 35m   \n",
       "10680              BLR → DEL 2022-04-27 08:20:00 2022-04-27 11:20:00       3h   \n",
       "10681              BLR → DEL 2022-04-27 11:30:00 2022-04-27 14:10:00   2h 40m   \n",
       "10682  DEL → GOI → BOM → COK 2022-04-27 10:55:00 2022-04-27 19:15:00   8h 20m   \n",
       "\n",
       "      Total_Stops Additional_Info  Price  \n",
       "0        non-stop         No info   3897  \n",
       "1         2 stops         No info   7662  \n",
       "2         2 stops         No info  13882  \n",
       "3          1 stop         No info   6218  \n",
       "4          1 stop         No info  13302  \n",
       "...           ...             ...    ...  \n",
       "10678    non-stop         No info   4107  \n",
       "10679    non-stop         No info   4145  \n",
       "10680    non-stop         No info   7229  \n",
       "10681    non-stop         No info  12648  \n",
       "10682     2 stops         No info  11753  \n",
       "\n",
       "[10682 rows x 11 columns]"
      ]
     },
     "execution_count": 22,
     "metadata": {},
     "output_type": "execute_result"
    }
   ],
   "source": [
    "df"
   ]
  },
  {
   "cell_type": "code",
   "execution_count": 23,
   "id": "practical-environment",
   "metadata": {
    "execution": {
     "iopub.execute_input": "2021-06-19T07:43:54.245218Z",
     "iopub.status.busy": "2021-06-19T07:43:54.244400Z",
     "iopub.status.idle": "2021-06-19T07:43:54.248384Z",
     "shell.execute_reply": "2021-06-19T07:43:54.247829Z"
    },
    "papermill": {
     "duration": 0.081067,
     "end_time": "2021-06-19T07:43:54.248516",
     "exception": false,
     "start_time": "2021-06-19T07:43:54.167449",
     "status": "completed"
    },
    "tags": []
   },
   "outputs": [
    {
     "data": {
      "text/plain": [
       "Airline                    object\n",
       "Date_of_Journey    datetime64[ns]\n",
       "Source                     object\n",
       "Destination                object\n",
       "Route                      object\n",
       "Dep_Time           datetime64[ns]\n",
       "Arrival_Time       datetime64[ns]\n",
       "Duration                   object\n",
       "Total_Stops                object\n",
       "Additional_Info            object\n",
       "Price                       int64\n",
       "dtype: object"
      ]
     },
     "execution_count": 23,
     "metadata": {},
     "output_type": "execute_result"
    }
   ],
   "source": [
    "df.dtypes"
   ]
  },
  {
   "cell_type": "markdown",
   "id": "chief-stack",
   "metadata": {
    "papermill": {
     "duration": 0.10922,
     "end_time": "2021-06-19T07:43:54.468607",
     "exception": false,
     "start_time": "2021-06-19T07:43:54.359387",
     "status": "completed"
    },
    "tags": []
   },
   "source": [
    "The day and month are extracted from *Date_of_journey* and stored in two other columns and *Date_of_Journey* column is dropped."
   ]
  },
  {
   "cell_type": "code",
   "execution_count": 24,
   "id": "dimensional-trust",
   "metadata": {
    "execution": {
     "iopub.execute_input": "2021-06-19T07:43:54.695944Z",
     "iopub.status.busy": "2021-06-19T07:43:54.695299Z",
     "iopub.status.idle": "2021-06-19T07:43:54.702248Z",
     "shell.execute_reply": "2021-06-19T07:43:54.702615Z"
    },
    "papermill": {
     "duration": 0.122697,
     "end_time": "2021-06-19T07:43:54.702782",
     "exception": false,
     "start_time": "2021-06-19T07:43:54.580085",
     "status": "completed"
    },
    "tags": []
   },
   "outputs": [],
   "source": [
    "df['journey_day']=df['Date_of_Journey'].dt.day\n",
    "df['journey_month']=df['Date_of_Journey'].dt.month\n"
   ]
  },
  {
   "cell_type": "code",
   "execution_count": 25,
   "id": "finished-proportion",
   "metadata": {
    "execution": {
     "iopub.execute_input": "2021-06-19T07:43:54.872838Z",
     "iopub.status.busy": "2021-06-19T07:43:54.872264Z",
     "iopub.status.idle": "2021-06-19T07:43:54.876874Z",
     "shell.execute_reply": "2021-06-19T07:43:54.876292Z"
    },
    "papermill": {
     "duration": 0.101744,
     "end_time": "2021-06-19T07:43:54.877019",
     "exception": false,
     "start_time": "2021-06-19T07:43:54.775275",
     "status": "completed"
    },
    "tags": []
   },
   "outputs": [
    {
     "data": {
      "text/html": [
       "<div>\n",
       "<style scoped>\n",
       "    .dataframe tbody tr th:only-of-type {\n",
       "        vertical-align: middle;\n",
       "    }\n",
       "\n",
       "    .dataframe tbody tr th {\n",
       "        vertical-align: top;\n",
       "    }\n",
       "\n",
       "    .dataframe thead th {\n",
       "        text-align: right;\n",
       "    }\n",
       "</style>\n",
       "<table border=\"1\" class=\"dataframe\">\n",
       "  <thead>\n",
       "    <tr style=\"text-align: right;\">\n",
       "      <th></th>\n",
       "      <th>Airline</th>\n",
       "      <th>Date_of_Journey</th>\n",
       "      <th>Source</th>\n",
       "      <th>Destination</th>\n",
       "      <th>Route</th>\n",
       "      <th>Dep_Time</th>\n",
       "      <th>Arrival_Time</th>\n",
       "      <th>Duration</th>\n",
       "      <th>Total_Stops</th>\n",
       "      <th>Additional_Info</th>\n",
       "      <th>Price</th>\n",
       "      <th>journey_day</th>\n",
       "      <th>journey_month</th>\n",
       "    </tr>\n",
       "  </thead>\n",
       "  <tbody>\n",
       "    <tr>\n",
       "      <th>0</th>\n",
       "      <td>IndiGo</td>\n",
       "      <td>2019-03-24</td>\n",
       "      <td>Banglore</td>\n",
       "      <td>Delhi</td>\n",
       "      <td>BLR → DEL</td>\n",
       "      <td>2022-04-27 22:20:00</td>\n",
       "      <td>2022-03-22 01:10:00</td>\n",
       "      <td>2h 50m</td>\n",
       "      <td>non-stop</td>\n",
       "      <td>No info</td>\n",
       "      <td>3897</td>\n",
       "      <td>24</td>\n",
       "      <td>3</td>\n",
       "    </tr>\n",
       "    <tr>\n",
       "      <th>1</th>\n",
       "      <td>Air India</td>\n",
       "      <td>2019-01-05</td>\n",
       "      <td>Kolkata</td>\n",
       "      <td>Banglore</td>\n",
       "      <td>CCU → IXR → BBI → BLR</td>\n",
       "      <td>2022-04-27 05:50:00</td>\n",
       "      <td>2022-04-27 13:15:00</td>\n",
       "      <td>7h 25m</td>\n",
       "      <td>2 stops</td>\n",
       "      <td>No info</td>\n",
       "      <td>7662</td>\n",
       "      <td>5</td>\n",
       "      <td>1</td>\n",
       "    </tr>\n",
       "    <tr>\n",
       "      <th>2</th>\n",
       "      <td>Jet Airways</td>\n",
       "      <td>2019-09-06</td>\n",
       "      <td>Delhi</td>\n",
       "      <td>Cochin</td>\n",
       "      <td>DEL → LKO → BOM → COK</td>\n",
       "      <td>2022-04-27 09:25:00</td>\n",
       "      <td>2022-06-10 04:25:00</td>\n",
       "      <td>19h</td>\n",
       "      <td>2 stops</td>\n",
       "      <td>No info</td>\n",
       "      <td>13882</td>\n",
       "      <td>6</td>\n",
       "      <td>9</td>\n",
       "    </tr>\n",
       "    <tr>\n",
       "      <th>3</th>\n",
       "      <td>IndiGo</td>\n",
       "      <td>2019-12-05</td>\n",
       "      <td>Kolkata</td>\n",
       "      <td>Banglore</td>\n",
       "      <td>CCU → NAG → BLR</td>\n",
       "      <td>2022-04-27 18:05:00</td>\n",
       "      <td>2022-04-27 23:30:00</td>\n",
       "      <td>5h 25m</td>\n",
       "      <td>1 stop</td>\n",
       "      <td>No info</td>\n",
       "      <td>6218</td>\n",
       "      <td>5</td>\n",
       "      <td>12</td>\n",
       "    </tr>\n",
       "    <tr>\n",
       "      <th>4</th>\n",
       "      <td>IndiGo</td>\n",
       "      <td>2019-01-03</td>\n",
       "      <td>Banglore</td>\n",
       "      <td>Delhi</td>\n",
       "      <td>BLR → NAG → DEL</td>\n",
       "      <td>2022-04-27 16:50:00</td>\n",
       "      <td>2022-04-27 21:35:00</td>\n",
       "      <td>4h 45m</td>\n",
       "      <td>1 stop</td>\n",
       "      <td>No info</td>\n",
       "      <td>13302</td>\n",
       "      <td>3</td>\n",
       "      <td>1</td>\n",
       "    </tr>\n",
       "  </tbody>\n",
       "</table>\n",
       "</div>"
      ],
      "text/plain": [
       "       Airline Date_of_Journey    Source Destination                  Route  \\\n",
       "0       IndiGo      2019-03-24  Banglore       Delhi              BLR → DEL   \n",
       "1    Air India      2019-01-05   Kolkata    Banglore  CCU → IXR → BBI → BLR   \n",
       "2  Jet Airways      2019-09-06     Delhi      Cochin  DEL → LKO → BOM → COK   \n",
       "3       IndiGo      2019-12-05   Kolkata    Banglore        CCU → NAG → BLR   \n",
       "4       IndiGo      2019-01-03  Banglore       Delhi        BLR → NAG → DEL   \n",
       "\n",
       "             Dep_Time        Arrival_Time Duration Total_Stops  \\\n",
       "0 2022-04-27 22:20:00 2022-03-22 01:10:00   2h 50m    non-stop   \n",
       "1 2022-04-27 05:50:00 2022-04-27 13:15:00   7h 25m     2 stops   \n",
       "2 2022-04-27 09:25:00 2022-06-10 04:25:00      19h     2 stops   \n",
       "3 2022-04-27 18:05:00 2022-04-27 23:30:00   5h 25m      1 stop   \n",
       "4 2022-04-27 16:50:00 2022-04-27 21:35:00   4h 45m      1 stop   \n",
       "\n",
       "  Additional_Info  Price  journey_day  journey_month  \n",
       "0         No info   3897           24              3  \n",
       "1         No info   7662            5              1  \n",
       "2         No info  13882            6              9  \n",
       "3         No info   6218            5             12  \n",
       "4         No info  13302            3              1  "
      ]
     },
     "execution_count": 25,
     "metadata": {},
     "output_type": "execute_result"
    }
   ],
   "source": [
    "df.head()"
   ]
  },
  {
   "cell_type": "code",
   "execution_count": 26,
   "id": "natural-essence",
   "metadata": {
    "execution": {
     "iopub.execute_input": "2021-06-19T07:43:55.106431Z",
     "iopub.status.busy": "2021-06-19T07:43:55.105947Z",
     "iopub.status.idle": "2021-06-19T07:43:55.110087Z",
     "shell.execute_reply": "2021-06-19T07:43:55.110456Z"
    },
    "papermill": {
     "duration": 0.121843,
     "end_time": "2021-06-19T07:43:55.110601",
     "exception": false,
     "start_time": "2021-06-19T07:43:54.988758",
     "status": "completed"
    },
    "tags": []
   },
   "outputs": [],
   "source": [
    "df.drop('Date_of_Journey', axis=1, inplace=True)"
   ]
  },
  {
   "cell_type": "markdown",
   "id": "starting-utility",
   "metadata": {
    "papermill": {
     "duration": 0.072324,
     "end_time": "2021-06-19T07:43:55.256580",
     "exception": false,
     "start_time": "2021-06-19T07:43:55.184256",
     "status": "completed"
    },
    "tags": []
   },
   "source": [
    "From *Arrival_time* and *Dept_time*, hour and minutes are extracted and stored in new columns thereby dropping the previous columns"
   ]
  },
  {
   "cell_type": "code",
   "execution_count": 27,
   "id": "defensive-mineral",
   "metadata": {
    "execution": {
     "iopub.execute_input": "2021-06-19T07:43:55.407138Z",
     "iopub.status.busy": "2021-06-19T07:43:55.406470Z",
     "iopub.status.idle": "2021-06-19T07:43:55.411837Z",
     "shell.execute_reply": "2021-06-19T07:43:55.412205Z"
    },
    "papermill": {
     "duration": 0.082728,
     "end_time": "2021-06-19T07:43:55.412353",
     "exception": false,
     "start_time": "2021-06-19T07:43:55.329625",
     "status": "completed"
    },
    "tags": []
   },
   "outputs": [],
   "source": [
    "# function for extracting hour and minutes\n",
    "def extract_hour(data,col):\n",
    "    data[col+'_hour']=data[col].dt.hour\n",
    "    \n",
    "def extract_min(data,col):\n",
    "    data[col+'_min']=data[col].dt.minute\n",
    "    \n",
    "def drop_col(data,col):\n",
    "    data.drop(col,axis=1,inplace=True)"
   ]
  },
  {
   "cell_type": "code",
   "execution_count": 28,
   "id": "94e94123",
   "metadata": {},
   "outputs": [],
   "source": [
    "# Extract values from Dep_Time\n",
    "\n",
    "# extracting hour\n",
    "extract_hour(df,'Dep_Time')\n",
    "\n",
    "# extracting minutes\n",
    "extract_min(df,'Dep_Time')\n",
    "\n",
    "# drop the column\n",
    "drop_col(df,'Dep_Time')"
   ]
  },
  {
   "cell_type": "code",
   "execution_count": 29,
   "id": "horizontal-range",
   "metadata": {
    "execution": {
     "iopub.execute_input": "2021-06-19T07:43:55.869122Z",
     "iopub.status.busy": "2021-06-19T07:43:55.868215Z",
     "iopub.status.idle": "2021-06-19T07:43:55.879186Z",
     "shell.execute_reply": "2021-06-19T07:43:55.878427Z"
    },
    "papermill": {
     "duration": 0.128394,
     "end_time": "2021-06-19T07:43:55.879324",
     "exception": false,
     "start_time": "2021-06-19T07:43:55.750930",
     "status": "completed"
    },
    "tags": []
   },
   "outputs": [],
   "source": [
    "# Extract values from Arrival_Time\n",
    "\n",
    "# extracting hour\n",
    "extract_hour(df,'Arrival_Time')\n",
    "\n",
    "# extracting minutes\n",
    "extract_min(df,'Arrival_Time')\n",
    "\n",
    "# drop the column\n",
    "drop_col(df,'Arrival_Time')"
   ]
  },
  {
   "cell_type": "code",
   "execution_count": 30,
   "id": "proof-frequency",
   "metadata": {
    "execution": {
     "iopub.execute_input": "2021-06-19T07:43:56.108038Z",
     "iopub.status.busy": "2021-06-19T07:43:56.107427Z",
     "iopub.status.idle": "2021-06-19T07:43:56.126908Z",
     "shell.execute_reply": "2021-06-19T07:43:56.127504Z"
    },
    "papermill": {
     "duration": 0.13504,
     "end_time": "2021-06-19T07:43:56.127661",
     "exception": false,
     "start_time": "2021-06-19T07:43:55.992621",
     "status": "completed"
    },
    "tags": []
   },
   "outputs": [
    {
     "data": {
      "text/html": [
       "<div>\n",
       "<style scoped>\n",
       "    .dataframe tbody tr th:only-of-type {\n",
       "        vertical-align: middle;\n",
       "    }\n",
       "\n",
       "    .dataframe tbody tr th {\n",
       "        vertical-align: top;\n",
       "    }\n",
       "\n",
       "    .dataframe thead th {\n",
       "        text-align: right;\n",
       "    }\n",
       "</style>\n",
       "<table border=\"1\" class=\"dataframe\">\n",
       "  <thead>\n",
       "    <tr style=\"text-align: right;\">\n",
       "      <th></th>\n",
       "      <th>Airline</th>\n",
       "      <th>Source</th>\n",
       "      <th>Destination</th>\n",
       "      <th>Route</th>\n",
       "      <th>Duration</th>\n",
       "      <th>Total_Stops</th>\n",
       "      <th>Additional_Info</th>\n",
       "      <th>Price</th>\n",
       "      <th>journey_day</th>\n",
       "      <th>journey_month</th>\n",
       "      <th>Dep_Time_hour</th>\n",
       "      <th>Dep_Time_min</th>\n",
       "      <th>Arrival_Time_hour</th>\n",
       "      <th>Arrival_Time_min</th>\n",
       "    </tr>\n",
       "  </thead>\n",
       "  <tbody>\n",
       "    <tr>\n",
       "      <th>0</th>\n",
       "      <td>IndiGo</td>\n",
       "      <td>Banglore</td>\n",
       "      <td>Delhi</td>\n",
       "      <td>BLR → DEL</td>\n",
       "      <td>2h 50m</td>\n",
       "      <td>non-stop</td>\n",
       "      <td>No info</td>\n",
       "      <td>3897</td>\n",
       "      <td>24</td>\n",
       "      <td>3</td>\n",
       "      <td>22</td>\n",
       "      <td>20</td>\n",
       "      <td>1</td>\n",
       "      <td>10</td>\n",
       "    </tr>\n",
       "    <tr>\n",
       "      <th>1</th>\n",
       "      <td>Air India</td>\n",
       "      <td>Kolkata</td>\n",
       "      <td>Banglore</td>\n",
       "      <td>CCU → IXR → BBI → BLR</td>\n",
       "      <td>7h 25m</td>\n",
       "      <td>2 stops</td>\n",
       "      <td>No info</td>\n",
       "      <td>7662</td>\n",
       "      <td>5</td>\n",
       "      <td>1</td>\n",
       "      <td>5</td>\n",
       "      <td>50</td>\n",
       "      <td>13</td>\n",
       "      <td>15</td>\n",
       "    </tr>\n",
       "    <tr>\n",
       "      <th>2</th>\n",
       "      <td>Jet Airways</td>\n",
       "      <td>Delhi</td>\n",
       "      <td>Cochin</td>\n",
       "      <td>DEL → LKO → BOM → COK</td>\n",
       "      <td>19h</td>\n",
       "      <td>2 stops</td>\n",
       "      <td>No info</td>\n",
       "      <td>13882</td>\n",
       "      <td>6</td>\n",
       "      <td>9</td>\n",
       "      <td>9</td>\n",
       "      <td>25</td>\n",
       "      <td>4</td>\n",
       "      <td>25</td>\n",
       "    </tr>\n",
       "    <tr>\n",
       "      <th>3</th>\n",
       "      <td>IndiGo</td>\n",
       "      <td>Kolkata</td>\n",
       "      <td>Banglore</td>\n",
       "      <td>CCU → NAG → BLR</td>\n",
       "      <td>5h 25m</td>\n",
       "      <td>1 stop</td>\n",
       "      <td>No info</td>\n",
       "      <td>6218</td>\n",
       "      <td>5</td>\n",
       "      <td>12</td>\n",
       "      <td>18</td>\n",
       "      <td>5</td>\n",
       "      <td>23</td>\n",
       "      <td>30</td>\n",
       "    </tr>\n",
       "    <tr>\n",
       "      <th>4</th>\n",
       "      <td>IndiGo</td>\n",
       "      <td>Banglore</td>\n",
       "      <td>Delhi</td>\n",
       "      <td>BLR → NAG → DEL</td>\n",
       "      <td>4h 45m</td>\n",
       "      <td>1 stop</td>\n",
       "      <td>No info</td>\n",
       "      <td>13302</td>\n",
       "      <td>3</td>\n",
       "      <td>1</td>\n",
       "      <td>16</td>\n",
       "      <td>50</td>\n",
       "      <td>21</td>\n",
       "      <td>35</td>\n",
       "    </tr>\n",
       "  </tbody>\n",
       "</table>\n",
       "</div>"
      ],
      "text/plain": [
       "       Airline    Source Destination                  Route Duration  \\\n",
       "0       IndiGo  Banglore       Delhi              BLR → DEL   2h 50m   \n",
       "1    Air India   Kolkata    Banglore  CCU → IXR → BBI → BLR   7h 25m   \n",
       "2  Jet Airways     Delhi      Cochin  DEL → LKO → BOM → COK      19h   \n",
       "3       IndiGo   Kolkata    Banglore        CCU → NAG → BLR   5h 25m   \n",
       "4       IndiGo  Banglore       Delhi        BLR → NAG → DEL   4h 45m   \n",
       "\n",
       "  Total_Stops Additional_Info  Price  journey_day  journey_month  \\\n",
       "0    non-stop         No info   3897           24              3   \n",
       "1     2 stops         No info   7662            5              1   \n",
       "2     2 stops         No info  13882            6              9   \n",
       "3      1 stop         No info   6218            5             12   \n",
       "4      1 stop         No info  13302            3              1   \n",
       "\n",
       "   Dep_Time_hour  Dep_Time_min  Arrival_Time_hour  Arrival_Time_min  \n",
       "0             22            20                  1                10  \n",
       "1              5            50                 13                15  \n",
       "2              9            25                  4                25  \n",
       "3             18             5                 23                30  \n",
       "4             16            50                 21                35  "
      ]
     },
     "execution_count": 30,
     "metadata": {},
     "output_type": "execute_result"
    }
   ],
   "source": [
    "df.head()"
   ]
  },
  {
   "cell_type": "markdown",
   "id": "northern-suffering",
   "metadata": {
    "papermill": {
     "duration": 0.112419,
     "end_time": "2021-06-19T07:43:56.351375",
     "exception": false,
     "start_time": "2021-06-19T07:43:56.238956",
     "status": "completed"
    },
    "tags": []
   },
   "source": [
    "Separating duration hours and minute from *Duration*"
   ]
  },
  {
   "cell_type": "code",
   "execution_count": 31,
   "id": "tracked-centre",
   "metadata": {
    "execution": {
     "iopub.execute_input": "2021-06-19T07:43:56.596642Z",
     "iopub.status.busy": "2021-06-19T07:43:56.596014Z",
     "iopub.status.idle": "2021-06-19T07:43:56.612928Z",
     "shell.execute_reply": "2021-06-19T07:43:56.612289Z"
    },
    "papermill": {
     "duration": 0.137085,
     "end_time": "2021-06-19T07:43:56.613083",
     "exception": false,
     "start_time": "2021-06-19T07:43:56.475998",
     "status": "completed"
    },
    "tags": []
   },
   "outputs": [],
   "source": [
    "duration=list(df['Duration'])\n",
    "for i in range(len(duration)):\n",
    "    if len(duration[i].split(' '))==2:\n",
    "        pass\n",
    "    else:\n",
    "        if 'h' in duration[i]: # Check if duration contains only hour\n",
    "             duration[i]=duration[i] + ' 0m' # Adds 0 minute\n",
    "        else:\n",
    "             duration[i]='0h '+ duration[i]"
   ]
  },
  {
   "cell_type": "code",
   "execution_count": 32,
   "id": "greatest-seminar",
   "metadata": {
    "execution": {
     "iopub.execute_input": "2021-06-19T07:43:56.843270Z",
     "iopub.status.busy": "2021-06-19T07:43:56.842615Z",
     "iopub.status.idle": "2021-06-19T07:43:56.847114Z",
     "shell.execute_reply": "2021-06-19T07:43:56.847647Z"
    },
    "papermill": {
     "duration": 0.121521,
     "end_time": "2021-06-19T07:43:56.847844",
     "exception": false,
     "start_time": "2021-06-19T07:43:56.726323",
     "status": "completed"
    },
    "tags": []
   },
   "outputs": [],
   "source": [
    "df['Duration']=duration"
   ]
  },
  {
   "cell_type": "code",
   "execution_count": 33,
   "id": "typical-raise",
   "metadata": {
    "execution": {
     "iopub.execute_input": "2021-06-19T07:43:57.078372Z",
     "iopub.status.busy": "2021-06-19T07:43:57.077720Z",
     "iopub.status.idle": "2021-06-19T07:43:57.093579Z",
     "shell.execute_reply": "2021-06-19T07:43:57.094111Z"
    },
    "papermill": {
     "duration": 0.13336,
     "end_time": "2021-06-19T07:43:57.094268",
     "exception": false,
     "start_time": "2021-06-19T07:43:56.960908",
     "status": "completed"
    },
    "tags": []
   },
   "outputs": [
    {
     "data": {
      "text/html": [
       "<div>\n",
       "<style scoped>\n",
       "    .dataframe tbody tr th:only-of-type {\n",
       "        vertical-align: middle;\n",
       "    }\n",
       "\n",
       "    .dataframe tbody tr th {\n",
       "        vertical-align: top;\n",
       "    }\n",
       "\n",
       "    .dataframe thead th {\n",
       "        text-align: right;\n",
       "    }\n",
       "</style>\n",
       "<table border=\"1\" class=\"dataframe\">\n",
       "  <thead>\n",
       "    <tr style=\"text-align: right;\">\n",
       "      <th></th>\n",
       "      <th>Airline</th>\n",
       "      <th>Source</th>\n",
       "      <th>Destination</th>\n",
       "      <th>Route</th>\n",
       "      <th>Duration</th>\n",
       "      <th>Total_Stops</th>\n",
       "      <th>Additional_Info</th>\n",
       "      <th>Price</th>\n",
       "      <th>journey_day</th>\n",
       "      <th>journey_month</th>\n",
       "      <th>Dep_Time_hour</th>\n",
       "      <th>Dep_Time_min</th>\n",
       "      <th>Arrival_Time_hour</th>\n",
       "      <th>Arrival_Time_min</th>\n",
       "    </tr>\n",
       "  </thead>\n",
       "  <tbody>\n",
       "    <tr>\n",
       "      <th>0</th>\n",
       "      <td>IndiGo</td>\n",
       "      <td>Banglore</td>\n",
       "      <td>Delhi</td>\n",
       "      <td>BLR → DEL</td>\n",
       "      <td>2h 50m</td>\n",
       "      <td>non-stop</td>\n",
       "      <td>No info</td>\n",
       "      <td>3897</td>\n",
       "      <td>24</td>\n",
       "      <td>3</td>\n",
       "      <td>22</td>\n",
       "      <td>20</td>\n",
       "      <td>1</td>\n",
       "      <td>10</td>\n",
       "    </tr>\n",
       "    <tr>\n",
       "      <th>1</th>\n",
       "      <td>Air India</td>\n",
       "      <td>Kolkata</td>\n",
       "      <td>Banglore</td>\n",
       "      <td>CCU → IXR → BBI → BLR</td>\n",
       "      <td>7h 25m</td>\n",
       "      <td>2 stops</td>\n",
       "      <td>No info</td>\n",
       "      <td>7662</td>\n",
       "      <td>5</td>\n",
       "      <td>1</td>\n",
       "      <td>5</td>\n",
       "      <td>50</td>\n",
       "      <td>13</td>\n",
       "      <td>15</td>\n",
       "    </tr>\n",
       "    <tr>\n",
       "      <th>2</th>\n",
       "      <td>Jet Airways</td>\n",
       "      <td>Delhi</td>\n",
       "      <td>Cochin</td>\n",
       "      <td>DEL → LKO → BOM → COK</td>\n",
       "      <td>19h 0m</td>\n",
       "      <td>2 stops</td>\n",
       "      <td>No info</td>\n",
       "      <td>13882</td>\n",
       "      <td>6</td>\n",
       "      <td>9</td>\n",
       "      <td>9</td>\n",
       "      <td>25</td>\n",
       "      <td>4</td>\n",
       "      <td>25</td>\n",
       "    </tr>\n",
       "    <tr>\n",
       "      <th>3</th>\n",
       "      <td>IndiGo</td>\n",
       "      <td>Kolkata</td>\n",
       "      <td>Banglore</td>\n",
       "      <td>CCU → NAG → BLR</td>\n",
       "      <td>5h 25m</td>\n",
       "      <td>1 stop</td>\n",
       "      <td>No info</td>\n",
       "      <td>6218</td>\n",
       "      <td>5</td>\n",
       "      <td>12</td>\n",
       "      <td>18</td>\n",
       "      <td>5</td>\n",
       "      <td>23</td>\n",
       "      <td>30</td>\n",
       "    </tr>\n",
       "    <tr>\n",
       "      <th>4</th>\n",
       "      <td>IndiGo</td>\n",
       "      <td>Banglore</td>\n",
       "      <td>Delhi</td>\n",
       "      <td>BLR → NAG → DEL</td>\n",
       "      <td>4h 45m</td>\n",
       "      <td>1 stop</td>\n",
       "      <td>No info</td>\n",
       "      <td>13302</td>\n",
       "      <td>3</td>\n",
       "      <td>1</td>\n",
       "      <td>16</td>\n",
       "      <td>50</td>\n",
       "      <td>21</td>\n",
       "      <td>35</td>\n",
       "    </tr>\n",
       "  </tbody>\n",
       "</table>\n",
       "</div>"
      ],
      "text/plain": [
       "       Airline    Source Destination                  Route Duration  \\\n",
       "0       IndiGo  Banglore       Delhi              BLR → DEL   2h 50m   \n",
       "1    Air India   Kolkata    Banglore  CCU → IXR → BBI → BLR   7h 25m   \n",
       "2  Jet Airways     Delhi      Cochin  DEL → LKO → BOM → COK   19h 0m   \n",
       "3       IndiGo   Kolkata    Banglore        CCU → NAG → BLR   5h 25m   \n",
       "4       IndiGo  Banglore       Delhi        BLR → NAG → DEL   4h 45m   \n",
       "\n",
       "  Total_Stops Additional_Info  Price  journey_day  journey_month  \\\n",
       "0    non-stop         No info   3897           24              3   \n",
       "1     2 stops         No info   7662            5              1   \n",
       "2     2 stops         No info  13882            6              9   \n",
       "3      1 stop         No info   6218            5             12   \n",
       "4      1 stop         No info  13302            3              1   \n",
       "\n",
       "   Dep_Time_hour  Dep_Time_min  Arrival_Time_hour  Arrival_Time_min  \n",
       "0             22            20                  1                10  \n",
       "1              5            50                 13                15  \n",
       "2              9            25                  4                25  \n",
       "3             18             5                 23                30  \n",
       "4             16            50                 21                35  "
      ]
     },
     "execution_count": 33,
     "metadata": {},
     "output_type": "execute_result"
    }
   ],
   "source": [
    "df.head()"
   ]
  },
  {
   "cell_type": "code",
   "execution_count": 34,
   "id": "unable-extent",
   "metadata": {
    "execution": {
     "iopub.execute_input": "2021-06-19T07:43:57.326685Z",
     "iopub.status.busy": "2021-06-19T07:43:57.326031Z",
     "iopub.status.idle": "2021-06-19T07:43:57.331798Z",
     "shell.execute_reply": "2021-06-19T07:43:57.331222Z"
    },
    "papermill": {
     "duration": 0.123135,
     "end_time": "2021-06-19T07:43:57.331948",
     "exception": false,
     "start_time": "2021-06-19T07:43:57.208813",
     "status": "completed"
    },
    "tags": []
   },
   "outputs": [],
   "source": [
    "def hour(x):\n",
    "    return x.split(' ')[0][0:-1]\n",
    "\n",
    "def minutes(x):\n",
    "    return x.split(' ')[1][0:-1]"
   ]
  },
  {
   "cell_type": "code",
   "execution_count": 35,
   "id": "continental-rehabilitation",
   "metadata": {
    "execution": {
     "iopub.execute_input": "2021-06-19T07:43:57.577834Z",
     "iopub.status.busy": "2021-06-19T07:43:57.573729Z",
     "iopub.status.idle": "2021-06-19T07:43:57.580889Z",
     "shell.execute_reply": "2021-06-19T07:43:57.580291Z"
    },
    "papermill": {
     "duration": 0.132195,
     "end_time": "2021-06-19T07:43:57.581036",
     "exception": false,
     "start_time": "2021-06-19T07:43:57.448841",
     "status": "completed"
    },
    "tags": []
   },
   "outputs": [],
   "source": [
    "df['dur_hour']=df['Duration'].apply(hour)"
   ]
  },
  {
   "cell_type": "code",
   "execution_count": 36,
   "id": "hazardous-analyst",
   "metadata": {
    "execution": {
     "iopub.execute_input": "2021-06-19T07:43:57.817418Z",
     "iopub.status.busy": "2021-06-19T07:43:57.816784Z",
     "iopub.status.idle": "2021-06-19T07:43:57.820493Z",
     "shell.execute_reply": "2021-06-19T07:43:57.819944Z"
    },
    "papermill": {
     "duration": 0.125874,
     "end_time": "2021-06-19T07:43:57.820641",
     "exception": false,
     "start_time": "2021-06-19T07:43:57.694767",
     "status": "completed"
    },
    "tags": []
   },
   "outputs": [],
   "source": [
    "df['dur_min']=df['Duration'].apply(minutes)"
   ]
  },
  {
   "cell_type": "code",
   "execution_count": 37,
   "id": "global-commons",
   "metadata": {
    "execution": {
     "iopub.execute_input": "2021-06-19T07:43:58.061572Z",
     "iopub.status.busy": "2021-06-19T07:43:58.054153Z",
     "iopub.status.idle": "2021-06-19T07:43:58.067295Z",
     "shell.execute_reply": "2021-06-19T07:43:58.066753Z"
    },
    "papermill": {
     "duration": 0.134256,
     "end_time": "2021-06-19T07:43:58.067448",
     "exception": false,
     "start_time": "2021-06-19T07:43:57.933192",
     "status": "completed"
    },
    "tags": []
   },
   "outputs": [
    {
     "data": {
      "text/html": [
       "<div>\n",
       "<style scoped>\n",
       "    .dataframe tbody tr th:only-of-type {\n",
       "        vertical-align: middle;\n",
       "    }\n",
       "\n",
       "    .dataframe tbody tr th {\n",
       "        vertical-align: top;\n",
       "    }\n",
       "\n",
       "    .dataframe thead th {\n",
       "        text-align: right;\n",
       "    }\n",
       "</style>\n",
       "<table border=\"1\" class=\"dataframe\">\n",
       "  <thead>\n",
       "    <tr style=\"text-align: right;\">\n",
       "      <th></th>\n",
       "      <th>Airline</th>\n",
       "      <th>Source</th>\n",
       "      <th>Destination</th>\n",
       "      <th>Route</th>\n",
       "      <th>Duration</th>\n",
       "      <th>Total_Stops</th>\n",
       "      <th>Additional_Info</th>\n",
       "      <th>Price</th>\n",
       "      <th>journey_day</th>\n",
       "      <th>journey_month</th>\n",
       "      <th>Dep_Time_hour</th>\n",
       "      <th>Dep_Time_min</th>\n",
       "      <th>Arrival_Time_hour</th>\n",
       "      <th>Arrival_Time_min</th>\n",
       "      <th>dur_hour</th>\n",
       "      <th>dur_min</th>\n",
       "    </tr>\n",
       "  </thead>\n",
       "  <tbody>\n",
       "    <tr>\n",
       "      <th>0</th>\n",
       "      <td>IndiGo</td>\n",
       "      <td>Banglore</td>\n",
       "      <td>Delhi</td>\n",
       "      <td>BLR → DEL</td>\n",
       "      <td>2h 50m</td>\n",
       "      <td>non-stop</td>\n",
       "      <td>No info</td>\n",
       "      <td>3897</td>\n",
       "      <td>24</td>\n",
       "      <td>3</td>\n",
       "      <td>22</td>\n",
       "      <td>20</td>\n",
       "      <td>1</td>\n",
       "      <td>10</td>\n",
       "      <td>2</td>\n",
       "      <td>50</td>\n",
       "    </tr>\n",
       "    <tr>\n",
       "      <th>1</th>\n",
       "      <td>Air India</td>\n",
       "      <td>Kolkata</td>\n",
       "      <td>Banglore</td>\n",
       "      <td>CCU → IXR → BBI → BLR</td>\n",
       "      <td>7h 25m</td>\n",
       "      <td>2 stops</td>\n",
       "      <td>No info</td>\n",
       "      <td>7662</td>\n",
       "      <td>5</td>\n",
       "      <td>1</td>\n",
       "      <td>5</td>\n",
       "      <td>50</td>\n",
       "      <td>13</td>\n",
       "      <td>15</td>\n",
       "      <td>7</td>\n",
       "      <td>25</td>\n",
       "    </tr>\n",
       "    <tr>\n",
       "      <th>2</th>\n",
       "      <td>Jet Airways</td>\n",
       "      <td>Delhi</td>\n",
       "      <td>Cochin</td>\n",
       "      <td>DEL → LKO → BOM → COK</td>\n",
       "      <td>19h 0m</td>\n",
       "      <td>2 stops</td>\n",
       "      <td>No info</td>\n",
       "      <td>13882</td>\n",
       "      <td>6</td>\n",
       "      <td>9</td>\n",
       "      <td>9</td>\n",
       "      <td>25</td>\n",
       "      <td>4</td>\n",
       "      <td>25</td>\n",
       "      <td>19</td>\n",
       "      <td>0</td>\n",
       "    </tr>\n",
       "    <tr>\n",
       "      <th>3</th>\n",
       "      <td>IndiGo</td>\n",
       "      <td>Kolkata</td>\n",
       "      <td>Banglore</td>\n",
       "      <td>CCU → NAG → BLR</td>\n",
       "      <td>5h 25m</td>\n",
       "      <td>1 stop</td>\n",
       "      <td>No info</td>\n",
       "      <td>6218</td>\n",
       "      <td>5</td>\n",
       "      <td>12</td>\n",
       "      <td>18</td>\n",
       "      <td>5</td>\n",
       "      <td>23</td>\n",
       "      <td>30</td>\n",
       "      <td>5</td>\n",
       "      <td>25</td>\n",
       "    </tr>\n",
       "    <tr>\n",
       "      <th>4</th>\n",
       "      <td>IndiGo</td>\n",
       "      <td>Banglore</td>\n",
       "      <td>Delhi</td>\n",
       "      <td>BLR → NAG → DEL</td>\n",
       "      <td>4h 45m</td>\n",
       "      <td>1 stop</td>\n",
       "      <td>No info</td>\n",
       "      <td>13302</td>\n",
       "      <td>3</td>\n",
       "      <td>1</td>\n",
       "      <td>16</td>\n",
       "      <td>50</td>\n",
       "      <td>21</td>\n",
       "      <td>35</td>\n",
       "      <td>4</td>\n",
       "      <td>45</td>\n",
       "    </tr>\n",
       "  </tbody>\n",
       "</table>\n",
       "</div>"
      ],
      "text/plain": [
       "       Airline    Source Destination                  Route Duration  \\\n",
       "0       IndiGo  Banglore       Delhi              BLR → DEL   2h 50m   \n",
       "1    Air India   Kolkata    Banglore  CCU → IXR → BBI → BLR   7h 25m   \n",
       "2  Jet Airways     Delhi      Cochin  DEL → LKO → BOM → COK   19h 0m   \n",
       "3       IndiGo   Kolkata    Banglore        CCU → NAG → BLR   5h 25m   \n",
       "4       IndiGo  Banglore       Delhi        BLR → NAG → DEL   4h 45m   \n",
       "\n",
       "  Total_Stops Additional_Info  Price  journey_day  journey_month  \\\n",
       "0    non-stop         No info   3897           24              3   \n",
       "1     2 stops         No info   7662            5              1   \n",
       "2     2 stops         No info  13882            6              9   \n",
       "3      1 stop         No info   6218            5             12   \n",
       "4      1 stop         No info  13302            3              1   \n",
       "\n",
       "   Dep_Time_hour  Dep_Time_min  Arrival_Time_hour  Arrival_Time_min dur_hour  \\\n",
       "0             22            20                  1                10        2   \n",
       "1              5            50                 13                15        7   \n",
       "2              9            25                  4                25       19   \n",
       "3             18             5                 23                30        5   \n",
       "4             16            50                 21                35        4   \n",
       "\n",
       "  dur_min  \n",
       "0      50  \n",
       "1      25  \n",
       "2       0  \n",
       "3      25  \n",
       "4      45  "
      ]
     },
     "execution_count": 37,
     "metadata": {},
     "output_type": "execute_result"
    }
   ],
   "source": [
    "df.head()"
   ]
  },
  {
   "cell_type": "code",
   "execution_count": 38,
   "id": "fantastic-former",
   "metadata": {
    "execution": {
     "iopub.execute_input": "2021-06-19T07:43:58.304070Z",
     "iopub.status.busy": "2021-06-19T07:43:58.303408Z",
     "iopub.status.idle": "2021-06-19T07:43:58.310863Z",
     "shell.execute_reply": "2021-06-19T07:43:58.311405Z"
    },
    "papermill": {
     "duration": 0.126816,
     "end_time": "2021-06-19T07:43:58.311575",
     "exception": false,
     "start_time": "2021-06-19T07:43:58.184759",
     "status": "completed"
    },
    "tags": []
   },
   "outputs": [],
   "source": [
    "drop_col(df,'Duration')"
   ]
  },
  {
   "cell_type": "code",
   "execution_count": 39,
   "id": "acknowledged-consent",
   "metadata": {
    "execution": {
     "iopub.execute_input": "2021-06-19T07:43:58.544140Z",
     "iopub.status.busy": "2021-06-19T07:43:58.543573Z",
     "iopub.status.idle": "2021-06-19T07:43:58.549691Z",
     "shell.execute_reply": "2021-06-19T07:43:58.550251Z"
    },
    "papermill": {
     "duration": 0.120167,
     "end_time": "2021-06-19T07:43:58.550399",
     "exception": false,
     "start_time": "2021-06-19T07:43:58.430232",
     "status": "completed"
    },
    "tags": []
   },
   "outputs": [
    {
     "data": {
      "text/plain": [
       "Airline              object\n",
       "Source               object\n",
       "Destination          object\n",
       "Route                object\n",
       "Total_Stops          object\n",
       "Additional_Info      object\n",
       "Price                 int64\n",
       "journey_day           int64\n",
       "journey_month         int64\n",
       "Dep_Time_hour         int64\n",
       "Dep_Time_min          int64\n",
       "Arrival_Time_hour     int64\n",
       "Arrival_Time_min      int64\n",
       "dur_hour             object\n",
       "dur_min              object\n",
       "dtype: object"
      ]
     },
     "execution_count": 39,
     "metadata": {},
     "output_type": "execute_result"
    }
   ],
   "source": [
    "df.dtypes"
   ]
  },
  {
   "cell_type": "code",
   "execution_count": 40,
   "id": "coordinate-calculator",
   "metadata": {
    "execution": {
     "iopub.execute_input": "2021-06-19T07:43:58.783430Z",
     "iopub.status.busy": "2021-06-19T07:43:58.782796Z",
     "iopub.status.idle": "2021-06-19T07:43:58.790894Z",
     "shell.execute_reply": "2021-06-19T07:43:58.791440Z"
    },
    "papermill": {
     "duration": 0.126322,
     "end_time": "2021-06-19T07:43:58.791606",
     "exception": false,
     "start_time": "2021-06-19T07:43:58.665284",
     "status": "completed"
    },
    "tags": []
   },
   "outputs": [],
   "source": [
    "df['dur_hour'] = df['dur_hour'].astype(int)\n",
    "df['dur_min'] = df['dur_min'].astype(int)"
   ]
  },
  {
   "cell_type": "code",
   "execution_count": 41,
   "id": "exciting-computer",
   "metadata": {
    "execution": {
     "iopub.execute_input": "2021-06-19T07:43:59.027863Z",
     "iopub.status.busy": "2021-06-19T07:43:59.026990Z",
     "iopub.status.idle": "2021-06-19T07:43:59.030456Z",
     "shell.execute_reply": "2021-06-19T07:43:59.031034Z"
    },
    "papermill": {
     "duration": 0.124279,
     "end_time": "2021-06-19T07:43:59.031208",
     "exception": false,
     "start_time": "2021-06-19T07:43:58.906929",
     "status": "completed"
    },
    "tags": []
   },
   "outputs": [
    {
     "data": {
      "text/plain": [
       "Airline              object\n",
       "Source               object\n",
       "Destination          object\n",
       "Route                object\n",
       "Total_Stops          object\n",
       "Additional_Info      object\n",
       "Price                 int64\n",
       "journey_day           int64\n",
       "journey_month         int64\n",
       "Dep_Time_hour         int64\n",
       "Dep_Time_min          int64\n",
       "Arrival_Time_hour     int64\n",
       "Arrival_Time_min      int64\n",
       "dur_hour              int64\n",
       "dur_min               int64\n",
       "dtype: object"
      ]
     },
     "execution_count": 41,
     "metadata": {},
     "output_type": "execute_result"
    }
   ],
   "source": [
    "df.dtypes"
   ]
  },
  {
   "cell_type": "code",
   "execution_count": 42,
   "id": "f2b8cdf1",
   "metadata": {},
   "outputs": [
    {
     "data": {
      "text/plain": [
       "<AxesSubplot:xlabel='Arrival_Time_hour', ylabel='Price'>"
      ]
     },
     "execution_count": 42,
     "metadata": {},
     "output_type": "execute_result"
    },
    {
     "data": {
      "image/png": "[encoded data removed]",
      "text/plain": [
       "<Figure size 720x576 with 2 Axes>"
      ]
     },
     "metadata": {
      "needs_background": "light"
     },
     "output_type": "display_data"
    }
   ],
   "source": [
    "df.plot.hexbin(x='Arrival_Time_hour',y='Price',gridsize=20,cmap=plt.cm.Blues,sharex=False,figsize=(10,8))"
   ]
  },
  {
   "cell_type": "markdown",
   "id": "differential-commerce",
   "metadata": {
    "papermill": {
     "duration": 0.116322,
     "end_time": "2021-06-19T07:43:59.265070",
     "exception": false,
     "start_time": "2021-06-19T07:43:59.148748",
     "status": "completed"
    },
    "tags": []
   },
   "source": [
    "## Handling Categorical Attributes"
   ]
  },
  {
   "cell_type": "code",
   "execution_count": 43,
   "id": "varied-lounge",
   "metadata": {
    "execution": {
     "iopub.execute_input": "2021-06-19T07:43:59.505341Z",
     "iopub.status.busy": "2021-06-19T07:43:59.504825Z",
     "iopub.status.idle": "2021-06-19T07:43:59.508446Z",
     "shell.execute_reply": "2021-06-19T07:43:59.508872Z"
    },
    "papermill": {
     "duration": 0.127017,
     "end_time": "2021-06-19T07:43:59.509023",
     "exception": false,
     "start_time": "2021-06-19T07:43:59.382006",
     "status": "completed"
    },
    "tags": []
   },
   "outputs": [
    {
     "data": {
      "text/plain": [
       "['Airline', 'Source', 'Destination', 'Route', 'Total_Stops', 'Additional_Info']"
      ]
     },
     "execution_count": 43,
     "metadata": {},
     "output_type": "execute_result"
    }
   ],
   "source": [
    "column=[column for column in df.columns if df[column].dtype=='object']\n",
    "column"
   ]
  },
  {
   "cell_type": "code",
   "execution_count": 44,
   "id": "strange-accountability",
   "metadata": {
    "execution": {
     "iopub.execute_input": "2021-06-19T07:43:59.816305Z",
     "iopub.status.busy": "2021-06-19T07:43:59.815819Z",
     "iopub.status.idle": "2021-06-19T07:43:59.820283Z",
     "shell.execute_reply": "2021-06-19T07:43:59.819719Z"
    },
    "papermill": {
     "duration": 0.084737,
     "end_time": "2021-06-19T07:43:59.820398",
     "exception": false,
     "start_time": "2021-06-19T07:43:59.735661",
     "status": "completed"
    },
    "tags": []
   },
   "outputs": [
    {
     "data": {
      "text/plain": [
       "['Price',\n",
       " 'journey_day',\n",
       " 'journey_month',\n",
       " 'Dep_Time_hour',\n",
       " 'Dep_Time_min',\n",
       " 'Arrival_Time_hour',\n",
       " 'Arrival_Time_min',\n",
       " 'dur_hour',\n",
       " 'dur_min']"
      ]
     },
     "execution_count": 44,
     "metadata": {},
     "output_type": "execute_result"
    }
   ],
   "source": [
    "continuous_col =[column for column in df.columns if df[column].dtype!='object']\n",
    "continuous_col"
   ]
  },
  {
   "cell_type": "code",
   "execution_count": 45,
   "id": "antique-iraqi",
   "metadata": {
    "execution": {
     "iopub.execute_input": "2021-06-19T07:44:00.511958Z",
     "iopub.status.busy": "2021-06-19T07:44:00.511365Z",
     "iopub.status.idle": "2021-06-19T07:44:00.517931Z",
     "shell.execute_reply": "2021-06-19T07:44:00.518464Z"
    },
    "papermill": {
     "duration": 0.123911,
     "end_time": "2021-06-19T07:44:00.518649",
     "exception": false,
     "start_time": "2021-06-19T07:44:00.394738",
     "status": "completed"
    },
    "tags": []
   },
   "outputs": [],
   "source": [
    "categorical = df[column]"
   ]
  },
  {
   "cell_type": "code",
   "execution_count": 46,
   "id": "weekly-poultry",
   "metadata": {
    "execution": {
     "iopub.execute_input": "2021-06-19T07:44:00.758464Z",
     "iopub.status.busy": "2021-06-19T07:44:00.757814Z",
     "iopub.status.idle": "2021-06-19T07:44:00.770323Z",
     "shell.execute_reply": "2021-06-19T07:44:00.770983Z"
    },
    "papermill": {
     "duration": 0.134122,
     "end_time": "2021-06-19T07:44:00.771146",
     "exception": false,
     "start_time": "2021-06-19T07:44:00.637024",
     "status": "completed"
    },
    "tags": []
   },
   "outputs": [
    {
     "data": {
      "text/html": [
       "<div>\n",
       "<style scoped>\n",
       "    .dataframe tbody tr th:only-of-type {\n",
       "        vertical-align: middle;\n",
       "    }\n",
       "\n",
       "    .dataframe tbody tr th {\n",
       "        vertical-align: top;\n",
       "    }\n",
       "\n",
       "    .dataframe thead th {\n",
       "        text-align: right;\n",
       "    }\n",
       "</style>\n",
       "<table border=\"1\" class=\"dataframe\">\n",
       "  <thead>\n",
       "    <tr style=\"text-align: right;\">\n",
       "      <th></th>\n",
       "      <th>Airline</th>\n",
       "      <th>Source</th>\n",
       "      <th>Destination</th>\n",
       "      <th>Route</th>\n",
       "      <th>Total_Stops</th>\n",
       "      <th>Additional_Info</th>\n",
       "    </tr>\n",
       "  </thead>\n",
       "  <tbody>\n",
       "    <tr>\n",
       "      <th>0</th>\n",
       "      <td>IndiGo</td>\n",
       "      <td>Banglore</td>\n",
       "      <td>Delhi</td>\n",
       "      <td>BLR → DEL</td>\n",
       "      <td>non-stop</td>\n",
       "      <td>No info</td>\n",
       "    </tr>\n",
       "    <tr>\n",
       "      <th>1</th>\n",
       "      <td>Air India</td>\n",
       "      <td>Kolkata</td>\n",
       "      <td>Banglore</td>\n",
       "      <td>CCU → IXR → BBI → BLR</td>\n",
       "      <td>2 stops</td>\n",
       "      <td>No info</td>\n",
       "    </tr>\n",
       "    <tr>\n",
       "      <th>2</th>\n",
       "      <td>Jet Airways</td>\n",
       "      <td>Delhi</td>\n",
       "      <td>Cochin</td>\n",
       "      <td>DEL → LKO → BOM → COK</td>\n",
       "      <td>2 stops</td>\n",
       "      <td>No info</td>\n",
       "    </tr>\n",
       "    <tr>\n",
       "      <th>3</th>\n",
       "      <td>IndiGo</td>\n",
       "      <td>Kolkata</td>\n",
       "      <td>Banglore</td>\n",
       "      <td>CCU → NAG → BLR</td>\n",
       "      <td>1 stop</td>\n",
       "      <td>No info</td>\n",
       "    </tr>\n",
       "    <tr>\n",
       "      <th>4</th>\n",
       "      <td>IndiGo</td>\n",
       "      <td>Banglore</td>\n",
       "      <td>Delhi</td>\n",
       "      <td>BLR → NAG → DEL</td>\n",
       "      <td>1 stop</td>\n",
       "      <td>No info</td>\n",
       "    </tr>\n",
       "  </tbody>\n",
       "</table>\n",
       "</div>"
      ],
      "text/plain": [
       "       Airline    Source Destination                  Route Total_Stops  \\\n",
       "0       IndiGo  Banglore       Delhi              BLR → DEL    non-stop   \n",
       "1    Air India   Kolkata    Banglore  CCU → IXR → BBI → BLR     2 stops   \n",
       "2  Jet Airways     Delhi      Cochin  DEL → LKO → BOM → COK     2 stops   \n",
       "3       IndiGo   Kolkata    Banglore        CCU → NAG → BLR      1 stop   \n",
       "4       IndiGo  Banglore       Delhi        BLR → NAG → DEL      1 stop   \n",
       "\n",
       "  Additional_Info  \n",
       "0         No info  \n",
       "1         No info  \n",
       "2         No info  \n",
       "3         No info  \n",
       "4         No info  "
      ]
     },
     "execution_count": 46,
     "metadata": {},
     "output_type": "execute_result"
    }
   ],
   "source": [
    "categorical.head()"
   ]
  },
  {
   "cell_type": "code",
   "execution_count": 47,
   "id": "aboriginal-flexibility",
   "metadata": {
    "execution": {
     "iopub.execute_input": "2021-06-19T07:44:01.005773Z",
     "iopub.status.busy": "2021-06-19T07:44:01.004951Z",
     "iopub.status.idle": "2021-06-19T07:44:01.016728Z",
     "shell.execute_reply": "2021-06-19T07:44:01.016301Z"
    },
    "papermill": {
     "duration": 0.130308,
     "end_time": "2021-06-19T07:44:01.016841",
     "exception": false,
     "start_time": "2021-06-19T07:44:00.886533",
     "status": "completed"
    },
    "tags": []
   },
   "outputs": [
    {
     "data": {
      "text/plain": [
       "Jet Airways                          3849\n",
       "IndiGo                               2053\n",
       "Air India                            1751\n",
       "Multiple carriers                    1196\n",
       "SpiceJet                              818\n",
       "Vistara                               479\n",
       "Air Asia                              319\n",
       "GoAir                                 194\n",
       "Multiple carriers Premium economy      13\n",
       "Jet Airways Business                    6\n",
       "Vistara Premium economy                 3\n",
       "Trujet                                  1\n",
       "Name: Airline, dtype: int64"
      ]
     },
     "execution_count": 47,
     "metadata": {},
     "output_type": "execute_result"
    }
   ],
   "source": [
    "categorical['Airline'].value_counts()"
   ]
  },
  {
   "cell_type": "markdown",
   "id": "b971da7d",
   "metadata": {},
   "source": [
    "As *Airline* is Nominal Categorical data, OneHotEncoding is performed."
   ]
  },
  {
   "cell_type": "code",
   "execution_count": 48,
   "id": "hispanic-thumb",
   "metadata": {
    "execution": {
     "iopub.execute_input": "2021-06-19T07:44:02.662375Z",
     "iopub.status.busy": "2021-06-19T07:44:02.661744Z",
     "iopub.status.idle": "2021-06-19T07:44:02.667560Z",
     "shell.execute_reply": "2021-06-19T07:44:02.667058Z"
    },
    "papermill": {
     "duration": 0.13302,
     "end_time": "2021-06-19T07:44:02.667686",
     "exception": false,
     "start_time": "2021-06-19T07:44:02.534666",
     "status": "completed"
    },
    "tags": []
   },
   "outputs": [],
   "source": [
    "# OneHotEncoding\n",
    "Airline=pd.get_dummies(categorical['Airline'],drop_first=True)"
   ]
  },
  {
   "cell_type": "code",
   "execution_count": 49,
   "id": "upper-press",
   "metadata": {
    "execution": {
     "iopub.execute_input": "2021-06-19T07:44:02.924584Z",
     "iopub.status.busy": "2021-06-19T07:44:02.923845Z",
     "iopub.status.idle": "2021-06-19T07:44:02.929620Z",
     "shell.execute_reply": "2021-06-19T07:44:02.928953Z"
    },
    "papermill": {
     "duration": 0.140377,
     "end_time": "2021-06-19T07:44:02.929788",
     "exception": false,
     "start_time": "2021-06-19T07:44:02.789411",
     "status": "completed"
    },
    "tags": []
   },
   "outputs": [
    {
     "data": {
      "text/html": [
       "<div>\n",
       "<style scoped>\n",
       "    .dataframe tbody tr th:only-of-type {\n",
       "        vertical-align: middle;\n",
       "    }\n",
       "\n",
       "    .dataframe tbody tr th {\n",
       "        vertical-align: top;\n",
       "    }\n",
       "\n",
       "    .dataframe thead th {\n",
       "        text-align: right;\n",
       "    }\n",
       "</style>\n",
       "<table border=\"1\" class=\"dataframe\">\n",
       "  <thead>\n",
       "    <tr style=\"text-align: right;\">\n",
       "      <th></th>\n",
       "      <th>Air India</th>\n",
       "      <th>GoAir</th>\n",
       "      <th>IndiGo</th>\n",
       "      <th>Jet Airways</th>\n",
       "      <th>Jet Airways Business</th>\n",
       "      <th>Multiple carriers</th>\n",
       "      <th>Multiple carriers Premium economy</th>\n",
       "      <th>SpiceJet</th>\n",
       "      <th>Trujet</th>\n",
       "      <th>Vistara</th>\n",
       "      <th>Vistara Premium economy</th>\n",
       "    </tr>\n",
       "  </thead>\n",
       "  <tbody>\n",
       "    <tr>\n",
       "      <th>0</th>\n",
       "      <td>0</td>\n",
       "      <td>0</td>\n",
       "      <td>1</td>\n",
       "      <td>0</td>\n",
       "      <td>0</td>\n",
       "      <td>0</td>\n",
       "      <td>0</td>\n",
       "      <td>0</td>\n",
       "      <td>0</td>\n",
       "      <td>0</td>\n",
       "      <td>0</td>\n",
       "    </tr>\n",
       "    <tr>\n",
       "      <th>1</th>\n",
       "      <td>1</td>\n",
       "      <td>0</td>\n",
       "      <td>0</td>\n",
       "      <td>0</td>\n",
       "      <td>0</td>\n",
       "      <td>0</td>\n",
       "      <td>0</td>\n",
       "      <td>0</td>\n",
       "      <td>0</td>\n",
       "      <td>0</td>\n",
       "      <td>0</td>\n",
       "    </tr>\n",
       "    <tr>\n",
       "      <th>2</th>\n",
       "      <td>0</td>\n",
       "      <td>0</td>\n",
       "      <td>0</td>\n",
       "      <td>1</td>\n",
       "      <td>0</td>\n",
       "      <td>0</td>\n",
       "      <td>0</td>\n",
       "      <td>0</td>\n",
       "      <td>0</td>\n",
       "      <td>0</td>\n",
       "      <td>0</td>\n",
       "    </tr>\n",
       "    <tr>\n",
       "      <th>3</th>\n",
       "      <td>0</td>\n",
       "      <td>0</td>\n",
       "      <td>1</td>\n",
       "      <td>0</td>\n",
       "      <td>0</td>\n",
       "      <td>0</td>\n",
       "      <td>0</td>\n",
       "      <td>0</td>\n",
       "      <td>0</td>\n",
       "      <td>0</td>\n",
       "      <td>0</td>\n",
       "    </tr>\n",
       "    <tr>\n",
       "      <th>4</th>\n",
       "      <td>0</td>\n",
       "      <td>0</td>\n",
       "      <td>1</td>\n",
       "      <td>0</td>\n",
       "      <td>0</td>\n",
       "      <td>0</td>\n",
       "      <td>0</td>\n",
       "      <td>0</td>\n",
       "      <td>0</td>\n",
       "      <td>0</td>\n",
       "      <td>0</td>\n",
       "    </tr>\n",
       "  </tbody>\n",
       "</table>\n",
       "</div>"
      ],
      "text/plain": [
       "   Air India  GoAir  IndiGo  Jet Airways  Jet Airways Business  \\\n",
       "0          0      0       1            0                     0   \n",
       "1          1      0       0            0                     0   \n",
       "2          0      0       0            1                     0   \n",
       "3          0      0       1            0                     0   \n",
       "4          0      0       1            0                     0   \n",
       "\n",
       "   Multiple carriers  Multiple carriers Premium economy  SpiceJet  Trujet  \\\n",
       "0                  0                                  0         0       0   \n",
       "1                  0                                  0         0       0   \n",
       "2                  0                                  0         0       0   \n",
       "3                  0                                  0         0       0   \n",
       "4                  0                                  0         0       0   \n",
       "\n",
       "   Vistara  Vistara Premium economy  \n",
       "0        0                        0  \n",
       "1        0                        0  \n",
       "2        0                        0  \n",
       "3        0                        0  \n",
       "4        0                        0  "
      ]
     },
     "execution_count": 49,
     "metadata": {},
     "output_type": "execute_result"
    }
   ],
   "source": [
    "Airline.head()"
   ]
  },
  {
   "cell_type": "code",
   "execution_count": 50,
   "id": "impressed-istanbul",
   "metadata": {
    "execution": {
     "iopub.execute_input": "2021-06-19T07:44:03.182228Z",
     "iopub.status.busy": "2021-06-19T07:44:03.181567Z",
     "iopub.status.idle": "2021-06-19T07:44:03.186125Z",
     "shell.execute_reply": "2021-06-19T07:44:03.186594Z"
    },
    "papermill": {
     "duration": 0.135942,
     "end_time": "2021-06-19T07:44:03.186774",
     "exception": false,
     "start_time": "2021-06-19T07:44:03.050832",
     "status": "completed"
    },
    "tags": []
   },
   "outputs": [
    {
     "data": {
      "text/plain": [
       "Delhi       4536\n",
       "Kolkata     2871\n",
       "Banglore    2197\n",
       "Mumbai       697\n",
       "Chennai      381\n",
       "Name: Source, dtype: int64"
      ]
     },
     "execution_count": 50,
     "metadata": {},
     "output_type": "execute_result"
    }
   ],
   "source": [
    "categorical['Source'].value_counts()"
   ]
  },
  {
   "cell_type": "code",
   "execution_count": 51,
   "id": "arctic-attraction",
   "metadata": {
    "execution": {
     "iopub.execute_input": "2021-06-19T07:44:03.906066Z",
     "iopub.status.busy": "2021-06-19T07:44:03.905395Z",
     "iopub.status.idle": "2021-06-19T07:44:03.917131Z",
     "shell.execute_reply": "2021-06-19T07:44:03.916600Z"
    },
    "papermill": {
     "duration": 0.098874,
     "end_time": "2021-06-19T07:44:03.917246",
     "exception": false,
     "start_time": "2021-06-19T07:44:03.818372",
     "status": "completed"
    },
    "tags": []
   },
   "outputs": [
    {
     "data": {
      "text/html": [
       "<div>\n",
       "<style scoped>\n",
       "    .dataframe tbody tr th:only-of-type {\n",
       "        vertical-align: middle;\n",
       "    }\n",
       "\n",
       "    .dataframe tbody tr th {\n",
       "        vertical-align: top;\n",
       "    }\n",
       "\n",
       "    .dataframe thead th {\n",
       "        text-align: right;\n",
       "    }\n",
       "</style>\n",
       "<table border=\"1\" class=\"dataframe\">\n",
       "  <thead>\n",
       "    <tr style=\"text-align: right;\">\n",
       "      <th></th>\n",
       "      <th>Chennai</th>\n",
       "      <th>Delhi</th>\n",
       "      <th>Kolkata</th>\n",
       "      <th>Mumbai</th>\n",
       "    </tr>\n",
       "  </thead>\n",
       "  <tbody>\n",
       "    <tr>\n",
       "      <th>0</th>\n",
       "      <td>0</td>\n",
       "      <td>0</td>\n",
       "      <td>0</td>\n",
       "      <td>0</td>\n",
       "    </tr>\n",
       "    <tr>\n",
       "      <th>1</th>\n",
       "      <td>0</td>\n",
       "      <td>0</td>\n",
       "      <td>1</td>\n",
       "      <td>0</td>\n",
       "    </tr>\n",
       "    <tr>\n",
       "      <th>2</th>\n",
       "      <td>0</td>\n",
       "      <td>1</td>\n",
       "      <td>0</td>\n",
       "      <td>0</td>\n",
       "    </tr>\n",
       "    <tr>\n",
       "      <th>3</th>\n",
       "      <td>0</td>\n",
       "      <td>0</td>\n",
       "      <td>1</td>\n",
       "      <td>0</td>\n",
       "    </tr>\n",
       "    <tr>\n",
       "      <th>4</th>\n",
       "      <td>0</td>\n",
       "      <td>0</td>\n",
       "      <td>0</td>\n",
       "      <td>0</td>\n",
       "    </tr>\n",
       "  </tbody>\n",
       "</table>\n",
       "</div>"
      ],
      "text/plain": [
       "   Chennai  Delhi  Kolkata  Mumbai\n",
       "0        0      0        0       0\n",
       "1        0      0        1       0\n",
       "2        0      1        0       0\n",
       "3        0      0        1       0\n",
       "4        0      0        0       0"
      ]
     },
     "execution_count": 51,
     "metadata": {},
     "output_type": "execute_result"
    }
   ],
   "source": [
    "# encoding of source column\n",
    "source=pd.get_dummies(categorical['Source'],drop_first=True)\n",
    "source.head()"
   ]
  },
  {
   "cell_type": "code",
   "execution_count": 52,
   "id": "extraordinary-auditor",
   "metadata": {
    "execution": {
     "iopub.execute_input": "2021-06-19T07:44:04.091955Z",
     "iopub.status.busy": "2021-06-19T07:44:04.091366Z",
     "iopub.status.idle": "2021-06-19T07:44:04.095635Z",
     "shell.execute_reply": "2021-06-19T07:44:04.095196Z"
    },
    "papermill": {
     "duration": 0.095564,
     "end_time": "2021-06-19T07:44:04.095789",
     "exception": false,
     "start_time": "2021-06-19T07:44:04.000225",
     "status": "completed"
    },
    "tags": []
   },
   "outputs": [
    {
     "data": {
      "text/plain": [
       "Cochin       4536\n",
       "Banglore     2871\n",
       "Delhi        2197\n",
       "Hyderabad     697\n",
       "Kolkata       381\n",
       "Name: Destination, dtype: int64"
      ]
     },
     "execution_count": 52,
     "metadata": {},
     "output_type": "execute_result"
    }
   ],
   "source": [
    "categorical['Destination'].value_counts()"
   ]
  },
  {
   "cell_type": "code",
   "execution_count": 53,
   "id": "lesser-affect",
   "metadata": {
    "execution": {
     "iopub.execute_input": "2021-06-19T07:44:04.725196Z",
     "iopub.status.busy": "2021-06-19T07:44:04.724506Z",
     "iopub.status.idle": "2021-06-19T07:44:04.736459Z",
     "shell.execute_reply": "2021-06-19T07:44:04.735941Z"
    },
    "papermill": {
     "duration": 0.142619,
     "end_time": "2021-06-19T07:44:04.736594",
     "exception": false,
     "start_time": "2021-06-19T07:44:04.593975",
     "status": "completed"
    },
    "tags": []
   },
   "outputs": [
    {
     "data": {
      "text/html": [
       "<div>\n",
       "<style scoped>\n",
       "    .dataframe tbody tr th:only-of-type {\n",
       "        vertical-align: middle;\n",
       "    }\n",
       "\n",
       "    .dataframe tbody tr th {\n",
       "        vertical-align: top;\n",
       "    }\n",
       "\n",
       "    .dataframe thead th {\n",
       "        text-align: right;\n",
       "    }\n",
       "</style>\n",
       "<table border=\"1\" class=\"dataframe\">\n",
       "  <thead>\n",
       "    <tr style=\"text-align: right;\">\n",
       "      <th></th>\n",
       "      <th>Cochin</th>\n",
       "      <th>Delhi</th>\n",
       "      <th>Hyderabad</th>\n",
       "      <th>Kolkata</th>\n",
       "    </tr>\n",
       "  </thead>\n",
       "  <tbody>\n",
       "    <tr>\n",
       "      <th>0</th>\n",
       "      <td>0</td>\n",
       "      <td>1</td>\n",
       "      <td>0</td>\n",
       "      <td>0</td>\n",
       "    </tr>\n",
       "    <tr>\n",
       "      <th>1</th>\n",
       "      <td>0</td>\n",
       "      <td>0</td>\n",
       "      <td>0</td>\n",
       "      <td>0</td>\n",
       "    </tr>\n",
       "    <tr>\n",
       "      <th>2</th>\n",
       "      <td>1</td>\n",
       "      <td>0</td>\n",
       "      <td>0</td>\n",
       "      <td>0</td>\n",
       "    </tr>\n",
       "    <tr>\n",
       "      <th>3</th>\n",
       "      <td>0</td>\n",
       "      <td>0</td>\n",
       "      <td>0</td>\n",
       "      <td>0</td>\n",
       "    </tr>\n",
       "    <tr>\n",
       "      <th>4</th>\n",
       "      <td>0</td>\n",
       "      <td>1</td>\n",
       "      <td>0</td>\n",
       "      <td>0</td>\n",
       "    </tr>\n",
       "  </tbody>\n",
       "</table>\n",
       "</div>"
      ],
      "text/plain": [
       "   Cochin  Delhi  Hyderabad  Kolkata\n",
       "0       0      1          0        0\n",
       "1       0      0          0        0\n",
       "2       1      0          0        0\n",
       "3       0      0          0        0\n",
       "4       0      1          0        0"
      ]
     },
     "execution_count": 53,
     "metadata": {},
     "output_type": "execute_result"
    }
   ],
   "source": [
    "# encoding of destination column\n",
    "destination=pd.get_dummies(categorical['Destination'],drop_first=True)\n",
    "destination.head()"
   ]
  },
  {
   "cell_type": "code",
   "execution_count": 54,
   "id": "pregnant-assurance",
   "metadata": {
    "execution": {
     "iopub.execute_input": "2021-06-19T07:44:05.000531Z",
     "iopub.status.busy": "2021-06-19T07:44:04.999736Z",
     "iopub.status.idle": "2021-06-19T07:44:05.004081Z",
     "shell.execute_reply": "2021-06-19T07:44:05.004573Z"
    },
    "papermill": {
     "duration": 0.141853,
     "end_time": "2021-06-19T07:44:05.004770",
     "exception": false,
     "start_time": "2021-06-19T07:44:04.862917",
     "status": "completed"
    },
    "tags": []
   },
   "outputs": [
    {
     "data": {
      "text/plain": [
       "DEL → BOM → COK          2376\n",
       "BLR → DEL                1552\n",
       "CCU → BOM → BLR           979\n",
       "CCU → BLR                 724\n",
       "BOM → HYD                 621\n",
       "                         ... \n",
       "CCU → VTZ → BLR             1\n",
       "CCU → IXZ → MAA → BLR       1\n",
       "BOM → COK → MAA → HYD       1\n",
       "BOM → CCU → HYD             1\n",
       "BOM → BBI → HYD             1\n",
       "Name: Route, Length: 128, dtype: int64"
      ]
     },
     "execution_count": 54,
     "metadata": {},
     "output_type": "execute_result"
    }
   ],
   "source": [
    "# encoding of route column\n",
    "categorical['Route'].value_counts()"
   ]
  },
  {
   "cell_type": "code",
   "execution_count": 55,
   "id": "impressive-processing",
   "metadata": {
    "execution": {
     "iopub.execute_input": "2021-06-19T07:44:05.425801Z",
     "iopub.status.busy": "2021-06-19T07:44:05.408380Z",
     "iopub.status.idle": "2021-06-19T07:44:05.428619Z",
     "shell.execute_reply": "2021-06-19T07:44:05.428157Z"
    },
    "papermill": {
     "duration": 0.298549,
     "end_time": "2021-06-19T07:44:05.428745",
     "exception": false,
     "start_time": "2021-06-19T07:44:05.130196",
     "status": "completed"
    },
    "tags": []
   },
   "outputs": [],
   "source": [
    "categorical['Route1']=categorical['Route'].str.split('→').str[0]\n",
    "categorical['Route2']=categorical['Route'].str.split('→').str[1]\n",
    "categorical['Route3']=categorical['Route'].str.split('→').str[2]\n",
    "categorical['Route4']=categorical['Route'].str.split('→').str[3]\n",
    "categorical['Route5']=categorical['Route'].str.split('→').str[4]"
   ]
  },
  {
   "cell_type": "code",
   "execution_count": 56,
   "id": "balanced-opposition",
   "metadata": {
    "execution": {
     "iopub.execute_input": "2021-06-19T07:44:05.611495Z",
     "iopub.status.busy": "2021-06-19T07:44:05.610858Z",
     "iopub.status.idle": "2021-06-19T07:44:05.615375Z",
     "shell.execute_reply": "2021-06-19T07:44:05.614845Z"
    },
    "papermill": {
     "duration": 0.102613,
     "end_time": "2021-06-19T07:44:05.615514",
     "exception": false,
     "start_time": "2021-06-19T07:44:05.512901",
     "status": "completed"
    },
    "tags": []
   },
   "outputs": [
    {
     "data": {
      "text/html": [
       "<div>\n",
       "<style scoped>\n",
       "    .dataframe tbody tr th:only-of-type {\n",
       "        vertical-align: middle;\n",
       "    }\n",
       "\n",
       "    .dataframe tbody tr th {\n",
       "        vertical-align: top;\n",
       "    }\n",
       "\n",
       "    .dataframe thead th {\n",
       "        text-align: right;\n",
       "    }\n",
       "</style>\n",
       "<table border=\"1\" class=\"dataframe\">\n",
       "  <thead>\n",
       "    <tr style=\"text-align: right;\">\n",
       "      <th></th>\n",
       "      <th>Airline</th>\n",
       "      <th>Source</th>\n",
       "      <th>Destination</th>\n",
       "      <th>Route</th>\n",
       "      <th>Total_Stops</th>\n",
       "      <th>Additional_Info</th>\n",
       "      <th>Route1</th>\n",
       "      <th>Route2</th>\n",
       "      <th>Route3</th>\n",
       "      <th>Route4</th>\n",
       "      <th>Route5</th>\n",
       "    </tr>\n",
       "  </thead>\n",
       "  <tbody>\n",
       "    <tr>\n",
       "      <th>0</th>\n",
       "      <td>IndiGo</td>\n",
       "      <td>Banglore</td>\n",
       "      <td>Delhi</td>\n",
       "      <td>BLR → DEL</td>\n",
       "      <td>non-stop</td>\n",
       "      <td>No info</td>\n",
       "      <td>BLR</td>\n",
       "      <td>DEL</td>\n",
       "      <td>NaN</td>\n",
       "      <td>NaN</td>\n",
       "      <td>NaN</td>\n",
       "    </tr>\n",
       "    <tr>\n",
       "      <th>1</th>\n",
       "      <td>Air India</td>\n",
       "      <td>Kolkata</td>\n",
       "      <td>Banglore</td>\n",
       "      <td>CCU → IXR → BBI → BLR</td>\n",
       "      <td>2 stops</td>\n",
       "      <td>No info</td>\n",
       "      <td>CCU</td>\n",
       "      <td>IXR</td>\n",
       "      <td>BBI</td>\n",
       "      <td>BLR</td>\n",
       "      <td>NaN</td>\n",
       "    </tr>\n",
       "    <tr>\n",
       "      <th>2</th>\n",
       "      <td>Jet Airways</td>\n",
       "      <td>Delhi</td>\n",
       "      <td>Cochin</td>\n",
       "      <td>DEL → LKO → BOM → COK</td>\n",
       "      <td>2 stops</td>\n",
       "      <td>No info</td>\n",
       "      <td>DEL</td>\n",
       "      <td>LKO</td>\n",
       "      <td>BOM</td>\n",
       "      <td>COK</td>\n",
       "      <td>NaN</td>\n",
       "    </tr>\n",
       "    <tr>\n",
       "      <th>3</th>\n",
       "      <td>IndiGo</td>\n",
       "      <td>Kolkata</td>\n",
       "      <td>Banglore</td>\n",
       "      <td>CCU → NAG → BLR</td>\n",
       "      <td>1 stop</td>\n",
       "      <td>No info</td>\n",
       "      <td>CCU</td>\n",
       "      <td>NAG</td>\n",
       "      <td>BLR</td>\n",
       "      <td>NaN</td>\n",
       "      <td>NaN</td>\n",
       "    </tr>\n",
       "    <tr>\n",
       "      <th>4</th>\n",
       "      <td>IndiGo</td>\n",
       "      <td>Banglore</td>\n",
       "      <td>Delhi</td>\n",
       "      <td>BLR → NAG → DEL</td>\n",
       "      <td>1 stop</td>\n",
       "      <td>No info</td>\n",
       "      <td>BLR</td>\n",
       "      <td>NAG</td>\n",
       "      <td>DEL</td>\n",
       "      <td>NaN</td>\n",
       "      <td>NaN</td>\n",
       "    </tr>\n",
       "    <tr>\n",
       "      <th>5</th>\n",
       "      <td>SpiceJet</td>\n",
       "      <td>Kolkata</td>\n",
       "      <td>Banglore</td>\n",
       "      <td>CCU → BLR</td>\n",
       "      <td>non-stop</td>\n",
       "      <td>No info</td>\n",
       "      <td>CCU</td>\n",
       "      <td>BLR</td>\n",
       "      <td>NaN</td>\n",
       "      <td>NaN</td>\n",
       "      <td>NaN</td>\n",
       "    </tr>\n",
       "    <tr>\n",
       "      <th>6</th>\n",
       "      <td>Jet Airways</td>\n",
       "      <td>Banglore</td>\n",
       "      <td>Delhi</td>\n",
       "      <td>BLR → BOM → DEL</td>\n",
       "      <td>1 stop</td>\n",
       "      <td>In-flight meal not included</td>\n",
       "      <td>BLR</td>\n",
       "      <td>BOM</td>\n",
       "      <td>DEL</td>\n",
       "      <td>NaN</td>\n",
       "      <td>NaN</td>\n",
       "    </tr>\n",
       "    <tr>\n",
       "      <th>7</th>\n",
       "      <td>Jet Airways</td>\n",
       "      <td>Banglore</td>\n",
       "      <td>Delhi</td>\n",
       "      <td>BLR → BOM → DEL</td>\n",
       "      <td>1 stop</td>\n",
       "      <td>No info</td>\n",
       "      <td>BLR</td>\n",
       "      <td>BOM</td>\n",
       "      <td>DEL</td>\n",
       "      <td>NaN</td>\n",
       "      <td>NaN</td>\n",
       "    </tr>\n",
       "    <tr>\n",
       "      <th>8</th>\n",
       "      <td>Jet Airways</td>\n",
       "      <td>Banglore</td>\n",
       "      <td>Delhi</td>\n",
       "      <td>BLR → BOM → DEL</td>\n",
       "      <td>1 stop</td>\n",
       "      <td>In-flight meal not included</td>\n",
       "      <td>BLR</td>\n",
       "      <td>BOM</td>\n",
       "      <td>DEL</td>\n",
       "      <td>NaN</td>\n",
       "      <td>NaN</td>\n",
       "    </tr>\n",
       "    <tr>\n",
       "      <th>9</th>\n",
       "      <td>Multiple carriers</td>\n",
       "      <td>Delhi</td>\n",
       "      <td>Cochin</td>\n",
       "      <td>DEL → BOM → COK</td>\n",
       "      <td>1 stop</td>\n",
       "      <td>No info</td>\n",
       "      <td>DEL</td>\n",
       "      <td>BOM</td>\n",
       "      <td>COK</td>\n",
       "      <td>NaN</td>\n",
       "      <td>NaN</td>\n",
       "    </tr>\n",
       "    <tr>\n",
       "      <th>10</th>\n",
       "      <td>Air India</td>\n",
       "      <td>Delhi</td>\n",
       "      <td>Cochin</td>\n",
       "      <td>DEL → BLR → COK</td>\n",
       "      <td>1 stop</td>\n",
       "      <td>No info</td>\n",
       "      <td>DEL</td>\n",
       "      <td>BLR</td>\n",
       "      <td>COK</td>\n",
       "      <td>NaN</td>\n",
       "      <td>NaN</td>\n",
       "    </tr>\n",
       "    <tr>\n",
       "      <th>11</th>\n",
       "      <td>IndiGo</td>\n",
       "      <td>Kolkata</td>\n",
       "      <td>Banglore</td>\n",
       "      <td>CCU → BLR</td>\n",
       "      <td>non-stop</td>\n",
       "      <td>No info</td>\n",
       "      <td>CCU</td>\n",
       "      <td>BLR</td>\n",
       "      <td>NaN</td>\n",
       "      <td>NaN</td>\n",
       "      <td>NaN</td>\n",
       "    </tr>\n",
       "    <tr>\n",
       "      <th>12</th>\n",
       "      <td>Air India</td>\n",
       "      <td>Chennai</td>\n",
       "      <td>Kolkata</td>\n",
       "      <td>MAA → CCU</td>\n",
       "      <td>non-stop</td>\n",
       "      <td>No info</td>\n",
       "      <td>MAA</td>\n",
       "      <td>CCU</td>\n",
       "      <td>NaN</td>\n",
       "      <td>NaN</td>\n",
       "      <td>NaN</td>\n",
       "    </tr>\n",
       "    <tr>\n",
       "      <th>13</th>\n",
       "      <td>Jet Airways</td>\n",
       "      <td>Kolkata</td>\n",
       "      <td>Banglore</td>\n",
       "      <td>CCU → BOM → BLR</td>\n",
       "      <td>1 stop</td>\n",
       "      <td>In-flight meal not included</td>\n",
       "      <td>CCU</td>\n",
       "      <td>BOM</td>\n",
       "      <td>BLR</td>\n",
       "      <td>NaN</td>\n",
       "      <td>NaN</td>\n",
       "    </tr>\n",
       "    <tr>\n",
       "      <th>14</th>\n",
       "      <td>IndiGo</td>\n",
       "      <td>Kolkata</td>\n",
       "      <td>Banglore</td>\n",
       "      <td>CCU → BLR</td>\n",
       "      <td>non-stop</td>\n",
       "      <td>No info</td>\n",
       "      <td>CCU</td>\n",
       "      <td>BLR</td>\n",
       "      <td>NaN</td>\n",
       "      <td>NaN</td>\n",
       "      <td>NaN</td>\n",
       "    </tr>\n",
       "    <tr>\n",
       "      <th>15</th>\n",
       "      <td>Air India</td>\n",
       "      <td>Delhi</td>\n",
       "      <td>Cochin</td>\n",
       "      <td>DEL → AMD → BOM → COK</td>\n",
       "      <td>2 stops</td>\n",
       "      <td>No info</td>\n",
       "      <td>DEL</td>\n",
       "      <td>AMD</td>\n",
       "      <td>BOM</td>\n",
       "      <td>COK</td>\n",
       "      <td>NaN</td>\n",
       "    </tr>\n",
       "    <tr>\n",
       "      <th>16</th>\n",
       "      <td>SpiceJet</td>\n",
       "      <td>Delhi</td>\n",
       "      <td>Cochin</td>\n",
       "      <td>DEL → PNQ → COK</td>\n",
       "      <td>1 stop</td>\n",
       "      <td>No info</td>\n",
       "      <td>DEL</td>\n",
       "      <td>PNQ</td>\n",
       "      <td>COK</td>\n",
       "      <td>NaN</td>\n",
       "      <td>NaN</td>\n",
       "    </tr>\n",
       "    <tr>\n",
       "      <th>17</th>\n",
       "      <td>Jet Airways</td>\n",
       "      <td>Delhi</td>\n",
       "      <td>Cochin</td>\n",
       "      <td>DEL → BOM → COK</td>\n",
       "      <td>1 stop</td>\n",
       "      <td>In-flight meal not included</td>\n",
       "      <td>DEL</td>\n",
       "      <td>BOM</td>\n",
       "      <td>COK</td>\n",
       "      <td>NaN</td>\n",
       "      <td>NaN</td>\n",
       "    </tr>\n",
       "    <tr>\n",
       "      <th>18</th>\n",
       "      <td>Air India</td>\n",
       "      <td>Delhi</td>\n",
       "      <td>Cochin</td>\n",
       "      <td>DEL → CCU → BOM → COK</td>\n",
       "      <td>2 stops</td>\n",
       "      <td>No info</td>\n",
       "      <td>DEL</td>\n",
       "      <td>CCU</td>\n",
       "      <td>BOM</td>\n",
       "      <td>COK</td>\n",
       "      <td>NaN</td>\n",
       "    </tr>\n",
       "    <tr>\n",
       "      <th>19</th>\n",
       "      <td>Jet Airways</td>\n",
       "      <td>Delhi</td>\n",
       "      <td>Cochin</td>\n",
       "      <td>DEL → BOM → COK</td>\n",
       "      <td>1 stop</td>\n",
       "      <td>In-flight meal not included</td>\n",
       "      <td>DEL</td>\n",
       "      <td>BOM</td>\n",
       "      <td>COK</td>\n",
       "      <td>NaN</td>\n",
       "      <td>NaN</td>\n",
       "    </tr>\n",
       "    <tr>\n",
       "      <th>20</th>\n",
       "      <td>GoAir</td>\n",
       "      <td>Delhi</td>\n",
       "      <td>Cochin</td>\n",
       "      <td>DEL → BOM → COK</td>\n",
       "      <td>1 stop</td>\n",
       "      <td>No info</td>\n",
       "      <td>DEL</td>\n",
       "      <td>BOM</td>\n",
       "      <td>COK</td>\n",
       "      <td>NaN</td>\n",
       "      <td>NaN</td>\n",
       "    </tr>\n",
       "    <tr>\n",
       "      <th>21</th>\n",
       "      <td>Air India</td>\n",
       "      <td>Banglore</td>\n",
       "      <td>Delhi</td>\n",
       "      <td>BLR → COK → DEL</td>\n",
       "      <td>1 stop</td>\n",
       "      <td>No info</td>\n",
       "      <td>BLR</td>\n",
       "      <td>COK</td>\n",
       "      <td>DEL</td>\n",
       "      <td>NaN</td>\n",
       "      <td>NaN</td>\n",
       "    </tr>\n",
       "    <tr>\n",
       "      <th>22</th>\n",
       "      <td>IndiGo</td>\n",
       "      <td>Banglore</td>\n",
       "      <td>Delhi</td>\n",
       "      <td>BLR → DEL</td>\n",
       "      <td>non-stop</td>\n",
       "      <td>No info</td>\n",
       "      <td>BLR</td>\n",
       "      <td>DEL</td>\n",
       "      <td>NaN</td>\n",
       "      <td>NaN</td>\n",
       "      <td>NaN</td>\n",
       "    </tr>\n",
       "    <tr>\n",
       "      <th>23</th>\n",
       "      <td>IndiGo</td>\n",
       "      <td>Banglore</td>\n",
       "      <td>Delhi</td>\n",
       "      <td>BLR → DEL</td>\n",
       "      <td>non-stop</td>\n",
       "      <td>No info</td>\n",
       "      <td>BLR</td>\n",
       "      <td>DEL</td>\n",
       "      <td>NaN</td>\n",
       "      <td>NaN</td>\n",
       "      <td>NaN</td>\n",
       "    </tr>\n",
       "    <tr>\n",
       "      <th>24</th>\n",
       "      <td>Jet Airways</td>\n",
       "      <td>Kolkata</td>\n",
       "      <td>Banglore</td>\n",
       "      <td>CCU → BOM → BLR</td>\n",
       "      <td>1 stop</td>\n",
       "      <td>In-flight meal not included</td>\n",
       "      <td>CCU</td>\n",
       "      <td>BOM</td>\n",
       "      <td>BLR</td>\n",
       "      <td>NaN</td>\n",
       "      <td>NaN</td>\n",
       "    </tr>\n",
       "    <tr>\n",
       "      <th>25</th>\n",
       "      <td>Jet Airways</td>\n",
       "      <td>Delhi</td>\n",
       "      <td>Cochin</td>\n",
       "      <td>DEL → IDR → BOM → COK</td>\n",
       "      <td>2 stops</td>\n",
       "      <td>No info</td>\n",
       "      <td>DEL</td>\n",
       "      <td>IDR</td>\n",
       "      <td>BOM</td>\n",
       "      <td>COK</td>\n",
       "      <td>NaN</td>\n",
       "    </tr>\n",
       "    <tr>\n",
       "      <th>26</th>\n",
       "      <td>IndiGo</td>\n",
       "      <td>Delhi</td>\n",
       "      <td>Cochin</td>\n",
       "      <td>DEL → LKO → COK</td>\n",
       "      <td>1 stop</td>\n",
       "      <td>No info</td>\n",
       "      <td>DEL</td>\n",
       "      <td>LKO</td>\n",
       "      <td>COK</td>\n",
       "      <td>NaN</td>\n",
       "      <td>NaN</td>\n",
       "    </tr>\n",
       "    <tr>\n",
       "      <th>27</th>\n",
       "      <td>GoAir</td>\n",
       "      <td>Delhi</td>\n",
       "      <td>Cochin</td>\n",
       "      <td>DEL → BOM → COK</td>\n",
       "      <td>1 stop</td>\n",
       "      <td>No info</td>\n",
       "      <td>DEL</td>\n",
       "      <td>BOM</td>\n",
       "      <td>COK</td>\n",
       "      <td>NaN</td>\n",
       "      <td>NaN</td>\n",
       "    </tr>\n",
       "    <tr>\n",
       "      <th>28</th>\n",
       "      <td>Vistara</td>\n",
       "      <td>Banglore</td>\n",
       "      <td>Delhi</td>\n",
       "      <td>BLR → DEL</td>\n",
       "      <td>non-stop</td>\n",
       "      <td>No info</td>\n",
       "      <td>BLR</td>\n",
       "      <td>DEL</td>\n",
       "      <td>NaN</td>\n",
       "      <td>NaN</td>\n",
       "      <td>NaN</td>\n",
       "    </tr>\n",
       "    <tr>\n",
       "      <th>29</th>\n",
       "      <td>Vistara</td>\n",
       "      <td>Chennai</td>\n",
       "      <td>Kolkata</td>\n",
       "      <td>MAA → CCU</td>\n",
       "      <td>non-stop</td>\n",
       "      <td>No info</td>\n",
       "      <td>MAA</td>\n",
       "      <td>CCU</td>\n",
       "      <td>NaN</td>\n",
       "      <td>NaN</td>\n",
       "      <td>NaN</td>\n",
       "    </tr>\n",
       "    <tr>\n",
       "      <th>30</th>\n",
       "      <td>Vistara</td>\n",
       "      <td>Chennai</td>\n",
       "      <td>Kolkata</td>\n",
       "      <td>MAA → CCU</td>\n",
       "      <td>non-stop</td>\n",
       "      <td>No info</td>\n",
       "      <td>MAA</td>\n",
       "      <td>CCU</td>\n",
       "      <td>NaN</td>\n",
       "      <td>NaN</td>\n",
       "      <td>NaN</td>\n",
       "    </tr>\n",
       "    <tr>\n",
       "      <th>31</th>\n",
       "      <td>Air India</td>\n",
       "      <td>Kolkata</td>\n",
       "      <td>Banglore</td>\n",
       "      <td>CCU → GAU → DEL → BLR</td>\n",
       "      <td>2 stops</td>\n",
       "      <td>No info</td>\n",
       "      <td>CCU</td>\n",
       "      <td>GAU</td>\n",
       "      <td>DEL</td>\n",
       "      <td>BLR</td>\n",
       "      <td>NaN</td>\n",
       "    </tr>\n",
       "    <tr>\n",
       "      <th>32</th>\n",
       "      <td>IndiGo</td>\n",
       "      <td>Banglore</td>\n",
       "      <td>Delhi</td>\n",
       "      <td>BLR → DEL</td>\n",
       "      <td>non-stop</td>\n",
       "      <td>No info</td>\n",
       "      <td>BLR</td>\n",
       "      <td>DEL</td>\n",
       "      <td>NaN</td>\n",
       "      <td>NaN</td>\n",
       "      <td>NaN</td>\n",
       "    </tr>\n",
       "    <tr>\n",
       "      <th>33</th>\n",
       "      <td>Jet Airways</td>\n",
       "      <td>Delhi</td>\n",
       "      <td>Cochin</td>\n",
       "      <td>DEL → NAG → BOM → COK</td>\n",
       "      <td>2 stops</td>\n",
       "      <td>In-flight meal not included</td>\n",
       "      <td>DEL</td>\n",
       "      <td>NAG</td>\n",
       "      <td>BOM</td>\n",
       "      <td>COK</td>\n",
       "      <td>NaN</td>\n",
       "    </tr>\n",
       "    <tr>\n",
       "      <th>34</th>\n",
       "      <td>Jet Airways</td>\n",
       "      <td>Delhi</td>\n",
       "      <td>Cochin</td>\n",
       "      <td>DEL → BOM → COK</td>\n",
       "      <td>1 stop</td>\n",
       "      <td>In-flight meal not included</td>\n",
       "      <td>DEL</td>\n",
       "      <td>BOM</td>\n",
       "      <td>COK</td>\n",
       "      <td>NaN</td>\n",
       "      <td>NaN</td>\n",
       "    </tr>\n",
       "    <tr>\n",
       "      <th>35</th>\n",
       "      <td>IndiGo</td>\n",
       "      <td>Delhi</td>\n",
       "      <td>Cochin</td>\n",
       "      <td>DEL → BOM → COK</td>\n",
       "      <td>1 stop</td>\n",
       "      <td>No info</td>\n",
       "      <td>DEL</td>\n",
       "      <td>BOM</td>\n",
       "      <td>COK</td>\n",
       "      <td>NaN</td>\n",
       "      <td>NaN</td>\n",
       "    </tr>\n",
       "    <tr>\n",
       "      <th>36</th>\n",
       "      <td>SpiceJet</td>\n",
       "      <td>Kolkata</td>\n",
       "      <td>Banglore</td>\n",
       "      <td>CCU → MAA → BLR</td>\n",
       "      <td>1 stop</td>\n",
       "      <td>No info</td>\n",
       "      <td>CCU</td>\n",
       "      <td>MAA</td>\n",
       "      <td>BLR</td>\n",
       "      <td>NaN</td>\n",
       "      <td>NaN</td>\n",
       "    </tr>\n",
       "    <tr>\n",
       "      <th>37</th>\n",
       "      <td>Air India</td>\n",
       "      <td>Kolkata</td>\n",
       "      <td>Banglore</td>\n",
       "      <td>CCU → BLR</td>\n",
       "      <td>non-stop</td>\n",
       "      <td>No info</td>\n",
       "      <td>CCU</td>\n",
       "      <td>BLR</td>\n",
       "      <td>NaN</td>\n",
       "      <td>NaN</td>\n",
       "      <td>NaN</td>\n",
       "    </tr>\n",
       "    <tr>\n",
       "      <th>38</th>\n",
       "      <td>Jet Airways</td>\n",
       "      <td>Banglore</td>\n",
       "      <td>Delhi</td>\n",
       "      <td>BLR → BOM → DEL</td>\n",
       "      <td>1 stop</td>\n",
       "      <td>No info</td>\n",
       "      <td>BLR</td>\n",
       "      <td>BOM</td>\n",
       "      <td>DEL</td>\n",
       "      <td>NaN</td>\n",
       "      <td>NaN</td>\n",
       "    </tr>\n",
       "    <tr>\n",
       "      <th>39</th>\n",
       "      <td>Jet Airways</td>\n",
       "      <td>Delhi</td>\n",
       "      <td>Cochin</td>\n",
       "      <td>DEL → BOM → COK</td>\n",
       "      <td>1 stop</td>\n",
       "      <td>No info</td>\n",
       "      <td>DEL</td>\n",
       "      <td>BOM</td>\n",
       "      <td>COK</td>\n",
       "      <td>NaN</td>\n",
       "      <td>NaN</td>\n",
       "    </tr>\n",
       "    <tr>\n",
       "      <th>40</th>\n",
       "      <td>Multiple carriers</td>\n",
       "      <td>Delhi</td>\n",
       "      <td>Cochin</td>\n",
       "      <td>DEL → HYD → COK</td>\n",
       "      <td>1 stop</td>\n",
       "      <td>No info</td>\n",
       "      <td>DEL</td>\n",
       "      <td>HYD</td>\n",
       "      <td>COK</td>\n",
       "      <td>NaN</td>\n",
       "      <td>NaN</td>\n",
       "    </tr>\n",
       "    <tr>\n",
       "      <th>41</th>\n",
       "      <td>Air India</td>\n",
       "      <td>Banglore</td>\n",
       "      <td>Delhi</td>\n",
       "      <td>BLR → BOM → DEL</td>\n",
       "      <td>1 stop</td>\n",
       "      <td>No info</td>\n",
       "      <td>BLR</td>\n",
       "      <td>BOM</td>\n",
       "      <td>DEL</td>\n",
       "      <td>NaN</td>\n",
       "      <td>NaN</td>\n",
       "    </tr>\n",
       "    <tr>\n",
       "      <th>42</th>\n",
       "      <td>Jet Airways</td>\n",
       "      <td>Delhi</td>\n",
       "      <td>Cochin</td>\n",
       "      <td>DEL → BOM → COK</td>\n",
       "      <td>1 stop</td>\n",
       "      <td>In-flight meal not included</td>\n",
       "      <td>DEL</td>\n",
       "      <td>BOM</td>\n",
       "      <td>COK</td>\n",
       "      <td>NaN</td>\n",
       "      <td>NaN</td>\n",
       "    </tr>\n",
       "    <tr>\n",
       "      <th>43</th>\n",
       "      <td>Air Asia</td>\n",
       "      <td>Banglore</td>\n",
       "      <td>Delhi</td>\n",
       "      <td>BLR → DEL</td>\n",
       "      <td>non-stop</td>\n",
       "      <td>No info</td>\n",
       "      <td>BLR</td>\n",
       "      <td>DEL</td>\n",
       "      <td>NaN</td>\n",
       "      <td>NaN</td>\n",
       "      <td>NaN</td>\n",
       "    </tr>\n",
       "    <tr>\n",
       "      <th>44</th>\n",
       "      <td>Multiple carriers</td>\n",
       "      <td>Delhi</td>\n",
       "      <td>Cochin</td>\n",
       "      <td>DEL → BOM → COK</td>\n",
       "      <td>1 stop</td>\n",
       "      <td>No info</td>\n",
       "      <td>DEL</td>\n",
       "      <td>BOM</td>\n",
       "      <td>COK</td>\n",
       "      <td>NaN</td>\n",
       "      <td>NaN</td>\n",
       "    </tr>\n",
       "    <tr>\n",
       "      <th>45</th>\n",
       "      <td>SpiceJet</td>\n",
       "      <td>Banglore</td>\n",
       "      <td>Delhi</td>\n",
       "      <td>BLR → DEL</td>\n",
       "      <td>non-stop</td>\n",
       "      <td>No check-in baggage included</td>\n",
       "      <td>BLR</td>\n",
       "      <td>DEL</td>\n",
       "      <td>NaN</td>\n",
       "      <td>NaN</td>\n",
       "      <td>NaN</td>\n",
       "    </tr>\n",
       "    <tr>\n",
       "      <th>46</th>\n",
       "      <td>IndiGo</td>\n",
       "      <td>Banglore</td>\n",
       "      <td>Delhi</td>\n",
       "      <td>BLR → DEL</td>\n",
       "      <td>non-stop</td>\n",
       "      <td>No info</td>\n",
       "      <td>BLR</td>\n",
       "      <td>DEL</td>\n",
       "      <td>NaN</td>\n",
       "      <td>NaN</td>\n",
       "      <td>NaN</td>\n",
       "    </tr>\n",
       "    <tr>\n",
       "      <th>47</th>\n",
       "      <td>Air India</td>\n",
       "      <td>Chennai</td>\n",
       "      <td>Kolkata</td>\n",
       "      <td>MAA → CCU</td>\n",
       "      <td>non-stop</td>\n",
       "      <td>No info</td>\n",
       "      <td>MAA</td>\n",
       "      <td>CCU</td>\n",
       "      <td>NaN</td>\n",
       "      <td>NaN</td>\n",
       "      <td>NaN</td>\n",
       "    </tr>\n",
       "    <tr>\n",
       "      <th>48</th>\n",
       "      <td>Air India</td>\n",
       "      <td>Kolkata</td>\n",
       "      <td>Banglore</td>\n",
       "      <td>CCU → HYD → BLR</td>\n",
       "      <td>1 stop</td>\n",
       "      <td>No info</td>\n",
       "      <td>CCU</td>\n",
       "      <td>HYD</td>\n",
       "      <td>BLR</td>\n",
       "      <td>NaN</td>\n",
       "      <td>NaN</td>\n",
       "    </tr>\n",
       "    <tr>\n",
       "      <th>49</th>\n",
       "      <td>Jet Airways</td>\n",
       "      <td>Delhi</td>\n",
       "      <td>Cochin</td>\n",
       "      <td>DEL → AMD → BOM → COK</td>\n",
       "      <td>2 stops</td>\n",
       "      <td>In-flight meal not included</td>\n",
       "      <td>DEL</td>\n",
       "      <td>AMD</td>\n",
       "      <td>BOM</td>\n",
       "      <td>COK</td>\n",
       "      <td>NaN</td>\n",
       "    </tr>\n",
       "  </tbody>\n",
       "</table>\n",
       "</div>"
      ],
      "text/plain": [
       "              Airline    Source Destination                  Route  \\\n",
       "0              IndiGo  Banglore       Delhi              BLR → DEL   \n",
       "1           Air India   Kolkata    Banglore  CCU → IXR → BBI → BLR   \n",
       "2         Jet Airways     Delhi      Cochin  DEL → LKO → BOM → COK   \n",
       "3              IndiGo   Kolkata    Banglore        CCU → NAG → BLR   \n",
       "4              IndiGo  Banglore       Delhi        BLR → NAG → DEL   \n",
       "5            SpiceJet   Kolkata    Banglore              CCU → BLR   \n",
       "6         Jet Airways  Banglore       Delhi        BLR → BOM → DEL   \n",
       "7         Jet Airways  Banglore       Delhi        BLR → BOM → DEL   \n",
       "8         Jet Airways  Banglore       Delhi        BLR → BOM → DEL   \n",
       "9   Multiple carriers     Delhi      Cochin        DEL → BOM → COK   \n",
       "10          Air India     Delhi      Cochin        DEL → BLR → COK   \n",
       "11             IndiGo   Kolkata    Banglore              CCU → BLR   \n",
       "12          Air India   Chennai     Kolkata              MAA → CCU   \n",
       "13        Jet Airways   Kolkata    Banglore        CCU → BOM → BLR   \n",
       "14             IndiGo   Kolkata    Banglore              CCU → BLR   \n",
       "15          Air India     Delhi      Cochin  DEL → AMD → BOM → COK   \n",
       "16           SpiceJet     Delhi      Cochin        DEL → PNQ → COK   \n",
       "17        Jet Airways     Delhi      Cochin        DEL → BOM → COK   \n",
       "18          Air India     Delhi      Cochin  DEL → CCU → BOM → COK   \n",
       "19        Jet Airways     Delhi      Cochin        DEL → BOM → COK   \n",
       "20              GoAir     Delhi      Cochin        DEL → BOM → COK   \n",
       "21          Air India  Banglore       Delhi        BLR → COK → DEL   \n",
       "22             IndiGo  Banglore       Delhi              BLR → DEL   \n",
       "23             IndiGo  Banglore       Delhi              BLR → DEL   \n",
       "24        Jet Airways   Kolkata    Banglore        CCU → BOM → BLR   \n",
       "25        Jet Airways     Delhi      Cochin  DEL → IDR → BOM → COK   \n",
       "26             IndiGo     Delhi      Cochin        DEL → LKO → COK   \n",
       "27              GoAir     Delhi      Cochin        DEL → BOM → COK   \n",
       "28            Vistara  Banglore       Delhi              BLR → DEL   \n",
       "29            Vistara   Chennai     Kolkata              MAA → CCU   \n",
       "30            Vistara   Chennai     Kolkata              MAA → CCU   \n",
       "31          Air India   Kolkata    Banglore  CCU → GAU → DEL → BLR   \n",
       "32             IndiGo  Banglore       Delhi              BLR → DEL   \n",
       "33        Jet Airways     Delhi      Cochin  DEL → NAG → BOM → COK   \n",
       "34        Jet Airways     Delhi      Cochin        DEL → BOM → COK   \n",
       "35             IndiGo     Delhi      Cochin        DEL → BOM → COK   \n",
       "36           SpiceJet   Kolkata    Banglore        CCU → MAA → BLR   \n",
       "37          Air India   Kolkata    Banglore              CCU → BLR   \n",
       "38        Jet Airways  Banglore       Delhi        BLR → BOM → DEL   \n",
       "39        Jet Airways     Delhi      Cochin        DEL → BOM → COK   \n",
       "40  Multiple carriers     Delhi      Cochin        DEL → HYD → COK   \n",
       "41          Air India  Banglore       Delhi        BLR → BOM → DEL   \n",
       "42        Jet Airways     Delhi      Cochin        DEL → BOM → COK   \n",
       "43           Air Asia  Banglore       Delhi              BLR → DEL   \n",
       "44  Multiple carriers     Delhi      Cochin        DEL → BOM → COK   \n",
       "45           SpiceJet  Banglore       Delhi              BLR → DEL   \n",
       "46             IndiGo  Banglore       Delhi              BLR → DEL   \n",
       "47          Air India   Chennai     Kolkata              MAA → CCU   \n",
       "48          Air India   Kolkata    Banglore        CCU → HYD → BLR   \n",
       "49        Jet Airways     Delhi      Cochin  DEL → AMD → BOM → COK   \n",
       "\n",
       "   Total_Stops               Additional_Info Route1 Route2 Route3 Route4  \\\n",
       "0     non-stop                       No info   BLR     DEL    NaN    NaN   \n",
       "1      2 stops                       No info   CCU    IXR    BBI     BLR   \n",
       "2      2 stops                       No info   DEL    LKO    BOM     COK   \n",
       "3       1 stop                       No info   CCU    NAG     BLR    NaN   \n",
       "4       1 stop                       No info   BLR    NAG     DEL    NaN   \n",
       "5     non-stop                       No info   CCU     BLR    NaN    NaN   \n",
       "6       1 stop   In-flight meal not included   BLR    BOM     DEL    NaN   \n",
       "7       1 stop                       No info   BLR    BOM     DEL    NaN   \n",
       "8       1 stop   In-flight meal not included   BLR    BOM     DEL    NaN   \n",
       "9       1 stop                       No info   DEL    BOM     COK    NaN   \n",
       "10      1 stop                       No info   DEL    BLR     COK    NaN   \n",
       "11    non-stop                       No info   CCU     BLR    NaN    NaN   \n",
       "12    non-stop                       No info   MAA     CCU    NaN    NaN   \n",
       "13      1 stop   In-flight meal not included   CCU    BOM     BLR    NaN   \n",
       "14    non-stop                       No info   CCU     BLR    NaN    NaN   \n",
       "15     2 stops                       No info   DEL    AMD    BOM     COK   \n",
       "16      1 stop                       No info   DEL    PNQ     COK    NaN   \n",
       "17      1 stop   In-flight meal not included   DEL    BOM     COK    NaN   \n",
       "18     2 stops                       No info   DEL    CCU    BOM     COK   \n",
       "19      1 stop   In-flight meal not included   DEL    BOM     COK    NaN   \n",
       "20      1 stop                       No info   DEL    BOM     COK    NaN   \n",
       "21      1 stop                       No info   BLR    COK     DEL    NaN   \n",
       "22    non-stop                       No info   BLR     DEL    NaN    NaN   \n",
       "23    non-stop                       No info   BLR     DEL    NaN    NaN   \n",
       "24      1 stop   In-flight meal not included   CCU    BOM     BLR    NaN   \n",
       "25     2 stops                       No info   DEL    IDR    BOM     COK   \n",
       "26      1 stop                       No info   DEL    LKO     COK    NaN   \n",
       "27      1 stop                       No info   DEL    BOM     COK    NaN   \n",
       "28    non-stop                       No info   BLR     DEL    NaN    NaN   \n",
       "29    non-stop                       No info   MAA     CCU    NaN    NaN   \n",
       "30    non-stop                       No info   MAA     CCU    NaN    NaN   \n",
       "31     2 stops                       No info   CCU    GAU    DEL     BLR   \n",
       "32    non-stop                       No info   BLR     DEL    NaN    NaN   \n",
       "33     2 stops   In-flight meal not included   DEL    NAG    BOM     COK   \n",
       "34      1 stop   In-flight meal not included   DEL    BOM     COK    NaN   \n",
       "35      1 stop                       No info   DEL    BOM     COK    NaN   \n",
       "36      1 stop                       No info   CCU    MAA     BLR    NaN   \n",
       "37    non-stop                       No info   CCU     BLR    NaN    NaN   \n",
       "38      1 stop                       No info   BLR    BOM     DEL    NaN   \n",
       "39      1 stop                       No info   DEL    BOM     COK    NaN   \n",
       "40      1 stop                       No info   DEL    HYD     COK    NaN   \n",
       "41      1 stop                       No info   BLR    BOM     DEL    NaN   \n",
       "42      1 stop   In-flight meal not included   DEL    BOM     COK    NaN   \n",
       "43    non-stop                       No info   BLR     DEL    NaN    NaN   \n",
       "44      1 stop                       No info   DEL    BOM     COK    NaN   \n",
       "45    non-stop  No check-in baggage included   BLR     DEL    NaN    NaN   \n",
       "46    non-stop                       No info   BLR     DEL    NaN    NaN   \n",
       "47    non-stop                       No info   MAA     CCU    NaN    NaN   \n",
       "48      1 stop                       No info   CCU    HYD     BLR    NaN   \n",
       "49     2 stops   In-flight meal not included   DEL    AMD    BOM     COK   \n",
       "\n",
       "   Route5  \n",
       "0     NaN  \n",
       "1     NaN  \n",
       "2     NaN  \n",
       "3     NaN  \n",
       "4     NaN  \n",
       "5     NaN  \n",
       "6     NaN  \n",
       "7     NaN  \n",
       "8     NaN  \n",
       "9     NaN  \n",
       "10    NaN  \n",
       "11    NaN  \n",
       "12    NaN  \n",
       "13    NaN  \n",
       "14    NaN  \n",
       "15    NaN  \n",
       "16    NaN  \n",
       "17    NaN  \n",
       "18    NaN  \n",
       "19    NaN  \n",
       "20    NaN  \n",
       "21    NaN  \n",
       "22    NaN  \n",
       "23    NaN  \n",
       "24    NaN  \n",
       "25    NaN  \n",
       "26    NaN  \n",
       "27    NaN  \n",
       "28    NaN  \n",
       "29    NaN  \n",
       "30    NaN  \n",
       "31    NaN  \n",
       "32    NaN  \n",
       "33    NaN  \n",
       "34    NaN  \n",
       "35    NaN  \n",
       "36    NaN  \n",
       "37    NaN  \n",
       "38    NaN  \n",
       "39    NaN  \n",
       "40    NaN  \n",
       "41    NaN  \n",
       "42    NaN  \n",
       "43    NaN  \n",
       "44    NaN  \n",
       "45    NaN  \n",
       "46    NaN  \n",
       "47    NaN  \n",
       "48    NaN  \n",
       "49    NaN  "
      ]
     },
     "execution_count": 56,
     "metadata": {},
     "output_type": "execute_result"
    }
   ],
   "source": [
    "categorical.head(50)"
   ]
  },
  {
   "cell_type": "code",
   "execution_count": 57,
   "id": "parliamentary-studio",
   "metadata": {
    "execution": {
     "iopub.execute_input": "2021-06-19T07:44:05.875124Z",
     "iopub.status.busy": "2021-06-19T07:44:05.874469Z",
     "iopub.status.idle": "2021-06-19T07:44:05.880786Z",
     "shell.execute_reply": "2021-06-19T07:44:05.880280Z"
    },
    "papermill": {
     "duration": 0.138268,
     "end_time": "2021-06-19T07:44:05.880920",
     "exception": false,
     "start_time": "2021-06-19T07:44:05.742652",
     "status": "completed"
    },
    "tags": []
   },
   "outputs": [],
   "source": [
    "drop_col(categorical,'Route')"
   ]
  },
  {
   "cell_type": "code",
   "execution_count": 58,
   "id": "final-scale",
   "metadata": {
    "execution": {
     "iopub.execute_input": "2021-06-19T07:44:06.146224Z",
     "iopub.status.busy": "2021-06-19T07:44:06.145550Z",
     "iopub.status.idle": "2021-06-19T07:44:06.149436Z",
     "shell.execute_reply": "2021-06-19T07:44:06.149997Z"
    },
    "papermill": {
     "duration": 0.140036,
     "end_time": "2021-06-19T07:44:06.150168",
     "exception": false,
     "start_time": "2021-06-19T07:44:06.010132",
     "status": "completed"
    },
    "tags": []
   },
   "outputs": [
    {
     "data": {
      "text/plain": [
       "Airline                0\n",
       "Source                 0\n",
       "Destination            0\n",
       "Total_Stops            0\n",
       "Additional_Info        0\n",
       "Route1                 0\n",
       "Route2                 0\n",
       "Route3              3491\n",
       "Route4              9116\n",
       "Route5             10636\n",
       "dtype: int64"
      ]
     },
     "execution_count": 58,
     "metadata": {},
     "output_type": "execute_result"
    }
   ],
   "source": [
    "categorical.isnull().sum()"
   ]
  },
  {
   "cell_type": "code",
   "execution_count": 59,
   "id": "humanitarian-ireland",
   "metadata": {
    "execution": {
     "iopub.execute_input": "2021-06-19T07:44:06.409777Z",
     "iopub.status.busy": "2021-06-19T07:44:06.409113Z",
     "iopub.status.idle": "2021-06-19T07:44:06.413089Z",
     "shell.execute_reply": "2021-06-19T07:44:06.413621Z"
    },
    "papermill": {
     "duration": 0.135281,
     "end_time": "2021-06-19T07:44:06.413821",
     "exception": false,
     "start_time": "2021-06-19T07:44:06.278540",
     "status": "completed"
    },
    "tags": []
   },
   "outputs": [
    {
     "data": {
      "text/plain": [
       "Index(['Airline', 'Source', 'Destination', 'Total_Stops', 'Additional_Info',\n",
       "       'Route1', 'Route2', 'Route3', 'Route4', 'Route5'],\n",
       "      dtype='object')"
      ]
     },
     "execution_count": 59,
     "metadata": {},
     "output_type": "execute_result"
    }
   ],
   "source": [
    "categorical.columns"
   ]
  },
  {
   "cell_type": "code",
   "execution_count": 60,
   "id": "precise-record",
   "metadata": {
    "execution": {
     "iopub.execute_input": "2021-06-19T07:44:06.672781Z",
     "iopub.status.busy": "2021-06-19T07:44:06.672115Z",
     "iopub.status.idle": "2021-06-19T07:44:06.678667Z",
     "shell.execute_reply": "2021-06-19T07:44:06.679215Z"
    },
    "papermill": {
     "duration": 0.137174,
     "end_time": "2021-06-19T07:44:06.679401",
     "exception": false,
     "start_time": "2021-06-19T07:44:06.542227",
     "status": "completed"
    },
    "tags": []
   },
   "outputs": [],
   "source": [
    "for i in ['Route3', 'Route4', 'Route5']:\n",
    "    categorical[i].fillna('None',inplace=True)"
   ]
  },
  {
   "cell_type": "code",
   "execution_count": 61,
   "id": "stuffed-texas",
   "metadata": {
    "execution": {
     "iopub.execute_input": "2021-06-19T07:44:06.938809Z",
     "iopub.status.busy": "2021-06-19T07:44:06.938126Z",
     "iopub.status.idle": "2021-06-19T07:44:06.949459Z",
     "shell.execute_reply": "2021-06-19T07:44:06.949989Z"
    },
    "papermill": {
     "duration": 0.142712,
     "end_time": "2021-06-19T07:44:06.950158",
     "exception": false,
     "start_time": "2021-06-19T07:44:06.807446",
     "status": "completed"
    },
    "tags": []
   },
   "outputs": [
    {
     "data": {
      "text/plain": [
       "Airline            0\n",
       "Source             0\n",
       "Destination        0\n",
       "Total_Stops        0\n",
       "Additional_Info    0\n",
       "Route1             0\n",
       "Route2             0\n",
       "Route3             0\n",
       "Route4             0\n",
       "Route5             0\n",
       "dtype: int64"
      ]
     },
     "execution_count": 61,
     "metadata": {},
     "output_type": "execute_result"
    }
   ],
   "source": [
    "categorical.isnull().sum()"
   ]
  },
  {
   "cell_type": "code",
   "execution_count": 62,
   "id": "eight-cleaning",
   "metadata": {
    "execution": {
     "iopub.execute_input": "2021-06-19T07:44:07.212308Z",
     "iopub.status.busy": "2021-06-19T07:44:07.211530Z",
     "iopub.status.idle": "2021-06-19T07:44:07.250011Z",
     "shell.execute_reply": "2021-06-19T07:44:07.249470Z"
    },
    "papermill": {
     "duration": 0.170516,
     "end_time": "2021-06-19T07:44:07.250143",
     "exception": false,
     "start_time": "2021-06-19T07:44:07.079627",
     "status": "completed"
    },
    "tags": []
   },
   "outputs": [
    {
     "name": "stdout",
     "output_type": "stream",
     "text": [
      "Airline has total 12 categories\n",
      "Source has total 5 categories\n",
      "Destination has total 5 categories\n",
      "Total_Stops has total 5 categories\n",
      "Additional_Info has total 10 categories\n",
      "Route1 has total 5 categories\n",
      "Route2 has total 45 categories\n",
      "Route3 has total 30 categories\n",
      "Route4 has total 14 categories\n",
      "Route5 has total 6 categories\n"
     ]
    }
   ],
   "source": [
    "for i in categorical.columns:\n",
    "    print('{} has total {} categories'.format(i,len(categorical[i].value_counts())))"
   ]
  },
  {
   "cell_type": "code",
   "execution_count": 63,
   "id": "peaceful-marketplace",
   "metadata": {
    "execution": {
     "iopub.execute_input": "2021-06-19T07:44:08.047524Z",
     "iopub.status.busy": "2021-06-19T07:44:08.046957Z",
     "iopub.status.idle": "2021-06-19T07:44:08.051352Z",
     "shell.execute_reply": "2021-06-19T07:44:08.050787Z"
    },
    "papermill": {
     "duration": 0.140556,
     "end_time": "2021-06-19T07:44:08.051472",
     "exception": false,
     "start_time": "2021-06-19T07:44:07.910916",
     "status": "completed"
    },
    "tags": []
   },
   "outputs": [],
   "source": [
    "# Applying label encoder\n",
    "from sklearn.preprocessing import LabelEncoder\n",
    "encoder = LabelEncoder()"
   ]
  },
  {
   "cell_type": "code",
   "execution_count": 64,
   "id": "economic-america",
   "metadata": {
    "execution": {
     "iopub.execute_input": "2021-06-19T07:44:08.314014Z",
     "iopub.status.busy": "2021-06-19T07:44:08.301366Z",
     "iopub.status.idle": "2021-06-19T07:44:08.316176Z",
     "shell.execute_reply": "2021-06-19T07:44:08.316601Z"
    },
    "papermill": {
     "duration": 0.143389,
     "end_time": "2021-06-19T07:44:08.316751",
     "exception": false,
     "start_time": "2021-06-19T07:44:08.173362",
     "status": "completed"
    },
    "tags": []
   },
   "outputs": [],
   "source": [
    "for i in ['Route1', 'Route2', 'Route3', 'Route4', 'Route5']:\n",
    "    categorical[i]=encoder.fit_transform(categorical[i])"
   ]
  },
  {
   "cell_type": "code",
   "execution_count": 65,
   "id": "egyptian-sponsorship",
   "metadata": {
    "execution": {
     "iopub.execute_input": "2021-06-19T07:44:08.487138Z",
     "iopub.status.busy": "2021-06-19T07:44:08.486673Z",
     "iopub.status.idle": "2021-06-19T07:44:08.501156Z",
     "shell.execute_reply": "2021-06-19T07:44:08.501572Z"
    },
    "papermill": {
     "duration": 0.103844,
     "end_time": "2021-06-19T07:44:08.501729",
     "exception": false,
     "start_time": "2021-06-19T07:44:08.397885",
     "status": "completed"
    },
    "tags": []
   },
   "outputs": [
    {
     "data": {
      "text/html": [
       "<div>\n",
       "<style scoped>\n",
       "    .dataframe tbody tr th:only-of-type {\n",
       "        vertical-align: middle;\n",
       "    }\n",
       "\n",
       "    .dataframe tbody tr th {\n",
       "        vertical-align: top;\n",
       "    }\n",
       "\n",
       "    .dataframe thead th {\n",
       "        text-align: right;\n",
       "    }\n",
       "</style>\n",
       "<table border=\"1\" class=\"dataframe\">\n",
       "  <thead>\n",
       "    <tr style=\"text-align: right;\">\n",
       "      <th></th>\n",
       "      <th>Airline</th>\n",
       "      <th>Source</th>\n",
       "      <th>Destination</th>\n",
       "      <th>Total_Stops</th>\n",
       "      <th>Additional_Info</th>\n",
       "      <th>Route1</th>\n",
       "      <th>Route2</th>\n",
       "      <th>Route3</th>\n",
       "      <th>Route4</th>\n",
       "      <th>Route5</th>\n",
       "    </tr>\n",
       "  </thead>\n",
       "  <tbody>\n",
       "    <tr>\n",
       "      <th>0</th>\n",
       "      <td>IndiGo</td>\n",
       "      <td>Banglore</td>\n",
       "      <td>Delhi</td>\n",
       "      <td>non-stop</td>\n",
       "      <td>No info</td>\n",
       "      <td>0</td>\n",
       "      <td>13</td>\n",
       "      <td>29</td>\n",
       "      <td>13</td>\n",
       "      <td>5</td>\n",
       "    </tr>\n",
       "    <tr>\n",
       "      <th>1</th>\n",
       "      <td>Air India</td>\n",
       "      <td>Kolkata</td>\n",
       "      <td>Banglore</td>\n",
       "      <td>2 stops</td>\n",
       "      <td>No info</td>\n",
       "      <td>2</td>\n",
       "      <td>25</td>\n",
       "      <td>1</td>\n",
       "      <td>3</td>\n",
       "      <td>5</td>\n",
       "    </tr>\n",
       "    <tr>\n",
       "      <th>2</th>\n",
       "      <td>Jet Airways</td>\n",
       "      <td>Delhi</td>\n",
       "      <td>Cochin</td>\n",
       "      <td>2 stops</td>\n",
       "      <td>No info</td>\n",
       "      <td>3</td>\n",
       "      <td>32</td>\n",
       "      <td>4</td>\n",
       "      <td>5</td>\n",
       "      <td>5</td>\n",
       "    </tr>\n",
       "    <tr>\n",
       "      <th>3</th>\n",
       "      <td>IndiGo</td>\n",
       "      <td>Kolkata</td>\n",
       "      <td>Banglore</td>\n",
       "      <td>1 stop</td>\n",
       "      <td>No info</td>\n",
       "      <td>2</td>\n",
       "      <td>34</td>\n",
       "      <td>3</td>\n",
       "      <td>13</td>\n",
       "      <td>5</td>\n",
       "    </tr>\n",
       "    <tr>\n",
       "      <th>4</th>\n",
       "      <td>IndiGo</td>\n",
       "      <td>Banglore</td>\n",
       "      <td>Delhi</td>\n",
       "      <td>1 stop</td>\n",
       "      <td>No info</td>\n",
       "      <td>0</td>\n",
       "      <td>34</td>\n",
       "      <td>8</td>\n",
       "      <td>13</td>\n",
       "      <td>5</td>\n",
       "    </tr>\n",
       "    <tr>\n",
       "      <th>5</th>\n",
       "      <td>SpiceJet</td>\n",
       "      <td>Kolkata</td>\n",
       "      <td>Banglore</td>\n",
       "      <td>non-stop</td>\n",
       "      <td>No info</td>\n",
       "      <td>2</td>\n",
       "      <td>5</td>\n",
       "      <td>29</td>\n",
       "      <td>13</td>\n",
       "      <td>5</td>\n",
       "    </tr>\n",
       "    <tr>\n",
       "      <th>6</th>\n",
       "      <td>Jet Airways</td>\n",
       "      <td>Banglore</td>\n",
       "      <td>Delhi</td>\n",
       "      <td>1 stop</td>\n",
       "      <td>In-flight meal not included</td>\n",
       "      <td>0</td>\n",
       "      <td>7</td>\n",
       "      <td>8</td>\n",
       "      <td>13</td>\n",
       "      <td>5</td>\n",
       "    </tr>\n",
       "    <tr>\n",
       "      <th>7</th>\n",
       "      <td>Jet Airways</td>\n",
       "      <td>Banglore</td>\n",
       "      <td>Delhi</td>\n",
       "      <td>1 stop</td>\n",
       "      <td>No info</td>\n",
       "      <td>0</td>\n",
       "      <td>7</td>\n",
       "      <td>8</td>\n",
       "      <td>13</td>\n",
       "      <td>5</td>\n",
       "    </tr>\n",
       "    <tr>\n",
       "      <th>8</th>\n",
       "      <td>Jet Airways</td>\n",
       "      <td>Banglore</td>\n",
       "      <td>Delhi</td>\n",
       "      <td>1 stop</td>\n",
       "      <td>In-flight meal not included</td>\n",
       "      <td>0</td>\n",
       "      <td>7</td>\n",
       "      <td>8</td>\n",
       "      <td>13</td>\n",
       "      <td>5</td>\n",
       "    </tr>\n",
       "    <tr>\n",
       "      <th>9</th>\n",
       "      <td>Multiple carriers</td>\n",
       "      <td>Delhi</td>\n",
       "      <td>Cochin</td>\n",
       "      <td>1 stop</td>\n",
       "      <td>No info</td>\n",
       "      <td>3</td>\n",
       "      <td>7</td>\n",
       "      <td>6</td>\n",
       "      <td>13</td>\n",
       "      <td>5</td>\n",
       "    </tr>\n",
       "    <tr>\n",
       "      <th>10</th>\n",
       "      <td>Air India</td>\n",
       "      <td>Delhi</td>\n",
       "      <td>Cochin</td>\n",
       "      <td>1 stop</td>\n",
       "      <td>No info</td>\n",
       "      <td>3</td>\n",
       "      <td>6</td>\n",
       "      <td>6</td>\n",
       "      <td>13</td>\n",
       "      <td>5</td>\n",
       "    </tr>\n",
       "    <tr>\n",
       "      <th>11</th>\n",
       "      <td>IndiGo</td>\n",
       "      <td>Kolkata</td>\n",
       "      <td>Banglore</td>\n",
       "      <td>non-stop</td>\n",
       "      <td>No info</td>\n",
       "      <td>2</td>\n",
       "      <td>5</td>\n",
       "      <td>29</td>\n",
       "      <td>13</td>\n",
       "      <td>5</td>\n",
       "    </tr>\n",
       "    <tr>\n",
       "      <th>12</th>\n",
       "      <td>Air India</td>\n",
       "      <td>Chennai</td>\n",
       "      <td>Kolkata</td>\n",
       "      <td>non-stop</td>\n",
       "      <td>No info</td>\n",
       "      <td>4</td>\n",
       "      <td>8</td>\n",
       "      <td>29</td>\n",
       "      <td>13</td>\n",
       "      <td>5</td>\n",
       "    </tr>\n",
       "    <tr>\n",
       "      <th>13</th>\n",
       "      <td>Jet Airways</td>\n",
       "      <td>Kolkata</td>\n",
       "      <td>Banglore</td>\n",
       "      <td>1 stop</td>\n",
       "      <td>In-flight meal not included</td>\n",
       "      <td>2</td>\n",
       "      <td>7</td>\n",
       "      <td>3</td>\n",
       "      <td>13</td>\n",
       "      <td>5</td>\n",
       "    </tr>\n",
       "    <tr>\n",
       "      <th>14</th>\n",
       "      <td>IndiGo</td>\n",
       "      <td>Kolkata</td>\n",
       "      <td>Banglore</td>\n",
       "      <td>non-stop</td>\n",
       "      <td>No info</td>\n",
       "      <td>2</td>\n",
       "      <td>5</td>\n",
       "      <td>29</td>\n",
       "      <td>13</td>\n",
       "      <td>5</td>\n",
       "    </tr>\n",
       "    <tr>\n",
       "      <th>15</th>\n",
       "      <td>Air India</td>\n",
       "      <td>Delhi</td>\n",
       "      <td>Cochin</td>\n",
       "      <td>2 stops</td>\n",
       "      <td>No info</td>\n",
       "      <td>3</td>\n",
       "      <td>0</td>\n",
       "      <td>4</td>\n",
       "      <td>5</td>\n",
       "      <td>5</td>\n",
       "    </tr>\n",
       "    <tr>\n",
       "      <th>16</th>\n",
       "      <td>SpiceJet</td>\n",
       "      <td>Delhi</td>\n",
       "      <td>Cochin</td>\n",
       "      <td>1 stop</td>\n",
       "      <td>No info</td>\n",
       "      <td>3</td>\n",
       "      <td>37</td>\n",
       "      <td>6</td>\n",
       "      <td>13</td>\n",
       "      <td>5</td>\n",
       "    </tr>\n",
       "    <tr>\n",
       "      <th>17</th>\n",
       "      <td>Jet Airways</td>\n",
       "      <td>Delhi</td>\n",
       "      <td>Cochin</td>\n",
       "      <td>1 stop</td>\n",
       "      <td>In-flight meal not included</td>\n",
       "      <td>3</td>\n",
       "      <td>7</td>\n",
       "      <td>6</td>\n",
       "      <td>13</td>\n",
       "      <td>5</td>\n",
       "    </tr>\n",
       "    <tr>\n",
       "      <th>18</th>\n",
       "      <td>Air India</td>\n",
       "      <td>Delhi</td>\n",
       "      <td>Cochin</td>\n",
       "      <td>2 stops</td>\n",
       "      <td>No info</td>\n",
       "      <td>3</td>\n",
       "      <td>9</td>\n",
       "      <td>4</td>\n",
       "      <td>5</td>\n",
       "      <td>5</td>\n",
       "    </tr>\n",
       "    <tr>\n",
       "      <th>19</th>\n",
       "      <td>Jet Airways</td>\n",
       "      <td>Delhi</td>\n",
       "      <td>Cochin</td>\n",
       "      <td>1 stop</td>\n",
       "      <td>In-flight meal not included</td>\n",
       "      <td>3</td>\n",
       "      <td>7</td>\n",
       "      <td>6</td>\n",
       "      <td>13</td>\n",
       "      <td>5</td>\n",
       "    </tr>\n",
       "    <tr>\n",
       "      <th>20</th>\n",
       "      <td>GoAir</td>\n",
       "      <td>Delhi</td>\n",
       "      <td>Cochin</td>\n",
       "      <td>1 stop</td>\n",
       "      <td>No info</td>\n",
       "      <td>3</td>\n",
       "      <td>7</td>\n",
       "      <td>6</td>\n",
       "      <td>13</td>\n",
       "      <td>5</td>\n",
       "    </tr>\n",
       "    <tr>\n",
       "      <th>21</th>\n",
       "      <td>Air India</td>\n",
       "      <td>Banglore</td>\n",
       "      <td>Delhi</td>\n",
       "      <td>1 stop</td>\n",
       "      <td>No info</td>\n",
       "      <td>0</td>\n",
       "      <td>11</td>\n",
       "      <td>8</td>\n",
       "      <td>13</td>\n",
       "      <td>5</td>\n",
       "    </tr>\n",
       "    <tr>\n",
       "      <th>22</th>\n",
       "      <td>IndiGo</td>\n",
       "      <td>Banglore</td>\n",
       "      <td>Delhi</td>\n",
       "      <td>non-stop</td>\n",
       "      <td>No info</td>\n",
       "      <td>0</td>\n",
       "      <td>13</td>\n",
       "      <td>29</td>\n",
       "      <td>13</td>\n",
       "      <td>5</td>\n",
       "    </tr>\n",
       "    <tr>\n",
       "      <th>23</th>\n",
       "      <td>IndiGo</td>\n",
       "      <td>Banglore</td>\n",
       "      <td>Delhi</td>\n",
       "      <td>non-stop</td>\n",
       "      <td>No info</td>\n",
       "      <td>0</td>\n",
       "      <td>13</td>\n",
       "      <td>29</td>\n",
       "      <td>13</td>\n",
       "      <td>5</td>\n",
       "    </tr>\n",
       "    <tr>\n",
       "      <th>24</th>\n",
       "      <td>Jet Airways</td>\n",
       "      <td>Kolkata</td>\n",
       "      <td>Banglore</td>\n",
       "      <td>1 stop</td>\n",
       "      <td>In-flight meal not included</td>\n",
       "      <td>2</td>\n",
       "      <td>7</td>\n",
       "      <td>3</td>\n",
       "      <td>13</td>\n",
       "      <td>5</td>\n",
       "    </tr>\n",
       "    <tr>\n",
       "      <th>25</th>\n",
       "      <td>Jet Airways</td>\n",
       "      <td>Delhi</td>\n",
       "      <td>Cochin</td>\n",
       "      <td>2 stops</td>\n",
       "      <td>No info</td>\n",
       "      <td>3</td>\n",
       "      <td>21</td>\n",
       "      <td>4</td>\n",
       "      <td>5</td>\n",
       "      <td>5</td>\n",
       "    </tr>\n",
       "    <tr>\n",
       "      <th>26</th>\n",
       "      <td>IndiGo</td>\n",
       "      <td>Delhi</td>\n",
       "      <td>Cochin</td>\n",
       "      <td>1 stop</td>\n",
       "      <td>No info</td>\n",
       "      <td>3</td>\n",
       "      <td>32</td>\n",
       "      <td>6</td>\n",
       "      <td>13</td>\n",
       "      <td>5</td>\n",
       "    </tr>\n",
       "    <tr>\n",
       "      <th>27</th>\n",
       "      <td>GoAir</td>\n",
       "      <td>Delhi</td>\n",
       "      <td>Cochin</td>\n",
       "      <td>1 stop</td>\n",
       "      <td>No info</td>\n",
       "      <td>3</td>\n",
       "      <td>7</td>\n",
       "      <td>6</td>\n",
       "      <td>13</td>\n",
       "      <td>5</td>\n",
       "    </tr>\n",
       "    <tr>\n",
       "      <th>28</th>\n",
       "      <td>Vistara</td>\n",
       "      <td>Banglore</td>\n",
       "      <td>Delhi</td>\n",
       "      <td>non-stop</td>\n",
       "      <td>No info</td>\n",
       "      <td>0</td>\n",
       "      <td>13</td>\n",
       "      <td>29</td>\n",
       "      <td>13</td>\n",
       "      <td>5</td>\n",
       "    </tr>\n",
       "    <tr>\n",
       "      <th>29</th>\n",
       "      <td>Vistara</td>\n",
       "      <td>Chennai</td>\n",
       "      <td>Kolkata</td>\n",
       "      <td>non-stop</td>\n",
       "      <td>No info</td>\n",
       "      <td>4</td>\n",
       "      <td>8</td>\n",
       "      <td>29</td>\n",
       "      <td>13</td>\n",
       "      <td>5</td>\n",
       "    </tr>\n",
       "    <tr>\n",
       "      <th>30</th>\n",
       "      <td>Vistara</td>\n",
       "      <td>Chennai</td>\n",
       "      <td>Kolkata</td>\n",
       "      <td>non-stop</td>\n",
       "      <td>No info</td>\n",
       "      <td>4</td>\n",
       "      <td>8</td>\n",
       "      <td>29</td>\n",
       "      <td>13</td>\n",
       "      <td>5</td>\n",
       "    </tr>\n",
       "    <tr>\n",
       "      <th>31</th>\n",
       "      <td>Air India</td>\n",
       "      <td>Kolkata</td>\n",
       "      <td>Banglore</td>\n",
       "      <td>2 stops</td>\n",
       "      <td>No info</td>\n",
       "      <td>2</td>\n",
       "      <td>15</td>\n",
       "      <td>9</td>\n",
       "      <td>3</td>\n",
       "      <td>5</td>\n",
       "    </tr>\n",
       "    <tr>\n",
       "      <th>32</th>\n",
       "      <td>IndiGo</td>\n",
       "      <td>Banglore</td>\n",
       "      <td>Delhi</td>\n",
       "      <td>non-stop</td>\n",
       "      <td>No info</td>\n",
       "      <td>0</td>\n",
       "      <td>13</td>\n",
       "      <td>29</td>\n",
       "      <td>13</td>\n",
       "      <td>5</td>\n",
       "    </tr>\n",
       "    <tr>\n",
       "      <th>33</th>\n",
       "      <td>Jet Airways</td>\n",
       "      <td>Delhi</td>\n",
       "      <td>Cochin</td>\n",
       "      <td>2 stops</td>\n",
       "      <td>In-flight meal not included</td>\n",
       "      <td>3</td>\n",
       "      <td>34</td>\n",
       "      <td>4</td>\n",
       "      <td>5</td>\n",
       "      <td>5</td>\n",
       "    </tr>\n",
       "    <tr>\n",
       "      <th>34</th>\n",
       "      <td>Jet Airways</td>\n",
       "      <td>Delhi</td>\n",
       "      <td>Cochin</td>\n",
       "      <td>1 stop</td>\n",
       "      <td>In-flight meal not included</td>\n",
       "      <td>3</td>\n",
       "      <td>7</td>\n",
       "      <td>6</td>\n",
       "      <td>13</td>\n",
       "      <td>5</td>\n",
       "    </tr>\n",
       "    <tr>\n",
       "      <th>35</th>\n",
       "      <td>IndiGo</td>\n",
       "      <td>Delhi</td>\n",
       "      <td>Cochin</td>\n",
       "      <td>1 stop</td>\n",
       "      <td>No info</td>\n",
       "      <td>3</td>\n",
       "      <td>7</td>\n",
       "      <td>6</td>\n",
       "      <td>13</td>\n",
       "      <td>5</td>\n",
       "    </tr>\n",
       "    <tr>\n",
       "      <th>36</th>\n",
       "      <td>SpiceJet</td>\n",
       "      <td>Kolkata</td>\n",
       "      <td>Banglore</td>\n",
       "      <td>1 stop</td>\n",
       "      <td>No info</td>\n",
       "      <td>2</td>\n",
       "      <td>33</td>\n",
       "      <td>3</td>\n",
       "      <td>13</td>\n",
       "      <td>5</td>\n",
       "    </tr>\n",
       "    <tr>\n",
       "      <th>37</th>\n",
       "      <td>Air India</td>\n",
       "      <td>Kolkata</td>\n",
       "      <td>Banglore</td>\n",
       "      <td>non-stop</td>\n",
       "      <td>No info</td>\n",
       "      <td>2</td>\n",
       "      <td>5</td>\n",
       "      <td>29</td>\n",
       "      <td>13</td>\n",
       "      <td>5</td>\n",
       "    </tr>\n",
       "    <tr>\n",
       "      <th>38</th>\n",
       "      <td>Jet Airways</td>\n",
       "      <td>Banglore</td>\n",
       "      <td>Delhi</td>\n",
       "      <td>1 stop</td>\n",
       "      <td>No info</td>\n",
       "      <td>0</td>\n",
       "      <td>7</td>\n",
       "      <td>8</td>\n",
       "      <td>13</td>\n",
       "      <td>5</td>\n",
       "    </tr>\n",
       "    <tr>\n",
       "      <th>39</th>\n",
       "      <td>Jet Airways</td>\n",
       "      <td>Delhi</td>\n",
       "      <td>Cochin</td>\n",
       "      <td>1 stop</td>\n",
       "      <td>No info</td>\n",
       "      <td>3</td>\n",
       "      <td>7</td>\n",
       "      <td>6</td>\n",
       "      <td>13</td>\n",
       "      <td>5</td>\n",
       "    </tr>\n",
       "    <tr>\n",
       "      <th>40</th>\n",
       "      <td>Multiple carriers</td>\n",
       "      <td>Delhi</td>\n",
       "      <td>Cochin</td>\n",
       "      <td>1 stop</td>\n",
       "      <td>No info</td>\n",
       "      <td>3</td>\n",
       "      <td>20</td>\n",
       "      <td>6</td>\n",
       "      <td>13</td>\n",
       "      <td>5</td>\n",
       "    </tr>\n",
       "    <tr>\n",
       "      <th>41</th>\n",
       "      <td>Air India</td>\n",
       "      <td>Banglore</td>\n",
       "      <td>Delhi</td>\n",
       "      <td>1 stop</td>\n",
       "      <td>No info</td>\n",
       "      <td>0</td>\n",
       "      <td>7</td>\n",
       "      <td>8</td>\n",
       "      <td>13</td>\n",
       "      <td>5</td>\n",
       "    </tr>\n",
       "    <tr>\n",
       "      <th>42</th>\n",
       "      <td>Jet Airways</td>\n",
       "      <td>Delhi</td>\n",
       "      <td>Cochin</td>\n",
       "      <td>1 stop</td>\n",
       "      <td>In-flight meal not included</td>\n",
       "      <td>3</td>\n",
       "      <td>7</td>\n",
       "      <td>6</td>\n",
       "      <td>13</td>\n",
       "      <td>5</td>\n",
       "    </tr>\n",
       "    <tr>\n",
       "      <th>43</th>\n",
       "      <td>Air Asia</td>\n",
       "      <td>Banglore</td>\n",
       "      <td>Delhi</td>\n",
       "      <td>non-stop</td>\n",
       "      <td>No info</td>\n",
       "      <td>0</td>\n",
       "      <td>13</td>\n",
       "      <td>29</td>\n",
       "      <td>13</td>\n",
       "      <td>5</td>\n",
       "    </tr>\n",
       "    <tr>\n",
       "      <th>44</th>\n",
       "      <td>Multiple carriers</td>\n",
       "      <td>Delhi</td>\n",
       "      <td>Cochin</td>\n",
       "      <td>1 stop</td>\n",
       "      <td>No info</td>\n",
       "      <td>3</td>\n",
       "      <td>7</td>\n",
       "      <td>6</td>\n",
       "      <td>13</td>\n",
       "      <td>5</td>\n",
       "    </tr>\n",
       "    <tr>\n",
       "      <th>45</th>\n",
       "      <td>SpiceJet</td>\n",
       "      <td>Banglore</td>\n",
       "      <td>Delhi</td>\n",
       "      <td>non-stop</td>\n",
       "      <td>No check-in baggage included</td>\n",
       "      <td>0</td>\n",
       "      <td>13</td>\n",
       "      <td>29</td>\n",
       "      <td>13</td>\n",
       "      <td>5</td>\n",
       "    </tr>\n",
       "    <tr>\n",
       "      <th>46</th>\n",
       "      <td>IndiGo</td>\n",
       "      <td>Banglore</td>\n",
       "      <td>Delhi</td>\n",
       "      <td>non-stop</td>\n",
       "      <td>No info</td>\n",
       "      <td>0</td>\n",
       "      <td>13</td>\n",
       "      <td>29</td>\n",
       "      <td>13</td>\n",
       "      <td>5</td>\n",
       "    </tr>\n",
       "    <tr>\n",
       "      <th>47</th>\n",
       "      <td>Air India</td>\n",
       "      <td>Chennai</td>\n",
       "      <td>Kolkata</td>\n",
       "      <td>non-stop</td>\n",
       "      <td>No info</td>\n",
       "      <td>4</td>\n",
       "      <td>8</td>\n",
       "      <td>29</td>\n",
       "      <td>13</td>\n",
       "      <td>5</td>\n",
       "    </tr>\n",
       "    <tr>\n",
       "      <th>48</th>\n",
       "      <td>Air India</td>\n",
       "      <td>Kolkata</td>\n",
       "      <td>Banglore</td>\n",
       "      <td>1 stop</td>\n",
       "      <td>No info</td>\n",
       "      <td>2</td>\n",
       "      <td>20</td>\n",
       "      <td>3</td>\n",
       "      <td>13</td>\n",
       "      <td>5</td>\n",
       "    </tr>\n",
       "    <tr>\n",
       "      <th>49</th>\n",
       "      <td>Jet Airways</td>\n",
       "      <td>Delhi</td>\n",
       "      <td>Cochin</td>\n",
       "      <td>2 stops</td>\n",
       "      <td>In-flight meal not included</td>\n",
       "      <td>3</td>\n",
       "      <td>0</td>\n",
       "      <td>4</td>\n",
       "      <td>5</td>\n",
       "      <td>5</td>\n",
       "    </tr>\n",
       "  </tbody>\n",
       "</table>\n",
       "</div>"
      ],
      "text/plain": [
       "              Airline    Source Destination Total_Stops  \\\n",
       "0              IndiGo  Banglore       Delhi    non-stop   \n",
       "1           Air India   Kolkata    Banglore     2 stops   \n",
       "2         Jet Airways     Delhi      Cochin     2 stops   \n",
       "3              IndiGo   Kolkata    Banglore      1 stop   \n",
       "4              IndiGo  Banglore       Delhi      1 stop   \n",
       "5            SpiceJet   Kolkata    Banglore    non-stop   \n",
       "6         Jet Airways  Banglore       Delhi      1 stop   \n",
       "7         Jet Airways  Banglore       Delhi      1 stop   \n",
       "8         Jet Airways  Banglore       Delhi      1 stop   \n",
       "9   Multiple carriers     Delhi      Cochin      1 stop   \n",
       "10          Air India     Delhi      Cochin      1 stop   \n",
       "11             IndiGo   Kolkata    Banglore    non-stop   \n",
       "12          Air India   Chennai     Kolkata    non-stop   \n",
       "13        Jet Airways   Kolkata    Banglore      1 stop   \n",
       "14             IndiGo   Kolkata    Banglore    non-stop   \n",
       "15          Air India     Delhi      Cochin     2 stops   \n",
       "16           SpiceJet     Delhi      Cochin      1 stop   \n",
       "17        Jet Airways     Delhi      Cochin      1 stop   \n",
       "18          Air India     Delhi      Cochin     2 stops   \n",
       "19        Jet Airways     Delhi      Cochin      1 stop   \n",
       "20              GoAir     Delhi      Cochin      1 stop   \n",
       "21          Air India  Banglore       Delhi      1 stop   \n",
       "22             IndiGo  Banglore       Delhi    non-stop   \n",
       "23             IndiGo  Banglore       Delhi    non-stop   \n",
       "24        Jet Airways   Kolkata    Banglore      1 stop   \n",
       "25        Jet Airways     Delhi      Cochin     2 stops   \n",
       "26             IndiGo     Delhi      Cochin      1 stop   \n",
       "27              GoAir     Delhi      Cochin      1 stop   \n",
       "28            Vistara  Banglore       Delhi    non-stop   \n",
       "29            Vistara   Chennai     Kolkata    non-stop   \n",
       "30            Vistara   Chennai     Kolkata    non-stop   \n",
       "31          Air India   Kolkata    Banglore     2 stops   \n",
       "32             IndiGo  Banglore       Delhi    non-stop   \n",
       "33        Jet Airways     Delhi      Cochin     2 stops   \n",
       "34        Jet Airways     Delhi      Cochin      1 stop   \n",
       "35             IndiGo     Delhi      Cochin      1 stop   \n",
       "36           SpiceJet   Kolkata    Banglore      1 stop   \n",
       "37          Air India   Kolkata    Banglore    non-stop   \n",
       "38        Jet Airways  Banglore       Delhi      1 stop   \n",
       "39        Jet Airways     Delhi      Cochin      1 stop   \n",
       "40  Multiple carriers     Delhi      Cochin      1 stop   \n",
       "41          Air India  Banglore       Delhi      1 stop   \n",
       "42        Jet Airways     Delhi      Cochin      1 stop   \n",
       "43           Air Asia  Banglore       Delhi    non-stop   \n",
       "44  Multiple carriers     Delhi      Cochin      1 stop   \n",
       "45           SpiceJet  Banglore       Delhi    non-stop   \n",
       "46             IndiGo  Banglore       Delhi    non-stop   \n",
       "47          Air India   Chennai     Kolkata    non-stop   \n",
       "48          Air India   Kolkata    Banglore      1 stop   \n",
       "49        Jet Airways     Delhi      Cochin     2 stops   \n",
       "\n",
       "                 Additional_Info  Route1  Route2  Route3  Route4  Route5  \n",
       "0                        No info       0      13      29      13       5  \n",
       "1                        No info       2      25       1       3       5  \n",
       "2                        No info       3      32       4       5       5  \n",
       "3                        No info       2      34       3      13       5  \n",
       "4                        No info       0      34       8      13       5  \n",
       "5                        No info       2       5      29      13       5  \n",
       "6    In-flight meal not included       0       7       8      13       5  \n",
       "7                        No info       0       7       8      13       5  \n",
       "8    In-flight meal not included       0       7       8      13       5  \n",
       "9                        No info       3       7       6      13       5  \n",
       "10                       No info       3       6       6      13       5  \n",
       "11                       No info       2       5      29      13       5  \n",
       "12                       No info       4       8      29      13       5  \n",
       "13   In-flight meal not included       2       7       3      13       5  \n",
       "14                       No info       2       5      29      13       5  \n",
       "15                       No info       3       0       4       5       5  \n",
       "16                       No info       3      37       6      13       5  \n",
       "17   In-flight meal not included       3       7       6      13       5  \n",
       "18                       No info       3       9       4       5       5  \n",
       "19   In-flight meal not included       3       7       6      13       5  \n",
       "20                       No info       3       7       6      13       5  \n",
       "21                       No info       0      11       8      13       5  \n",
       "22                       No info       0      13      29      13       5  \n",
       "23                       No info       0      13      29      13       5  \n",
       "24   In-flight meal not included       2       7       3      13       5  \n",
       "25                       No info       3      21       4       5       5  \n",
       "26                       No info       3      32       6      13       5  \n",
       "27                       No info       3       7       6      13       5  \n",
       "28                       No info       0      13      29      13       5  \n",
       "29                       No info       4       8      29      13       5  \n",
       "30                       No info       4       8      29      13       5  \n",
       "31                       No info       2      15       9       3       5  \n",
       "32                       No info       0      13      29      13       5  \n",
       "33   In-flight meal not included       3      34       4       5       5  \n",
       "34   In-flight meal not included       3       7       6      13       5  \n",
       "35                       No info       3       7       6      13       5  \n",
       "36                       No info       2      33       3      13       5  \n",
       "37                       No info       2       5      29      13       5  \n",
       "38                       No info       0       7       8      13       5  \n",
       "39                       No info       3       7       6      13       5  \n",
       "40                       No info       3      20       6      13       5  \n",
       "41                       No info       0       7       8      13       5  \n",
       "42   In-flight meal not included       3       7       6      13       5  \n",
       "43                       No info       0      13      29      13       5  \n",
       "44                       No info       3       7       6      13       5  \n",
       "45  No check-in baggage included       0      13      29      13       5  \n",
       "46                       No info       0      13      29      13       5  \n",
       "47                       No info       4       8      29      13       5  \n",
       "48                       No info       2      20       3      13       5  \n",
       "49   In-flight meal not included       3       0       4       5       5  "
      ]
     },
     "execution_count": 65,
     "metadata": {},
     "output_type": "execute_result"
    }
   ],
   "source": [
    "categorical.head(50)"
   ]
  },
  {
   "cell_type": "code",
   "execution_count": 66,
   "id": "built-notion",
   "metadata": {
    "execution": {
     "iopub.execute_input": "2021-06-19T07:44:08.669337Z",
     "iopub.status.busy": "2021-06-19T07:44:08.668521Z",
     "iopub.status.idle": "2021-06-19T07:44:08.672927Z",
     "shell.execute_reply": "2021-06-19T07:44:08.673273Z"
    },
    "papermill": {
     "duration": 0.090877,
     "end_time": "2021-06-19T07:44:08.673416",
     "exception": false,
     "start_time": "2021-06-19T07:44:08.582539",
     "status": "completed"
    },
    "tags": []
   },
   "outputs": [],
   "source": [
    "drop_col(categorical,'Additional_Info')"
   ]
  },
  {
   "cell_type": "code",
   "execution_count": 67,
   "id": "drawn-lover",
   "metadata": {
    "execution": {
     "iopub.execute_input": "2021-06-19T07:44:08.851133Z",
     "iopub.status.busy": "2021-06-19T07:44:08.850451Z",
     "iopub.status.idle": "2021-06-19T07:44:08.856954Z",
     "shell.execute_reply": "2021-06-19T07:44:08.857285Z"
    },
    "papermill": {
     "duration": 0.097144,
     "end_time": "2021-06-19T07:44:08.857410",
     "exception": false,
     "start_time": "2021-06-19T07:44:08.760266",
     "status": "completed"
    },
    "tags": []
   },
   "outputs": [
    {
     "data": {
      "text/plain": [
       "array(['non-stop', '2 stops', '1 stop', '3 stops', '4 stops'],\n",
       "      dtype=object)"
      ]
     },
     "execution_count": 67,
     "metadata": {},
     "output_type": "execute_result"
    }
   ],
   "source": [
    "categorical['Total_Stops'].unique()"
   ]
  },
  {
   "cell_type": "code",
   "execution_count": 68,
   "id": "obvious-anthony",
   "metadata": {
    "execution": {
     "iopub.execute_input": "2021-06-19T07:44:09.034787Z",
     "iopub.status.busy": "2021-06-19T07:44:09.034065Z",
     "iopub.status.idle": "2021-06-19T07:44:09.043344Z",
     "shell.execute_reply": "2021-06-19T07:44:09.043668Z"
    },
    "papermill": {
     "duration": 0.100068,
     "end_time": "2021-06-19T07:44:09.043817",
     "exception": false,
     "start_time": "2021-06-19T07:44:08.943749",
     "status": "completed"
    },
    "tags": []
   },
   "outputs": [],
   "source": [
    "# encoding Total_Stops\n",
    "dict={'non-stop':0, '2 stops':2, '1 stop':1, '3 stops':3, '4 stops':4}\n",
    "categorical['Total_Stops']=categorical['Total_Stops'].map(dict)"
   ]
  },
  {
   "cell_type": "code",
   "execution_count": 69,
   "id": "indoor-nothing",
   "metadata": {
    "execution": {
     "iopub.execute_input": "2021-06-19T07:44:09.210822Z",
     "iopub.status.busy": "2021-06-19T07:44:09.210202Z",
     "iopub.status.idle": "2021-06-19T07:44:09.216187Z",
     "shell.execute_reply": "2021-06-19T07:44:09.216531Z"
    },
    "papermill": {
     "duration": 0.091816,
     "end_time": "2021-06-19T07:44:09.216649",
     "exception": false,
     "start_time": "2021-06-19T07:44:09.124833",
     "status": "completed"
    },
    "tags": []
   },
   "outputs": [
    {
     "data": {
      "text/plain": [
       "0        0\n",
       "1        2\n",
       "2        2\n",
       "3        1\n",
       "4        1\n",
       "        ..\n",
       "10678    0\n",
       "10679    0\n",
       "10680    0\n",
       "10681    0\n",
       "10682    2\n",
       "Name: Total_Stops, Length: 10682, dtype: int64"
      ]
     },
     "execution_count": 69,
     "metadata": {},
     "output_type": "execute_result"
    }
   ],
   "source": [
    "categorical['Total_Stops']"
   ]
  },
  {
   "cell_type": "code",
   "execution_count": 70,
   "id": "advanced-orientation",
   "metadata": {
    "execution": {
     "iopub.execute_input": "2021-06-19T07:44:09.387390Z",
     "iopub.status.busy": "2021-06-19T07:44:09.386667Z",
     "iopub.status.idle": "2021-06-19T07:44:09.394512Z",
     "shell.execute_reply": "2021-06-19T07:44:09.394086Z"
    },
    "papermill": {
     "duration": 0.095982,
     "end_time": "2021-06-19T07:44:09.394607",
     "exception": false,
     "start_time": "2021-06-19T07:44:09.298625",
     "status": "completed"
    },
    "tags": []
   },
   "outputs": [],
   "source": [
    "drop_col(categorical,'Source')\n",
    "drop_col(categorical,'Destination')\n",
    "drop_col(categorical,'Airline')"
   ]
  },
  {
   "cell_type": "markdown",
   "id": "novel-consumption",
   "metadata": {
    "papermill": {
     "duration": 0.081684,
     "end_time": "2021-06-19T07:44:09.558773",
     "exception": false,
     "start_time": "2021-06-19T07:44:09.477089",
     "status": "completed"
    },
    "tags": []
   },
   "source": [
    "After all preprocessing, the data is ready for the modeling"
   ]
  },
  {
   "cell_type": "code",
   "execution_count": 71,
   "id": "descending-regression",
   "metadata": {
    "execution": {
     "iopub.execute_input": "2021-06-19T07:44:09.729478Z",
     "iopub.status.busy": "2021-06-19T07:44:09.728840Z",
     "iopub.status.idle": "2021-06-19T07:44:09.733628Z",
     "shell.execute_reply": "2021-06-19T07:44:09.733228Z"
    },
    "papermill": {
     "duration": 0.093436,
     "end_time": "2021-06-19T07:44:09.733751",
     "exception": false,
     "start_time": "2021-06-19T07:44:09.640315",
     "status": "completed"
    },
    "tags": []
   },
   "outputs": [],
   "source": [
    "final_df=pd.concat([categorical,Airline,source,destination,df[continuous_col]],axis=1)"
   ]
  },
  {
   "cell_type": "code",
   "execution_count": 72,
   "id": "outstanding-mortgage",
   "metadata": {
    "execution": {
     "iopub.execute_input": "2021-06-19T07:44:10.187849Z",
     "iopub.status.busy": "2021-06-19T07:44:10.187190Z",
     "iopub.status.idle": "2021-06-19T07:44:10.207081Z",
     "shell.execute_reply": "2021-06-19T07:44:10.206495Z"
    },
    "papermill": {
     "duration": 0.158311,
     "end_time": "2021-06-19T07:44:10.207219",
     "exception": false,
     "start_time": "2021-06-19T07:44:10.048908",
     "status": "completed"
    },
    "tags": []
   },
   "outputs": [
    {
     "data": {
      "text/html": [
       "<div>\n",
       "<style scoped>\n",
       "    .dataframe tbody tr th:only-of-type {\n",
       "        vertical-align: middle;\n",
       "    }\n",
       "\n",
       "    .dataframe tbody tr th {\n",
       "        vertical-align: top;\n",
       "    }\n",
       "\n",
       "    .dataframe thead th {\n",
       "        text-align: right;\n",
       "    }\n",
       "</style>\n",
       "<table border=\"1\" class=\"dataframe\">\n",
       "  <thead>\n",
       "    <tr style=\"text-align: right;\">\n",
       "      <th></th>\n",
       "      <th>Total_Stops</th>\n",
       "      <th>Route1</th>\n",
       "      <th>Route2</th>\n",
       "      <th>Route3</th>\n",
       "      <th>Route4</th>\n",
       "      <th>Route5</th>\n",
       "      <th>Air India</th>\n",
       "      <th>GoAir</th>\n",
       "      <th>IndiGo</th>\n",
       "      <th>Jet Airways</th>\n",
       "      <th>Jet Airways Business</th>\n",
       "      <th>Multiple carriers</th>\n",
       "      <th>Multiple carriers Premium economy</th>\n",
       "      <th>SpiceJet</th>\n",
       "      <th>Trujet</th>\n",
       "      <th>Vistara</th>\n",
       "      <th>Vistara Premium economy</th>\n",
       "      <th>Chennai</th>\n",
       "      <th>Delhi</th>\n",
       "      <th>Kolkata</th>\n",
       "      <th>Mumbai</th>\n",
       "      <th>Cochin</th>\n",
       "      <th>Delhi</th>\n",
       "      <th>Hyderabad</th>\n",
       "      <th>Kolkata</th>\n",
       "      <th>Price</th>\n",
       "      <th>journey_day</th>\n",
       "      <th>journey_month</th>\n",
       "      <th>Dep_Time_hour</th>\n",
       "      <th>Dep_Time_min</th>\n",
       "      <th>Arrival_Time_hour</th>\n",
       "      <th>Arrival_Time_min</th>\n",
       "      <th>dur_hour</th>\n",
       "      <th>dur_min</th>\n",
       "    </tr>\n",
       "  </thead>\n",
       "  <tbody>\n",
       "    <tr>\n",
       "      <th>0</th>\n",
       "      <td>0</td>\n",
       "      <td>0</td>\n",
       "      <td>13</td>\n",
       "      <td>29</td>\n",
       "      <td>13</td>\n",
       "      <td>5</td>\n",
       "      <td>0</td>\n",
       "      <td>0</td>\n",
       "      <td>1</td>\n",
       "      <td>0</td>\n",
       "      <td>0</td>\n",
       "      <td>0</td>\n",
       "      <td>0</td>\n",
       "      <td>0</td>\n",
       "      <td>0</td>\n",
       "      <td>0</td>\n",
       "      <td>0</td>\n",
       "      <td>0</td>\n",
       "      <td>0</td>\n",
       "      <td>0</td>\n",
       "      <td>0</td>\n",
       "      <td>0</td>\n",
       "      <td>1</td>\n",
       "      <td>0</td>\n",
       "      <td>0</td>\n",
       "      <td>3897</td>\n",
       "      <td>24</td>\n",
       "      <td>3</td>\n",
       "      <td>22</td>\n",
       "      <td>20</td>\n",
       "      <td>1</td>\n",
       "      <td>10</td>\n",
       "      <td>2</td>\n",
       "      <td>50</td>\n",
       "    </tr>\n",
       "    <tr>\n",
       "      <th>1</th>\n",
       "      <td>2</td>\n",
       "      <td>2</td>\n",
       "      <td>25</td>\n",
       "      <td>1</td>\n",
       "      <td>3</td>\n",
       "      <td>5</td>\n",
       "      <td>1</td>\n",
       "      <td>0</td>\n",
       "      <td>0</td>\n",
       "      <td>0</td>\n",
       "      <td>0</td>\n",
       "      <td>0</td>\n",
       "      <td>0</td>\n",
       "      <td>0</td>\n",
       "      <td>0</td>\n",
       "      <td>0</td>\n",
       "      <td>0</td>\n",
       "      <td>0</td>\n",
       "      <td>0</td>\n",
       "      <td>1</td>\n",
       "      <td>0</td>\n",
       "      <td>0</td>\n",
       "      <td>0</td>\n",
       "      <td>0</td>\n",
       "      <td>0</td>\n",
       "      <td>7662</td>\n",
       "      <td>5</td>\n",
       "      <td>1</td>\n",
       "      <td>5</td>\n",
       "      <td>50</td>\n",
       "      <td>13</td>\n",
       "      <td>15</td>\n",
       "      <td>7</td>\n",
       "      <td>25</td>\n",
       "    </tr>\n",
       "    <tr>\n",
       "      <th>2</th>\n",
       "      <td>2</td>\n",
       "      <td>3</td>\n",
       "      <td>32</td>\n",
       "      <td>4</td>\n",
       "      <td>5</td>\n",
       "      <td>5</td>\n",
       "      <td>0</td>\n",
       "      <td>0</td>\n",
       "      <td>0</td>\n",
       "      <td>1</td>\n",
       "      <td>0</td>\n",
       "      <td>0</td>\n",
       "      <td>0</td>\n",
       "      <td>0</td>\n",
       "      <td>0</td>\n",
       "      <td>0</td>\n",
       "      <td>0</td>\n",
       "      <td>0</td>\n",
       "      <td>1</td>\n",
       "      <td>0</td>\n",
       "      <td>0</td>\n",
       "      <td>1</td>\n",
       "      <td>0</td>\n",
       "      <td>0</td>\n",
       "      <td>0</td>\n",
       "      <td>13882</td>\n",
       "      <td>6</td>\n",
       "      <td>9</td>\n",
       "      <td>9</td>\n",
       "      <td>25</td>\n",
       "      <td>4</td>\n",
       "      <td>25</td>\n",
       "      <td>19</td>\n",
       "      <td>0</td>\n",
       "    </tr>\n",
       "    <tr>\n",
       "      <th>3</th>\n",
       "      <td>1</td>\n",
       "      <td>2</td>\n",
       "      <td>34</td>\n",
       "      <td>3</td>\n",
       "      <td>13</td>\n",
       "      <td>5</td>\n",
       "      <td>0</td>\n",
       "      <td>0</td>\n",
       "      <td>1</td>\n",
       "      <td>0</td>\n",
       "      <td>0</td>\n",
       "      <td>0</td>\n",
       "      <td>0</td>\n",
       "      <td>0</td>\n",
       "      <td>0</td>\n",
       "      <td>0</td>\n",
       "      <td>0</td>\n",
       "      <td>0</td>\n",
       "      <td>0</td>\n",
       "      <td>1</td>\n",
       "      <td>0</td>\n",
       "      <td>0</td>\n",
       "      <td>0</td>\n",
       "      <td>0</td>\n",
       "      <td>0</td>\n",
       "      <td>6218</td>\n",
       "      <td>5</td>\n",
       "      <td>12</td>\n",
       "      <td>18</td>\n",
       "      <td>5</td>\n",
       "      <td>23</td>\n",
       "      <td>30</td>\n",
       "      <td>5</td>\n",
       "      <td>25</td>\n",
       "    </tr>\n",
       "    <tr>\n",
       "      <th>4</th>\n",
       "      <td>1</td>\n",
       "      <td>0</td>\n",
       "      <td>34</td>\n",
       "      <td>8</td>\n",
       "      <td>13</td>\n",
       "      <td>5</td>\n",
       "      <td>0</td>\n",
       "      <td>0</td>\n",
       "      <td>1</td>\n",
       "      <td>0</td>\n",
       "      <td>0</td>\n",
       "      <td>0</td>\n",
       "      <td>0</td>\n",
       "      <td>0</td>\n",
       "      <td>0</td>\n",
       "      <td>0</td>\n",
       "      <td>0</td>\n",
       "      <td>0</td>\n",
       "      <td>0</td>\n",
       "      <td>0</td>\n",
       "      <td>0</td>\n",
       "      <td>0</td>\n",
       "      <td>1</td>\n",
       "      <td>0</td>\n",
       "      <td>0</td>\n",
       "      <td>13302</td>\n",
       "      <td>3</td>\n",
       "      <td>1</td>\n",
       "      <td>16</td>\n",
       "      <td>50</td>\n",
       "      <td>21</td>\n",
       "      <td>35</td>\n",
       "      <td>4</td>\n",
       "      <td>45</td>\n",
       "    </tr>\n",
       "  </tbody>\n",
       "</table>\n",
       "</div>"
      ],
      "text/plain": [
       "   Total_Stops  Route1  Route2  Route3  Route4  Route5  Air India  GoAir  \\\n",
       "0            0       0      13      29      13       5          0      0   \n",
       "1            2       2      25       1       3       5          1      0   \n",
       "2            2       3      32       4       5       5          0      0   \n",
       "3            1       2      34       3      13       5          0      0   \n",
       "4            1       0      34       8      13       5          0      0   \n",
       "\n",
       "   IndiGo  Jet Airways  Jet Airways Business  Multiple carriers  \\\n",
       "0       1            0                     0                  0   \n",
       "1       0            0                     0                  0   \n",
       "2       0            1                     0                  0   \n",
       "3       1            0                     0                  0   \n",
       "4       1            0                     0                  0   \n",
       "\n",
       "   Multiple carriers Premium economy  SpiceJet  Trujet  Vistara  \\\n",
       "0                                  0         0       0        0   \n",
       "1                                  0         0       0        0   \n",
       "2                                  0         0       0        0   \n",
       "3                                  0         0       0        0   \n",
       "4                                  0         0       0        0   \n",
       "\n",
       "   Vistara Premium economy  Chennai  Delhi  Kolkata  Mumbai  Cochin  Delhi  \\\n",
       "0                        0        0      0        0       0       0      1   \n",
       "1                        0        0      0        1       0       0      0   \n",
       "2                        0        0      1        0       0       1      0   \n",
       "3                        0        0      0        1       0       0      0   \n",
       "4                        0        0      0        0       0       0      1   \n",
       "\n",
       "   Hyderabad  Kolkata  Price  journey_day  journey_month  Dep_Time_hour  \\\n",
       "0          0        0   3897           24              3             22   \n",
       "1          0        0   7662            5              1              5   \n",
       "2          0        0  13882            6              9              9   \n",
       "3          0        0   6218            5             12             18   \n",
       "4          0        0  13302            3              1             16   \n",
       "\n",
       "   Dep_Time_min  Arrival_Time_hour  Arrival_Time_min  dur_hour  dur_min  \n",
       "0            20                  1                10         2       50  \n",
       "1            50                 13                15         7       25  \n",
       "2            25                  4                25        19        0  \n",
       "3             5                 23                30         5       25  \n",
       "4            50                 21                35         4       45  "
      ]
     },
     "execution_count": 72,
     "metadata": {},
     "output_type": "execute_result"
    }
   ],
   "source": [
    "pd.set_option('display.max_columns',40)\n",
    "final_df.head()"
   ]
  },
  {
   "cell_type": "markdown",
   "id": "comparative-garage",
   "metadata": {
    "papermill": {
     "duration": 0.133682,
     "end_time": "2021-06-19T07:44:10.475678",
     "exception": false,
     "start_time": "2021-06-19T07:44:10.341996",
     "status": "completed"
    },
    "tags": []
   },
   "source": [
    "## Check For Outliers "
   ]
  },
  {
   "cell_type": "code",
   "execution_count": 73,
   "id": "exterior-thomson",
   "metadata": {
    "execution": {
     "iopub.execute_input": "2021-06-19T07:44:10.734558Z",
     "iopub.status.busy": "2021-06-19T07:44:10.734005Z",
     "iopub.status.idle": "2021-06-19T07:44:10.738469Z",
     "shell.execute_reply": "2021-06-19T07:44:10.737957Z"
    },
    "papermill": {
     "duration": 0.132726,
     "end_time": "2021-06-19T07:44:10.738580",
     "exception": false,
     "start_time": "2021-06-19T07:44:10.605854",
     "status": "completed"
    },
    "tags": []
   },
   "outputs": [],
   "source": [
    "def plot(data,col):\n",
    "    fig,(ax1,ax2)=plt.subplots(2,1)\n",
    "    sns.distplot(data[col],ax=ax1)\n",
    "    sns.boxplot(data[col],ax=ax2)"
   ]
  },
  {
   "cell_type": "code",
   "execution_count": 74,
   "id": "second-debate",
   "metadata": {
    "execution": {
     "iopub.execute_input": "2021-06-19T07:44:10.919145Z",
     "iopub.status.busy": "2021-06-19T07:44:10.918681Z",
     "iopub.status.idle": "2021-06-19T07:44:11.371113Z",
     "shell.execute_reply": "2021-06-19T07:44:11.369844Z"
    },
    "papermill": {
     "duration": 0.543875,
     "end_time": "2021-06-19T07:44:11.371228",
     "exception": false,
     "start_time": "2021-06-19T07:44:10.827353",
     "status": "completed"
    },
    "tags": []
   },
   "outputs": [
    {
     "data": {
      "image/png": "[encoded data removed]",
      "text/plain": [
       "<Figure size 432x288 with 2 Axes>"
      ]
     },
     "metadata": {
      "needs_background": "light"
     },
     "output_type": "display_data"
    }
   ],
   "source": [
    "plot(final_df,'Price')"
   ]
  },
  {
   "cell_type": "markdown",
   "id": "b6aaf659",
   "metadata": {},
   "source": [
    "##  Handling Outliers"
   ]
  },
  {
   "cell_type": "markdown",
   "id": "periodic-telephone",
   "metadata": {
    "papermill": {
     "duration": 0.088298,
     "end_time": "2021-06-19T07:44:11.544944",
     "exception": false,
     "start_time": "2021-06-19T07:44:11.456646",
     "status": "completed"
    },
    "tags": []
   },
   "source": [
    "As there is some outliers in price feature,so we replace it  with median."
   ]
  },
  {
   "cell_type": "code",
   "execution_count": 75,
   "id": "determined-detection",
   "metadata": {
    "execution": {
     "iopub.execute_input": "2021-06-19T07:44:11.731529Z",
     "iopub.status.busy": "2021-06-19T07:44:11.731004Z",
     "iopub.status.idle": "2021-06-19T07:44:11.735996Z",
     "shell.execute_reply": "2021-06-19T07:44:11.736329Z"
    },
    "papermill": {
     "duration": 0.101024,
     "end_time": "2021-06-19T07:44:11.736475",
     "exception": false,
     "start_time": "2021-06-19T07:44:11.635451",
     "status": "completed"
    },
    "tags": []
   },
   "outputs": [],
   "source": [
    "final_df['Price']=np.where(final_df['Price']>=40000,final_df['Price'].median(),final_df['Price'])"
   ]
  },
  {
   "cell_type": "code",
   "execution_count": 76,
   "id": "roman-denver",
   "metadata": {
    "execution": {
     "iopub.execute_input": "2021-06-19T07:44:11.963066Z",
     "iopub.status.busy": "2021-06-19T07:44:11.960013Z",
     "iopub.status.idle": "2021-06-19T07:44:12.369458Z",
     "shell.execute_reply": "2021-06-19T07:44:12.370033Z"
    },
    "papermill": {
     "duration": 0.547578,
     "end_time": "2021-06-19T07:44:12.370202",
     "exception": false,
     "start_time": "2021-06-19T07:44:11.822624",
     "status": "completed"
    },
    "tags": []
   },
   "outputs": [
    {
     "data": {
      "image/png": "[encoded data removed]",
      "text/plain": [
       "<Figure size 432x288 with 2 Axes>"
      ]
     },
     "metadata": {
      "needs_background": "light"
     },
     "output_type": "display_data"
    }
   ],
   "source": [
    "plot(final_df,'Price')"
   ]
  },
  {
   "cell_type": "markdown",
   "id": "instrumental-economics",
   "metadata": {
    "papermill": {
     "duration": 0.13574,
     "end_time": "2021-06-19T07:44:12.645985",
     "exception": false,
     "start_time": "2021-06-19T07:44:12.510245",
     "status": "completed"
    },
    "tags": []
   },
   "source": [
    "#### Separate the dataset in X and Y columns"
   ]
  },
  {
   "cell_type": "code",
   "execution_count": 77,
   "id": "veterinary-beauty",
   "metadata": {
    "execution": {
     "iopub.execute_input": "2021-06-19T07:44:12.924653Z",
     "iopub.status.busy": "2021-06-19T07:44:12.924009Z",
     "iopub.status.idle": "2021-06-19T07:44:12.928685Z",
     "shell.execute_reply": "2021-06-19T07:44:12.928116Z"
    },
    "papermill": {
     "duration": 0.146673,
     "end_time": "2021-06-19T07:44:12.928841",
     "exception": false,
     "start_time": "2021-06-19T07:44:12.782168",
     "status": "completed"
    },
    "tags": []
   },
   "outputs": [],
   "source": [
    "X=final_df.drop('Price',axis=1)\n",
    "y=df['Price']"
   ]
  },
  {
   "cell_type": "markdown",
   "id": "ff1365dc",
   "metadata": {},
   "source": [
    "# Looking for Correlations"
   ]
  },
  {
   "cell_type": "code",
   "execution_count": 78,
   "id": "5d246496",
   "metadata": {},
   "outputs": [],
   "source": [
    "corr_matrix = df.corr()"
   ]
  },
  {
   "cell_type": "code",
   "execution_count": 79,
   "id": "e32a0093",
   "metadata": {},
   "outputs": [
    {
     "data": {
      "text/plain": [
       "Price                1.000000\n",
       "dur_hour             0.508778\n",
       "Arrival_Time_hour    0.024244\n",
       "journey_month        0.010705\n",
       "Dep_Time_hour        0.006799\n",
       "Dep_Time_min        -0.024458\n",
       "Arrival_Time_min    -0.086155\n",
       "dur_min             -0.124855\n",
       "journey_day         -0.165448\n",
       "Name: Price, dtype: float64"
      ]
     },
     "execution_count": 79,
     "metadata": {},
     "output_type": "execute_result"
    }
   ],
   "source": [
    "corr_matrix[\"Price\"].sort_values(ascending=False)"
   ]
  },
  {
   "cell_type": "code",
   "execution_count": 80,
   "id": "20fa78fe",
   "metadata": {},
   "outputs": [
    {
     "data": {
      "image/png": "[encoded data removed]",
      "text/plain": [
       "<Figure size 720x576 with 2 Axes>"
      ]
     },
     "metadata": {
      "needs_background": "light"
     },
     "output_type": "display_data"
    }
   ],
   "source": [
    "plt.figure(figsize=(10,8))\n",
    "sns.heatmap(corr_matrix, annot=True,cmap=plt.cm.Blues)\n",
    "plt.show()"
   ]
  },
  {
   "cell_type": "markdown",
   "id": "wound-spirit",
   "metadata": {
    "papermill": {
     "duration": 0.150065,
     "end_time": "2021-06-19T07:44:13.218103",
     "exception": false,
     "start_time": "2021-06-19T07:44:13.068038",
     "status": "completed"
    },
    "tags": []
   },
   "source": [
    "# Feature Selection "
   ]
  },
  {
   "cell_type": "code",
   "execution_count": 81,
   "id": "metallic-arbitration",
   "metadata": {
    "execution": {
     "iopub.execute_input": "2021-06-19T07:44:13.511050Z",
     "iopub.status.busy": "2021-06-19T07:44:13.510325Z",
     "iopub.status.idle": "2021-06-19T07:44:13.729020Z",
     "shell.execute_reply": "2021-06-19T07:44:13.728419Z"
    },
    "papermill": {
     "duration": 0.367293,
     "end_time": "2021-06-19T07:44:13.729157",
     "exception": false,
     "start_time": "2021-06-19T07:44:13.361864",
     "status": "completed"
    },
    "tags": []
   },
   "outputs": [],
   "source": [
    "from sklearn.feature_selection import mutual_info_classif"
   ]
  },
  {
   "cell_type": "code",
   "execution_count": 82,
   "id": "sweet-cocktail",
   "metadata": {
    "execution": {
     "iopub.execute_input": "2021-06-19T07:44:14.007251Z",
     "iopub.status.busy": "2021-06-19T07:44:14.006644Z",
     "iopub.status.idle": "2021-06-19T07:44:38.443062Z",
     "shell.execute_reply": "2021-06-19T07:44:38.442427Z"
    },
    "papermill": {
     "duration": 24.575951,
     "end_time": "2021-06-19T07:44:38.443188",
     "exception": false,
     "start_time": "2021-06-19T07:44:13.867237",
     "status": "completed"
    },
    "tags": []
   },
   "outputs": [
    {
     "data": {
      "text/plain": [
       "array([2.15961468, 2.05272581, 2.80319455, 2.28863731, 1.41456282,\n",
       "       0.79051216, 0.76480173, 0.08765099, 0.66888125, 0.93979913,\n",
       "       0.        , 0.56160359, 0.01408418, 0.32718856, 0.01482178,\n",
       "       0.21949005, 0.        , 0.17295269, 1.52452957, 0.88867958,\n",
       "       0.28501531, 1.54162825, 0.70564075, 0.28333258, 0.16553647,\n",
       "       1.07940135, 0.87744962, 1.41609938, 1.19444538, 1.8729099 ,\n",
       "       1.54615518, 1.77508201, 1.07144953])"
      ]
     },
     "execution_count": 82,
     "metadata": {},
     "output_type": "execute_result"
    }
   ],
   "source": [
    "mutual_info_classif(X,y)"
   ]
  },
  {
   "cell_type": "code",
   "execution_count": 83,
   "id": "southwest-reference",
   "metadata": {
    "execution": {
     "iopub.execute_input": "2021-06-19T07:44:38.724921Z",
     "iopub.status.busy": "2021-06-19T07:44:38.724091Z",
     "iopub.status.idle": "2021-06-19T07:45:03.338577Z",
     "shell.execute_reply": "2021-06-19T07:45:03.338020Z"
    },
    "papermill": {
     "duration": 24.757377,
     "end_time": "2021-06-19T07:45:03.338745",
     "exception": false,
     "start_time": "2021-06-19T07:44:38.581368",
     "status": "completed"
    },
    "tags": []
   },
   "outputs": [
    {
     "data": {
      "text/html": [
       "<div>\n",
       "<style scoped>\n",
       "    .dataframe tbody tr th:only-of-type {\n",
       "        vertical-align: middle;\n",
       "    }\n",
       "\n",
       "    .dataframe tbody tr th {\n",
       "        vertical-align: top;\n",
       "    }\n",
       "\n",
       "    .dataframe thead th {\n",
       "        text-align: right;\n",
       "    }\n",
       "</style>\n",
       "<table border=\"1\" class=\"dataframe\">\n",
       "  <thead>\n",
       "    <tr style=\"text-align: right;\">\n",
       "      <th></th>\n",
       "      <th>importance</th>\n",
       "    </tr>\n",
       "  </thead>\n",
       "  <tbody>\n",
       "    <tr>\n",
       "      <th>Route2</th>\n",
       "      <td>2.794096</td>\n",
       "    </tr>\n",
       "    <tr>\n",
       "      <th>Route3</th>\n",
       "      <td>2.313811</td>\n",
       "    </tr>\n",
       "    <tr>\n",
       "      <th>Total_Stops</th>\n",
       "      <td>2.124499</td>\n",
       "    </tr>\n",
       "    <tr>\n",
       "      <th>Route1</th>\n",
       "      <td>2.034391</td>\n",
       "    </tr>\n",
       "    <tr>\n",
       "      <th>Arrival_Time_hour</th>\n",
       "      <td>1.848264</td>\n",
       "    </tr>\n",
       "    <tr>\n",
       "      <th>dur_hour</th>\n",
       "      <td>1.775337</td>\n",
       "    </tr>\n",
       "    <tr>\n",
       "      <th>Delhi</th>\n",
       "      <td>1.545172</td>\n",
       "    </tr>\n",
       "    <tr>\n",
       "      <th>Arrival_Time_min</th>\n",
       "      <td>1.524371</td>\n",
       "    </tr>\n",
       "    <tr>\n",
       "      <th>Cochin</th>\n",
       "      <td>1.511356</td>\n",
       "    </tr>\n",
       "    <tr>\n",
       "      <th>Route4</th>\n",
       "      <td>1.460288</td>\n",
       "    </tr>\n",
       "    <tr>\n",
       "      <th>Dep_Time_hour</th>\n",
       "      <td>1.433294</td>\n",
       "    </tr>\n",
       "    <tr>\n",
       "      <th>Dep_Time_min</th>\n",
       "      <td>1.189844</td>\n",
       "    </tr>\n",
       "    <tr>\n",
       "      <th>journey_day</th>\n",
       "      <td>1.087597</td>\n",
       "    </tr>\n",
       "    <tr>\n",
       "      <th>dur_min</th>\n",
       "      <td>1.060670</td>\n",
       "    </tr>\n",
       "    <tr>\n",
       "      <th>Jet Airways</th>\n",
       "      <td>0.922561</td>\n",
       "    </tr>\n",
       "    <tr>\n",
       "      <th>Kolkata</th>\n",
       "      <td>0.857244</td>\n",
       "    </tr>\n",
       "    <tr>\n",
       "      <th>journey_month</th>\n",
       "      <td>0.846231</td>\n",
       "    </tr>\n",
       "    <tr>\n",
       "      <th>Air India</th>\n",
       "      <td>0.780294</td>\n",
       "    </tr>\n",
       "    <tr>\n",
       "      <th>Delhi</th>\n",
       "      <td>0.715813</td>\n",
       "    </tr>\n",
       "    <tr>\n",
       "      <th>Route5</th>\n",
       "      <td>0.705652</td>\n",
       "    </tr>\n",
       "    <tr>\n",
       "      <th>IndiGo</th>\n",
       "      <td>0.685675</td>\n",
       "    </tr>\n",
       "    <tr>\n",
       "      <th>Multiple carriers</th>\n",
       "      <td>0.592513</td>\n",
       "    </tr>\n",
       "    <tr>\n",
       "      <th>SpiceJet</th>\n",
       "      <td>0.326390</td>\n",
       "    </tr>\n",
       "    <tr>\n",
       "      <th>Hyderabad</th>\n",
       "      <td>0.304471</td>\n",
       "    </tr>\n",
       "    <tr>\n",
       "      <th>Mumbai</th>\n",
       "      <td>0.300777</td>\n",
       "    </tr>\n",
       "    <tr>\n",
       "      <th>Vistara</th>\n",
       "      <td>0.231018</td>\n",
       "    </tr>\n",
       "    <tr>\n",
       "      <th>Kolkata</th>\n",
       "      <td>0.172289</td>\n",
       "    </tr>\n",
       "    <tr>\n",
       "      <th>Chennai</th>\n",
       "      <td>0.170633</td>\n",
       "    </tr>\n",
       "    <tr>\n",
       "      <th>GoAir</th>\n",
       "      <td>0.102961</td>\n",
       "    </tr>\n",
       "    <tr>\n",
       "      <th>Multiple carriers Premium economy</th>\n",
       "      <td>0.029316</td>\n",
       "    </tr>\n",
       "    <tr>\n",
       "      <th>Vistara Premium economy</th>\n",
       "      <td>0.012672</td>\n",
       "    </tr>\n",
       "    <tr>\n",
       "      <th>Trujet</th>\n",
       "      <td>0.000368</td>\n",
       "    </tr>\n",
       "    <tr>\n",
       "      <th>Jet Airways Business</th>\n",
       "      <td>0.000000</td>\n",
       "    </tr>\n",
       "  </tbody>\n",
       "</table>\n",
       "</div>"
      ],
      "text/plain": [
       "                                   importance\n",
       "Route2                               2.794096\n",
       "Route3                               2.313811\n",
       "Total_Stops                          2.124499\n",
       "Route1                               2.034391\n",
       "Arrival_Time_hour                    1.848264\n",
       "dur_hour                             1.775337\n",
       "Delhi                                1.545172\n",
       "Arrival_Time_min                     1.524371\n",
       "Cochin                               1.511356\n",
       "Route4                               1.460288\n",
       "Dep_Time_hour                        1.433294\n",
       "Dep_Time_min                         1.189844\n",
       "journey_day                          1.087597\n",
       "dur_min                              1.060670\n",
       "Jet Airways                          0.922561\n",
       "Kolkata                              0.857244\n",
       "journey_month                        0.846231\n",
       "Air India                            0.780294\n",
       "Delhi                                0.715813\n",
       "Route5                               0.705652\n",
       "IndiGo                               0.685675\n",
       "Multiple carriers                    0.592513\n",
       "SpiceJet                             0.326390\n",
       "Hyderabad                            0.304471\n",
       "Mumbai                               0.300777\n",
       "Vistara                              0.231018\n",
       "Kolkata                              0.172289\n",
       "Chennai                              0.170633\n",
       "GoAir                                0.102961\n",
       "Multiple carriers Premium economy    0.029316\n",
       "Vistara Premium economy              0.012672\n",
       "Trujet                               0.000368\n",
       "Jet Airways Business                 0.000000"
      ]
     },
     "execution_count": 83,
     "metadata": {},
     "output_type": "execute_result"
    }
   ],
   "source": [
    "imp = pd.DataFrame(mutual_info_classif(X,y),index=X.columns, columns=['importance'])\n",
    "imp.sort_values(by='importance',ascending=False)"
   ]
  },
  {
   "cell_type": "markdown",
   "id": "7ec6d3ae",
   "metadata": {},
   "source": [
    "# Create a Test Set"
   ]
  },
  {
   "cell_type": "code",
   "execution_count": 84,
   "id": "floral-module",
   "metadata": {
    "execution": {
     "iopub.execute_input": "2021-06-19T07:45:04.474299Z",
     "iopub.status.busy": "2021-06-19T07:45:04.473682Z",
     "iopub.status.idle": "2021-06-19T07:45:04.481052Z",
     "shell.execute_reply": "2021-06-19T07:45:04.480459Z"
    },
    "papermill": {
     "duration": 0.152907,
     "end_time": "2021-06-19T07:45:04.481190",
     "exception": false,
     "start_time": "2021-06-19T07:45:04.328283",
     "status": "completed"
    },
    "tags": []
   },
   "outputs": [],
   "source": [
    "# spiliting the dataset\n",
    "from sklearn.model_selection import train_test_split\n",
    "X_train,X_test,y_train,y_test = train_test_split(X,y,test_size=0.20,random_state=1)"
   ]
  },
  {
   "cell_type": "code",
   "execution_count": 85,
   "id": "7175ff9e",
   "metadata": {},
   "outputs": [
    {
     "data": {
      "text/plain": [
       "(8545, 33)"
      ]
     },
     "execution_count": 85,
     "metadata": {},
     "output_type": "execute_result"
    }
   ],
   "source": [
    "X_train.shape"
   ]
  },
  {
   "cell_type": "code",
   "execution_count": 86,
   "id": "a68b991b",
   "metadata": {},
   "outputs": [
    {
     "data": {
      "text/plain": [
       "(2137, 33)"
      ]
     },
     "execution_count": 86,
     "metadata": {},
     "output_type": "execute_result"
    }
   ],
   "source": [
    "X_test.shape"
   ]
  },
  {
   "cell_type": "markdown",
   "id": "usual-committee",
   "metadata": {
    "papermill": {
     "duration": 0.140127,
     "end_time": "2021-06-19T07:45:04.188201",
     "exception": false,
     "start_time": "2021-06-19T07:45:04.048074",
     "status": "completed"
    },
    "tags": []
   },
   "source": [
    "# Select and Train a Model"
   ]
  },
  {
   "cell_type": "markdown",
   "id": "60527390",
   "metadata": {},
   "source": [
    "#### Training and Analyzing the models"
   ]
  },
  {
   "cell_type": "code",
   "execution_count": 87,
   "id": "artistic-notion",
   "metadata": {
    "execution": {
     "iopub.execute_input": "2021-06-19T07:45:04.760258Z",
     "iopub.status.busy": "2021-06-19T07:45:04.759582Z",
     "iopub.status.idle": "2021-06-19T07:45:04.769553Z",
     "shell.execute_reply": "2021-06-19T07:45:04.769049Z"
    },
    "papermill": {
     "duration": 0.150623,
     "end_time": "2021-06-19T07:45:04.769666",
     "exception": false,
     "start_time": "2021-06-19T07:45:04.619043",
     "status": "completed"
    },
    "tags": []
   },
   "outputs": [],
   "source": [
    "from sklearn.metrics import r2_score,mean_absolute_error,mean_squared_error\n",
    "r2_scores = {}\n",
    "def predict(ml_model):\n",
    "    print('Model is: {}'.format(ml_model))\n",
    "    model= ml_model.fit(X_train,y_train)\n",
    "    print(\"Training score: {}\".format(model.score(X_train,y_train)))\n",
    "    predictions = model.predict(X_test)\n",
    "    print(\"Predictions are: {}\".format(predictions))\n",
    "    print('\\n')\n",
    "    r2score=r2_score(y_test,predictions) \n",
    "    print(\"r2 score is: {}\".format(r2score))\n",
    "\n",
    "    r2_scores[f'{ml_model}'] = r2score\n",
    "          \n",
    "    print('MAE:{}'.format(mean_absolute_error(y_test,predictions)))\n",
    "    print('MSE:{}'.format(mean_squared_error(y_test,predictions)))\n",
    "    print('RMSE:{}'.format(np.sqrt(mean_squared_error(y_test,predictions))))\n",
    "     \n",
    "    sns.distplot(y_test-predictions)      \n",
    "          "
   ]
  },
  {
   "cell_type": "code",
   "execution_count": 88,
   "id": "polish-burning",
   "metadata": {
    "execution": {
     "iopub.execute_input": "2021-06-19T07:45:04.960376Z",
     "iopub.status.busy": "2021-06-19T07:45:04.959935Z",
     "iopub.status.idle": "2021-06-19T07:45:05.035576Z",
     "shell.execute_reply": "2021-06-19T07:45:05.036007Z"
    },
    "papermill": {
     "duration": 0.174075,
     "end_time": "2021-06-19T07:45:05.036154",
     "exception": false,
     "start_time": "2021-06-19T07:45:04.862079",
     "status": "completed"
    },
    "tags": []
   },
   "outputs": [],
   "source": [
    "from sklearn.linear_model import LogisticRegression\n",
    "from sklearn.neighbors import KNeighborsRegressor\n",
    "from sklearn.tree import DecisionTreeRegressor\n",
    "from sklearn.ensemble import GradientBoostingRegressor,RandomForestRegressor\n",
    "from sklearn.svm import SVR"
   ]
  },
  {
   "cell_type": "code",
   "execution_count": 89,
   "id": "german-thousand",
   "metadata": {
    "execution": {
     "iopub.execute_input": "2021-06-19T07:45:05.224102Z",
     "iopub.status.busy": "2021-06-19T07:45:05.223606Z",
     "iopub.status.idle": "2021-06-19T07:45:09.216392Z",
     "shell.execute_reply": "2021-06-19T07:45:09.216905Z"
    },
    "papermill": {
     "duration": 4.088675,
     "end_time": "2021-06-19T07:45:09.217093",
     "exception": false,
     "start_time": "2021-06-19T07:45:05.128418",
     "status": "completed"
    },
    "tags": []
   },
   "outputs": [
    {
     "name": "stdout",
     "output_type": "stream",
     "text": [
      "Model is: RandomForestRegressor()\n",
      "Training score: 0.9536988517969215\n",
      "Predictions are: [ 5276.18       12038.32916667 13268.57633333 ... 13869.59633333\n",
      "  7091.63        3819.85      ]\n",
      "\n",
      "\n",
      "r2 score is: 0.8168107984389563\n",
      "MAE:1163.855137474144\n",
      "MSE:3757336.999522618\n",
      "RMSE:1938.385152523259\n"
     ]
    },
    {
     "data": {
      "image/png": "[encoded data removed]",
      "text/plain": [
       "<Figure size 432x288 with 1 Axes>"
      ]
     },
     "metadata": {
      "needs_background": "light"
     },
     "output_type": "display_data"
    }
   ],
   "source": [
    "predict(RandomForestRegressor())"
   ]
  },
  {
   "cell_type": "code",
   "execution_count": 90,
   "id": "94f44d1f",
   "metadata": {},
   "outputs": [
    {
     "name": "stdout",
     "output_type": "stream",
     "text": [
      "Model is: KNeighborsRegressor()\n",
      "Training score: 0.7547734296765187\n",
      "Predictions are: [ 5207.2 11498.6 12182.2 ...  9391.6 14108.   4263. ]\n",
      "\n",
      "\n",
      "r2 score is: 0.6242123001895463\n",
      "MAE:1787.884885353299\n",
      "MSE:7707665.170388395\n",
      "RMSE:2776.268209375383\n"
     ]
    },
    {
     "data": {
      "image/png": "[encoded data removed]",
      "text/plain": [
       "<Figure size 432x288 with 1 Axes>"
      ]
     },
     "metadata": {
      "needs_background": "light"
     },
     "output_type": "display_data"
    }
   ],
   "source": [
    "predict(KNeighborsRegressor())"
   ]
  },
  {
   "cell_type": "code",
   "execution_count": 91,
   "id": "grave-feeling",
   "metadata": {
    "execution": {
     "iopub.execute_input": "2021-06-19T07:45:09.782075Z",
     "iopub.status.busy": "2021-06-19T07:45:09.781451Z",
     "iopub.status.idle": "2021-06-19T07:47:25.108037Z",
     "shell.execute_reply": "2021-06-19T07:47:25.107492Z"
    },
    "papermill": {
     "duration": 135.470926,
     "end_time": "2021-06-19T07:47:25.108180",
     "exception": false,
     "start_time": "2021-06-19T07:45:09.637254",
     "status": "completed"
    },
    "tags": []
   },
   "outputs": [
    {
     "name": "stdout",
     "output_type": "stream",
     "text": [
      "Model is: LogisticRegression()\n",
      "Training score: 0.3471035693387946\n",
      "Predictions are: [5228 8610 8610 ... 7740 6795 3383]\n",
      "\n",
      "\n",
      "r2 score is: 0.4526041892022997\n",
      "MAE:2045.5956948993917\n",
      "MSE:11227466.00655124\n",
      "RMSE:3350.741113030256\n"
     ]
    },
    {
     "data": {
      "image/png": "[encoded data removed]",
      "text/plain": [
       "<Figure size 432x288 with 1 Axes>"
      ]
     },
     "metadata": {
      "needs_background": "light"
     },
     "output_type": "display_data"
    }
   ],
   "source": [
    "predict(LogisticRegression())"
   ]
  },
  {
   "cell_type": "code",
   "execution_count": 92,
   "metadata": {},
   "outputs": [
    {
     "name": "stdout",
     "output_type": "stream",
     "text": [
      "Model is: GradientBoostingRegressor()\n",
      "Training score: 0.8115098419794184\n",
      "Predictions are: [ 5263.47418488 11663.78351989 12038.16213412 ... 11888.10307991\n",
      "  9869.52450629  4740.77367482]\n",
      "\n",
      "\n",
      "r2 score is: 0.767535517658215\n",
      "MAE:1487.6827579260494\n",
      "MSE:4768007.028441598\n",
      "RMSE:2183.5766596209983\n"
     ]
    },
    {
     "data": {
      "image/png": "[encoded data removed]",
      "text/plain": [
       "<Figure size 432x288 with 1 Axes>"
      ]
     },
     "metadata": {
      "needs_background": "light"
     },
     "output_type": "display_data"
    }
   ],
   "source": [
    "predict(GradientBoostingRegressor())"
   ]
  },
  {
   "cell_type": "code",
   "execution_count": 93,
   "id": "pending-security",
   "metadata": {
    "execution": {
     "iopub.execute_input": "2021-06-19T07:47:27.577541Z",
     "iopub.status.busy": "2021-06-19T07:47:27.576892Z",
     "iopub.status.idle": "2021-06-19T07:47:27.901318Z",
     "shell.execute_reply": "2021-06-19T07:47:27.900880Z"
    },
    "papermill": {
     "duration": 0.466993,
     "end_time": "2021-06-19T07:47:27.901431",
     "exception": false,
     "start_time": "2021-06-19T07:47:27.434438",
     "status": "completed"
    },
    "tags": []
   },
   "outputs": [
    {
     "name": "stdout",
     "output_type": "stream",
     "text": [
      "Model is: DecisionTreeRegressor()\n",
      "Training score: 0.9714645354714544\n",
      "Predictions are: [ 5911. 10844. 13469. ... 13067.  6795.  4282.]\n",
      "\n",
      "\n",
      "r2 score is: 0.6978111433185821\n",
      "MAE:1363.6287084698174\n",
      "MSE:6198102.084495269\n",
      "RMSE:2489.598779822819\n"
     ]
    },
    {
     "data": {
      "image/png": "[encoded data removed]",
      "text/plain": [
       "<Figure size 432x288 with 1 Axes>"
      ]
     },
     "metadata": {
      "needs_background": "light"
     },
     "output_type": "display_data"
    }
   ],
   "source": [
    "predict(DecisionTreeRegressor())"
   ]
  },
  {
   "cell_type": "code",
   "execution_count": 94,
   "id": "micro-smooth",
   "metadata": {
    "execution": {
     "iopub.execute_input": "2021-06-19T07:47:28.105156Z",
     "iopub.status.busy": "2021-06-19T07:47:28.104618Z",
     "iopub.status.idle": "2021-06-19T07:47:52.250865Z",
     "shell.execute_reply": "2021-06-19T07:47:52.251255Z"
    },
    "papermill": {
     "duration": 24.252353,
     "end_time": "2021-06-19T07:47:52.251397",
     "exception": false,
     "start_time": "2021-06-19T07:47:27.999044",
     "status": "completed"
    },
    "tags": []
   },
   "outputs": [
    {
     "name": "stdout",
     "output_type": "stream",
     "text": [
      "Model is: SVR()\n",
      "Training score: 0.04060421702221295\n",
      "Predictions are: [7838.59703934 8664.38860015 8374.24992665 ... 8470.32879296 8319.53892139\n",
      " 7811.84634148]\n",
      "\n",
      "\n",
      "r2 score is: 0.036065312385283876\n",
      "MAE:3391.8389177780923\n",
      "MSE:19770965.952330742\n",
      "RMSE:4446.455436899232\n"
     ]
    },
    {
     "data": {
      "image/png": "[encoded data removed]",
      "text/plain": [
       "<Figure size 432x288 with 1 Axes>"
      ]
     },
     "metadata": {
      "needs_background": "light"
     },
     "output_type": "display_data"
    }
   ],
   "source": [
    "predict(SVR())"
   ]
  },
  {
   "cell_type": "markdown",
   "id": "afdd7f6a",
   "metadata": {},
   "source": [
    "# Analyze the Models"
   ]
  },
  {
   "cell_type": "code",
   "execution_count": 95,
   "id": "86d54574",
   "metadata": {},
   "outputs": [
    {
     "data": {
      "image/png": "[encoded data removed]",
      "text/plain": [
       "<Figure size 1080x432 with 1 Axes>"
      ]
     },
     "metadata": {
      "needs_background": "light"
     },
     "output_type": "display_data"
    }
   ],
   "source": [
    "# Comparing Different R2 Scores\n",
    "plt.figure(figsize=(15,6))\n",
    "scores = pd.DataFrame(r2_scores.items(),columns=['Model', 'Accuracy'])\n",
    "ax = sns.barplot(data=scores.sort_values(\"Accuracy\", ascending = False),x='Model',y='Accuracy',palette='Blues')\n",
    "ax.bar_label(ax.containers[0]);"
   ]
  },
  {
   "cell_type": "markdown",
   "id": "electric-oliver",
   "metadata": {
    "papermill": {
     "duration": 0.148097,
     "end_time": "2021-06-19T07:47:54.269758",
     "exception": false,
     "start_time": "2021-06-19T07:47:54.121661",
     "status": "completed"
    },
    "tags": []
   },
   "source": [
    "# Fine-Tune The Model"
   ]
  },
  {
   "cell_type": "markdown",
   "id": "0b3c68ab",
   "metadata": {},
   "source": [
    "## Randomized Search"
   ]
  },
  {
   "cell_type": "code",
   "execution_count": 96,
   "id": "preliminary-alberta",
   "metadata": {
    "execution": {
     "iopub.execute_input": "2021-06-19T07:47:54.577010Z",
     "iopub.status.busy": "2021-06-19T07:47:54.576430Z",
     "iopub.status.idle": "2021-06-19T07:47:54.580746Z",
     "shell.execute_reply": "2021-06-19T07:47:54.580328Z"
    },
    "papermill": {
     "duration": 0.159397,
     "end_time": "2021-06-19T07:47:54.580856",
     "exception": false,
     "start_time": "2021-06-19T07:47:54.421459",
     "status": "completed"
    },
    "tags": []
   },
   "outputs": [],
   "source": [
    "from sklearn.model_selection import RandomizedSearchCV\n"
   ]
  },
  {
   "cell_type": "code",
   "execution_count": 97,
   "id": "smaller-daniel",
   "metadata": {
    "execution": {
     "iopub.execute_input": "2021-06-19T07:47:54.781918Z",
     "iopub.status.busy": "2021-06-19T07:47:54.781222Z",
     "iopub.status.idle": "2021-06-19T07:47:54.783635Z",
     "shell.execute_reply": "2021-06-19T07:47:54.783019Z"
    },
    "papermill": {
     "duration": 0.105216,
     "end_time": "2021-06-19T07:47:54.783789",
     "exception": false,
     "start_time": "2021-06-19T07:47:54.678573",
     "status": "completed"
    },
    "tags": []
   },
   "outputs": [],
   "source": [
    "random_grid = {\n",
    "    'n_estimators' : [100, 120, 150, 180, 200,220],\n",
    "    'max_features':['auto','sqrt'],\n",
    "    'max_depth':[5,10,15,20],\n",
    "    }"
   ]
  },
  {
   "cell_type": "code",
   "execution_count": 98,
   "id": "infrared-nigeria",
   "metadata": {
    "execution": {
     "iopub.execute_input": "2021-06-19T07:47:55.092359Z",
     "iopub.status.busy": "2021-06-19T07:47:55.091730Z",
     "iopub.status.idle": "2021-06-19T07:48:14.546485Z",
     "shell.execute_reply": "2021-06-19T07:48:14.545775Z"
    },
    "papermill": {
     "duration": 19.611054,
     "end_time": "2021-06-19T07:48:14.546633",
     "exception": false,
     "start_time": "2021-06-19T07:47:54.935579",
     "status": "completed"
    },
    "tags": []
   },
   "outputs": [
    {
     "name": "stdout",
     "output_type": "stream",
     "text": [
      "Fitting 3 folds for each of 10 candidates, totalling 30 fits\n",
      "[CV] END ...max_depth=5, max_features=sqrt, n_estimators=120; total time=   0.6s[CV] END ...max_depth=5, max_features=sqrt, n_estimators=120; total time=   0.7s\n",
      "\n",
      "[CV] END ..max_depth=10, max_features=sqrt, n_estimators=180; total time=   1.8s\n",
      "[CV] END ..max_depth=10, max_features=sqrt, n_estimators=180; total time=   1.9s\n",
      "[CV] END ..max_depth=10, max_features=sqrt, n_estimators=180; total time=   2.0s\n",
      "[CV] END ...max_depth=5, max_features=sqrt, n_estimators=120; total time=   0.9s\n",
      "[CV] END ..max_depth=20, max_features=sqrt, n_estimators=220; total time=   4.2s\n",
      "[CV] END ..max_depth=20, max_features=sqrt, n_estimators=220; total time=   4.3s\n",
      "[CV] END ..max_depth=10, max_features=auto, n_estimators=180; total time=   7.1s\n",
      "[CV] END ..max_depth=10, max_features=auto, n_estimators=180; total time=   6.5s\n",
      "[CV] END ..max_depth=10, max_features=auto, n_estimators=180; total time=   6.4s\n",
      "[CV] END ..max_depth=20, max_features=sqrt, n_estimators=220; total time=   5.0s\n",
      "[CV] END ..max_depth=20, max_features=auto, n_estimators=220; total time=  13.8s\n",
      "[CV] END ..max_depth=20, max_features=auto, n_estimators=220; total time=  14.3s\n",
      "[CV] END ..max_depth=20, max_features=auto, n_estimators=220; total time=  14.3s\n",
      "[CV] END ..max_depth=20, max_features=auto, n_estimators=120; total time=   8.7s\n",
      "[CV] END ..max_depth=20, max_features=auto, n_estimators=120; total time=   8.0s\n",
      "[CV] END ..max_depth=20, max_features=auto, n_estimators=120; total time=   8.1s\n",
      "[CV] END ..max_depth=15, max_features=sqrt, n_estimators=150; total time=   2.3s\n",
      "[CV] END ..max_depth=15, max_features=sqrt, n_estimators=150; total time=   2.3s\n",
      "[CV] END ..max_depth=15, max_features=sqrt, n_estimators=150; total time=   2.4s\n",
      "[CV] END ..max_depth=20, max_features=auto, n_estimators=200; total time=  13.0s\n",
      "[CV] END ..max_depth=15, max_features=sqrt, n_estimators=180; total time=   3.3s\n",
      "[CV] END ..max_depth=20, max_features=auto, n_estimators=200; total time=  11.9s\n",
      "[CV] END ..max_depth=15, max_features=sqrt, n_estimators=180; total time=   2.9s\n",
      "[CV] END ..max_depth=15, max_features=sqrt, n_estimators=180; total time=   2.7s\n",
      "[CV] END ..max_depth=20, max_features=auto, n_estimators=200; total time=  11.0s\n",
      "[CV] END ..max_depth=15, max_features=auto, n_estimators=220; total time=  10.5s\n",
      "[CV] END ..max_depth=15, max_features=auto, n_estimators=220; total time=   9.9s\n",
      "[CV] END ..max_depth=15, max_features=auto, n_estimators=220; total time=  10.6s\n"
     ]
    },
    {
     "data": {
      "text/plain": [
       "{'n_estimators': 180, 'max_features': 'auto', 'max_depth': 10}"
      ]
     },
     "execution_count": 98,
     "metadata": {},
     "output_type": "execute_result"
    }
   ],
   "source": [
    "rf=RandomForestRegressor()\n",
    "rf_random=RandomizedSearchCV(estimator=rf,param_distributions=random_grid,cv=3,verbose=2,n_jobs=-1,)\n",
    "\n",
    "rf_random.fit(X_train,y_train)\n",
    "\n",
    "# best parameter\n",
    "rf_random.best_params_"
   ]
  },
  {
   "cell_type": "code",
   "execution_count": 99,
   "id": "secondary-participation",
   "metadata": {
    "execution": {
     "iopub.execute_input": "2021-06-19T07:48:14.854111Z",
     "iopub.status.busy": "2021-06-19T07:48:14.853309Z",
     "iopub.status.idle": "2021-06-19T07:48:14.858305Z",
     "shell.execute_reply": "2021-06-19T07:48:14.857626Z"
    },
    "papermill": {
     "duration": 0.159526,
     "end_time": "2021-06-19T07:48:14.858442",
     "exception": false,
     "start_time": "2021-06-19T07:48:14.698916",
     "status": "completed"
    },
    "tags": []
   },
   "outputs": [
    {
     "data": {
      "text/plain": [
       "{'n_estimators': 180, 'max_features': 'auto', 'max_depth': 10}"
      ]
     },
     "execution_count": 99,
     "metadata": {},
     "output_type": "execute_result"
    }
   ],
   "source": [
    "# best parameter\n",
    "rf_random.best_params_"
   ]
  },
  {
   "cell_type": "markdown",
   "id": "38ce7242",
   "metadata": {},
   "source": [
    "# Evaluate the System"
   ]
  },
  {
   "cell_type": "code",
   "execution_count": 100,
   "id": "offshore-saying",
   "metadata": {
    "execution": {
     "iopub.execute_input": "2021-06-19T07:48:15.169172Z",
     "iopub.status.busy": "2021-06-19T07:48:15.168506Z",
     "iopub.status.idle": "2021-06-19T07:48:15.655734Z",
     "shell.execute_reply": "2021-06-19T07:48:15.655089Z"
    },
    "papermill": {
     "duration": 0.645422,
     "end_time": "2021-06-19T07:48:15.655866",
     "exception": false,
     "start_time": "2021-06-19T07:48:15.010444",
     "status": "completed"
    },
    "tags": []
   },
   "outputs": [
    {
     "data": {
      "text/plain": [
       "<seaborn.axisgrid.FacetGrid at 0x7f9795eae550>"
      ]
     },
     "execution_count": 100,
     "metadata": {},
     "output_type": "execute_result"
    },
    {
     "data": {
      "image/png": "[encoded data removed]",
      "text/plain": [
       "<Figure size 360x360 with 1 Axes>"
      ]
     },
     "metadata": {
      "needs_background": "light"
     },
     "output_type": "display_data"
    }
   ],
   "source": [
    "# predicting the values\n",
    "prediction = rf_random.predict(X_test)\n",
    "\n",
    "# distribution plot between actual value and predicted value\n",
    "sns.displot(y_test-prediction)"
   ]
  },
  {
   "cell_type": "code",
   "execution_count": 101,
   "id": "marine-publication",
   "metadata": {
    "execution": {
     "iopub.execute_input": "2021-06-19T07:48:15.965974Z",
     "iopub.status.busy": "2021-06-19T07:48:15.965325Z",
     "iopub.status.idle": "2021-06-19T07:48:15.970472Z",
     "shell.execute_reply": "2021-06-19T07:48:15.969861Z"
    },
    "papermill": {
     "duration": 0.162195,
     "end_time": "2021-06-19T07:48:15.970609",
     "exception": false,
     "start_time": "2021-06-19T07:48:15.808414",
     "status": "completed"
    },
    "tags": []
   },
   "outputs": [
    {
     "data": {
      "text/plain": [
       "0.8260418390924128"
      ]
     },
     "execution_count": 101,
     "metadata": {},
     "output_type": "execute_result"
    }
   ],
   "source": [
    "r2_score(y_test,prediction)"
   ]
  }
 ],
 "metadata": {
  "kernelspec": {
   "display_name": "Python 3",
   "language": "python",
   "name": "python3"
  },
  "language_info": {
   "codemirror_mode": {
    "name": "ipython",
    "version": 3
   },
   "file_extension": ".py",
   "mimetype": "text/x-python",
   "name": "python",
   "nbconvert_exporter": "python",
   "pygments_lexer": "ipython3",
   "version": "3.9.5"
  },
  "papermill": {
   "default_parameters": {},
   "duration": 292.237159,
   "end_time": "2021-06-19T07:48:17.548728",
   "environment_variables": {},
   "exception": null,
   "input_path": "__notebook__.ipynb",
   "output_path": "__notebook__.ipynb",
   "parameters": {},
   "start_time": "2021-06-19T07:43:25.311569",
   "version": "2.3.3"
  }
 },
 "nbformat": 4,
 "nbformat_minor": 5
}
